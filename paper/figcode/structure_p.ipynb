{
 "cells": [
  {
   "cell_type": "code",
   "execution_count": 1,
   "id": "aab39d76-7fd0-421a-89b4-43019b1bb1c6",
   "metadata": {},
   "outputs": [],
   "source": [
    "%matplotlib inline\n",
    "\n",
    "from pathlib import Path \n",
    "\n",
    "\n",
    "import numpy as np\n",
    "import pandas as pd\n",
    "\n",
    "import matplotlib as mpl\n",
    "import matplotlib.pyplot as plt\n",
    "import matplotlib.patches as mpatches\n",
    "import matplotlib.transforms as mtransforms\n",
    "import matplotlib.colors as mcolors\n",
    "import matplotlib.cm as mcm\n",
    "\n",
    "from mpl_toolkits.axisartist.axislines import AxesZero\n",
    "\n",
    "\n",
    "import papercolors as pc\n",
    "from papercolors import colordict as pcd\n",
    "\n",
    "paper_path = Path('../figures/tex/')\n",
    "\n",
    "fs={'normal': 10, 'small':9, 'footnote':8, 'script':7, 'tiny':5, 'heading':12}\n"
   ]
  },
  {
   "cell_type": "code",
   "execution_count": 2,
   "id": "2a2257a8-9bc8-4801-8bfc-d2cbd96bfe7f",
   "metadata": {},
   "outputs": [],
   "source": [
    "mpl.rcParams['text.usetex'] = True\n",
    "mpl.rcParams['text.latex.preamble'] = r'\\usepackage{{amsmath}}'\n",
    "mpl.rc('font', family='serif', serif=\"Times New Roman\")\n",
    "mpl.rcParams['figure.dpi']=200\n",
    "mpl.rc(\"pgf\", texsystem = \"pdflatex\", preamble = \"\\n\".join(\n",
    "    [r\"\\usepackage{inputenc}\", \n",
    "     r\"\\usepackage[T1]{fontenc}\",\n",
    "     r\"\\usepackage{cmbright}\",\n",
    "     r'\\usepackage{{amsmath}}', \n",
    "    ]))"
   ]
  },
  {
   "cell_type": "code",
   "execution_count": 3,
   "id": "24189a40-f281-4da3-9477-a2d8de98f4f1",
   "metadata": {},
   "outputs": [],
   "source": [
    "x = np.array([[1,0,0], [0, 1, 0], [0, 0, 1]])\n",
    "y = np.array([[0, -1, -1], [-1, 0, -1], [-1, -1, 0]])"
   ]
  },
  {
   "cell_type": "code",
   "execution_count": 4,
   "id": "d48e4a1f-272b-42cb-83b2-ee35412fe56d",
   "metadata": {},
   "outputs": [],
   "source": [
    "cmap = mcolors.ListedColormap(['orange', 'white', 'purple'])\n",
    "norm = mcolors.Normalize(vmin=-1, vmax=1)"
   ]
  },
  {
   "cell_type": "code",
   "execution_count": 5,
   "id": "936dbe87-4dc7-4c10-ab32-b1325b671127",
   "metadata": {},
   "outputs": [
    {
     "data": {
      "image/png": "[encoded data removed]",
      "text/plain": [
       "<Figure size 400x200 with 2 Axes>"
      ]
     },
     "metadata": {},
     "output_type": "display_data"
    }
   ],
   "source": [
    "fig, ax = plt.subplots(figsize=(2, 1))\n",
    "ax.set(xticks=[], yticks=[], xlim=(0,2), ylim=(0,1), aspect='equal')\n",
    "\n",
    "w = h = .25\n",
    "left = 0+w*.25\n",
    "right = 1-w\n",
    "top = 1-w*1.25\n",
    "bottom = 0+w*.25\n",
    "\n",
    "boxes = [('x', (left, top)),('y', (left+ w*.75, top)), ('x+y', (right, top)), ('fx', (left, bottom)),('fy', (left+ w*.75, bottom)) , ('fx+y', (right, bottom))]\n",
    "axd = {}\n",
    "for (d, (xi, yi)) in boxes:\n",
    "    axd[d] = ax.inset_axes([xi, yi, w, h])\n",
    "    axd[d].set(xticks=[], yticks=[], aspect='equal')\n",
    "    \n",
    "# (x,y), # (f(x), f(y)\n",
    "for axn, d in [('x', x), ('y', y)]:\n",
    "    axd[axn].imshow(d, cmap=cmap, norm=norm)\n",
    "    axd[axn].spines[:].set_edgecolor(pcd['section'])\n",
    "    axd[f\"f{axn}\"].imshow(d*-1, cmap=cmap, norm=norm)\n",
    "    axd[f\"f{axn}\"].spines[:].set_edgecolor(pcd['action'])\n",
    "\n",
    "for axn, d, ec in [('x+y', x+y, 'fiber'), ('fx+y', (x+y)*-1, 'section')]:\n",
    "    im = axd[axn].imshow(d, cmap=cmap, norm=norm)\n",
    "    axd[axn].spines[:].set_edgecolor(pcd[ec])\n",
    "\n",
    "# arrows: annotate: tail, head, tail=text, xy=head\n",
    "# f(x), f(y)\n",
    "for l in ['x', 'y', 'x+y']:\n",
    "    f = ax.annotate(\"\", (.5, 1), (.5,0), xycoords= axd[f'f{l}'], textcoords= axd[l], arrowprops=dict(arrowstyle=\"->,widthA=.15,lengthA=0\", color=pcd['action'])) \n",
    "    ax.annotate(f\"f({l})\", xytext=(.4, .55), xy=(0,0), textcoords=f, ha='right', va='center', fontsize=fs['tiny'], color=pcd['action'], rotation=0)\n",
    "\n",
    "for (s, t, lab) in [('y', 'x+y', 'x+y'), ('fy', 'fx+y', 'f(x)+f(y)')]:\n",
    "    f = ax.annotate(\"\", (0, .5), (1, .5), xycoords= axd[t], textcoords= axd[s], arrowprops=dict(arrowstyle=\"->,widthA=.15,lengthA=0\", color=pcd['fiber']))\n",
    "    ax.annotate(lab, xytext=(.5, 1), xy=(0,0), textcoords=f, ha='center', va='bottom', fontsize=fs['tiny'], color=pcd['fiber'], rotation=0)\n",
    "ax.spines[:].set_edgecolor('white')\n",
    "cb = fig.colorbar(mcm.ScalarMappable(norm=norm, cmap=cmap), ax=ax, fraction=.04, aspect=10,  spacing='uniform', drawedges=True)\n",
    "cb.set_ticks([-1+(2/6), 0, 1-(2/6)])\n",
    "cb.set_ticklabels([-1, 0, 1], fontsize=fs['tiny'], color=pcd['artist'],)\n",
    "cb.ax.spines[:].set_edgecolor(pcd['artist'])\n",
    "cb.ax.tick_params(length=0, color=pcd['artist'])"
   ]
  },
  {
   "cell_type": "code",
   "execution_count": 195,
   "id": "aac23594-9c73-404a-9ebe-5ba4e6faf6fb",
   "metadata": {},
   "outputs": [
    {
     "data": {
      "image/png": "[encoded data removed]",
      "text/plain": [
       "<Figure size 400x200 with 2 Axes>"
      ]
     },
     "metadata": {},
     "output_type": "display_data"
    }
   ],
   "source": [
    "fig, (ax1, ax2) = plt.subplots(ncols=2, figsize=(2, 1), layout='compressed')\n",
    "\n",
    "for ax in [ax1, ax2]:\n",
    "    ax.set(xticks=[], yticks=[], aspect='equal')\n",
    "\n",
    "b1y1 = .775\n",
    "b2y2 = .05\n",
    "x1 = 0.02\n",
    "\n",
    "bw = .075\n",
    "b1h = .075\n",
    "b2h = .15\n",
    "b1x1 = .7\n",
    "\n",
    "for ax in [ax1, ax2]:\n",
    "    ax.text(.5, .5,  \"$max(A, B)$\", fontsize=fs['tiny'], color=pcd['fiber'], ha='center', va='center')\n",
    "    \n",
    "    xy = ax.text(x1, b1y1, \"[0, 1]\", ha='left', va='bottom', fontsize=fs['footnote'], color=pcd['section'])\n",
    "    xley = ax.annotate(\"$1$\", xy=(0,0), xytext=(.5, b2y2), textcoords=(xy, 'data'), ha='center', va='bottom', fontsize=fs['footnote'], color=pcd['section'])\n",
    "    \n",
    "    # arrows: annotate: tail, head, tail=text, xy=head\n",
    "    \n",
    "    f = ax.annotate(\"\", (.475, 1), (.475,0), xycoords=(xy, xley) , textcoords= xy, arrowprops=dict(arrowstyle=\"->,widthA=.15,lengthA=0\", color=pcd['fiber'])) \n",
    "\n",
    "    gap = .075\n",
    "\n",
    "    if ax == ax1:\n",
    "        b1 = mpatches.Rectangle((b1x1,b1y1), bw, b1h, ec = pcd['section'], fc=(pcd['section'], .4), lw=.5)\n",
    "        b2  = mpatches.Rectangle((b1x1+bw + gap,b1y1), bw, b2h, ec = pcd['section'], fc=(pcd['section'], .4), lw=.5) \n",
    "        b3 = mpatches.Rectangle((b1x1+(bw + gap)/2, b2y2), bw, b2h, ec = pcd['section'], fc=(pcd['section'], .4), lw=.5) \n",
    "    else:\n",
    "        b1 = mpatches.Rectangle((b1x1, b1y1), bw, b2h, ec = pcd['section'], fc=(pcd['section'], .4), lw=.5)\n",
    "        b2  = mpatches.Rectangle((b1x1+bw + gap,b1y1), bw, b1h, ec = pcd['section'], fc=(pcd['section'], .4), lw=.5) \n",
    "        hoff = .1\n",
    "        b3 = mpatches.Rectangle((b1x1+(bw + gap)/2, b2y2 + hoff), bw, b2h, ec = pcd['section'], fc=(pcd['section'], .4), lw=.5) \n",
    "        b4 =  mpatches.Rectangle((b1x1+(bw + gap)/2 - hoff, b2y2), bw, b1h, ec = pcd['section'], fc=(pcd['section'], .4), lw=.5) \n",
    "        ax.add_patch(b4)\n",
    "        \n",
    "    for b in [b1, b2, b3]:\n",
    "        ax.add_patch(b)\n",
    "    \n",
    "    f2 = ax.annotate(\"\", (.5, 1), (.5,0), xycoords=b3 , textcoords= (b3, b1), arrowprops=dict(arrowstyle=\"->,widthA=.15,lengthA=0\", color=pcd['fiber'])) \n",
    "    \n",
    "    #t1 = ax.text(b1x1-bw/2, b1y1+b2h/2, \"[\", ha='left', va='center', fontsize=fs['heading'], color=pcd['section'])\n",
    "    #t2 = ax.text(b1x1+2*bw+gap, b1y1+b2h/2, \"$]$\", ha='left', va='center', fontsize=fs['heading'], color=pcd['section'])\n",
    "    #ax.text(b1x1+(bw + gap*.75), b1y1-gap/2, \"$,$\", ha='center', va='bottom', fontsize=fs['normal'], color=pcd['section'])\n",
    "    \n",
    "    # artists\n",
    "    if ax==ax1: \n",
    "        loc = ((b3, xley), xley)\n",
    "    else:\n",
    "        loc = ((b4, xley), xley)\n",
    "\n",
    "    for xy, text in [(b1, (xy, b1)), loc]:\n",
    "        a = ax.annotate(\"\", (0, .5), (1, .5), xycoords=xy, textcoords=text,  arrowprops=dict(arrowstyle=\"->,widthA=.15,lengthA=0\", color=pcd['artist']))\n",
    "        ax.annotate(\"f\", xy=(0,0), xytext =(.5, .75), textcoords=a, ha='center', va='bottom', color=pcd['artist'],  fontsize=fs['footnote'])\n",
    "\n",
    "    if ax == ax2:\n",
    "        ax.text((b1x1+(bw + gap)/2), b2y2, \"?\")\n"
   ]
  },
  {
   "cell_type": "code",
   "execution_count": 81,
   "id": "c71cf896-c657-4257-8bc8-90db6273a0d2",
   "metadata": {},
   "outputs": [
    {
     "data": {
      "text/plain": [
       "dict_keys(['total', 'fiber', 'base', 'section', 'artist', 'homset', 'action', 'monoid', 'sheaf', 'source', 'target', 'functor', 'nattran', 'set'])"
      ]
     },
     "execution_count": 81,
     "metadata": {},
     "output_type": "execute_result"
    }
   ],
   "source": [
    "pcd.keys()"
   ]
  },
  {
   "cell_type": "code",
   "execution_count": 101,
   "id": "f90dfd25-a54d-4a33-935f-fcafb40f7ae7",
   "metadata": {},
   "outputs": [
    {
     "data": {
      "text/plain": [
       "0.6666666666666666"
      ]
     },
     "execution_count": 101,
     "metadata": {},
     "output_type": "execute_result"
    }
   ],
   "source": [
    "2/3"
   ]
  },
  {
   "cell_type": "code",
   "execution_count": null,
   "id": "312bdd74-708b-42e4-a927-1d567a501785",
   "metadata": {},
   "outputs": [],
   "source": []
  }
 ],
 "metadata": {
  "kernelspec": {
   "display_name": "Python 3 (ipykernel)",
   "language": "python",
   "name": "python3"
  },
  "language_info": {
   "codemirror_mode": {
    "name": "ipython",
    "version": 3
   },
   "file_extension": ".py",
   "mimetype": "text/x-python",
   "name": "python",
   "nbconvert_exporter": "python",
   "pygments_lexer": "ipython3",
   "version": "3.12.0"
  }
 },
 "nbformat": 4,
 "nbformat_minor": 5
}
