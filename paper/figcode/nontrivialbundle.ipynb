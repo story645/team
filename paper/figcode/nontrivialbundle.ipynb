{
 "cells": [
  {
   "cell_type": "code",
   "execution_count": 3,
   "id": "fdb7108b-b196-49a9-9963-47d6c1ac0784",
   "metadata": {},
   "outputs": [],
   "source": [
    "%matplotlib inline"
   ]
  },
  {
   "cell_type": "code",
   "execution_count": 4,
   "id": "e350b09a-4538-4406-8d03-8ef7511400ea",
   "metadata": {},
   "outputs": [],
   "source": [
    "import itertools \n",
    "from pathlib import Path\n",
    "\n",
    "import numpy as np\n",
    "\n",
    "import matplotlib.pyplot as plt\n",
    "import matplotlib.tri as mtri\n",
    "import matplotlib.patches as mpatches\n",
    "from mpl_toolkits.mplot3d import proj3d\n",
    "import mpl_toolkits.mplot3d.art3d as art3d\n",
    "\n",
    "import highlight_text as ht\n",
    "\n",
    "import intro_plots as ip\n",
    "from papercolors import colordict as pcd\n",
    "\n",
    "paper_path = Path('../figures/')\n"
   ]
  },
  {
   "cell_type": "code",
   "execution_count": 5,
   "id": "167b57f1-365a-4c8d-ac49-2b198db990fd",
   "metadata": {},
   "outputs": [],
   "source": [
    "# https://github.com/matplotlib/matplotlib/issues/21688#issuecomment-974912574\n",
    "\n",
    "class FancyArrowPatch3D(mpatches.FancyArrowPatch):\n",
    "    def __init__(self, posA, posB, *args, **kwargs):\n",
    "        mpatches.FancyArrowPatch.__init__(self, (0, 0), (0, 0), *args, **kwargs)\n",
    "        self._verts3d = list(zip(posA, posB))\n",
    "        \n",
    "    def do_3d_projection(self, renderer=None):\n",
    "        xs3d,  ys3d , zs3d, = self._verts3d\n",
    "        xs, ys, zs = proj3d.proj_transform(xs3d, ys3d, zs3d, self.axes.M)\n",
    "        self.set_positions((xs[0],ys[0]),(xs[1],ys[1]))\n",
    "\n",
    "        return np.min(zs)\n",
    "        "
   ]
  },
  {
   "cell_type": "code",
   "execution_count": 21,
   "id": "af4d3eb2-1f8f-459b-8572-114454671c39",
   "metadata": {},
   "outputs": [],
   "source": [
    "def make_mobius(ax):\n",
    "    # Make a mesh in the space of parameterisation variables u and v\n",
    "    u = np.linspace(0, 2.0 * np.pi, endpoint=True, num=50)\n",
    "    v = np.linspace(-0.5, 0.5, endpoint=True, num=10)\n",
    "    u, v = np.meshgrid(u, v)\n",
    "    u, v = u.flatten(), v.flatten()\n",
    "\n",
    "    # This is the Mobius mapping, taking a u, v pair and returning an x, y, z\n",
    "    # triple\n",
    "    R = 1.5\n",
    "    x = R*((1 + 0.5 * v * np.cos(u / 2.0)) * np.cos(u))\n",
    "    y = R*(1 + 0.5 * v * np.cos(u / 2.0)) * np.sin(u)\n",
    "    z = 0.5 * v * np.sin(u / 2.0)\n",
    "\n",
    "    # Triangulate parameter space to determine the triangles\n",
    "    tri = mtri.Triangulation(u, v)\n",
    "\n",
    "    # Plot the surface.  The triangles in parameter space determine which x, y, z\n",
    "    # points are connected by an edge.\n",
    "    ax.plot_trisurf(x, y, z, triangles=tri.triangles, color=pcd['total'], edgecolor=None, alpha=.25)\n",
    "    ax.text3D(0,-.65 , .5, \"E\", color=pcd['total'])\n",
    "\n",
    "    # z is up\n",
    "    # x is right\n",
    "    # y is left\n",
    "    zb = -1\n",
    "\n",
    "    f1 ={'ind':15, 'zoff':.5, 'fiber':r\"$F_{1} = [-1, 1]$\", 'section':r\"$sin(k_{1})$\"}\n",
    "    f2 ={'ind':43, 'zoff':.35, 'fiber':r\"$F_{2} = [1, -1]$\", 'section':r\"$sin(k_{-1})$\"}\n",
    "\n",
    "\n",
    "    for fd in [f1, f2]:\n",
    "        fx = x[fd['ind']]\n",
    "        fy = y[fd['ind']]\n",
    "        fz = z[fd['ind']]\n",
    "        ax.plot([fx, fx], [fy, fy], [fz, fz+fd['zoff']], color=pcd['fiber'])\n",
    "        ax.text3D(fx, fy+.2, fz+fd['zoff'], fd['fiber'], va='bottom', ha='center', color=pcd['fiber'])\n",
    "\n",
    "        fp = FancyArrowPatch3D((fx, fy, fz), (fx, fy, zb+.05),  arrowstyle='->', \n",
    "                                        mutation_scale=20, color='gray')\n",
    "        ax.add_artist(fp)\n",
    "\n",
    "\n",
    "        ty =  fz + .25         \n",
    "        ax.scatter(fx, fy, ty, color=pcd['section'])\n",
    "        ft = FancyArrowPatch3D((fx, fy, zb+.1), (fx, fy, ty),  arrowstyle='->', \n",
    "                                connectionstyle='arc3,rad=.35', color=pcd['section'], \n",
    "                                mutation_scale=20)\n",
    "        ax.add_patch(ft)\n",
    "\n",
    "        mid = zb + (fz-zb)/2\n",
    "        ax.text3D(fx, fy-.05, mid, r\"$\\pi$\", color=\"gray\", ha='right')\n",
    "        ax.text3D(fx+.5, fy + .2, mid+.1, r\"$sin($\" + f'{fx:.2f}' + r\"$)$\", color=pcd['section'], ha='left')\n",
    "\n",
    "\n",
    "    xo, yo = (0, 0)\n",
    "    t = np.linspace(0, 2*np.pi, 500)\n",
    "    ex =  np.cos(t)\n",
    "    ey = np.sin(t)\n",
    "    ax.plot(R*ex, R*ey, zb,  color=pcd['base'], lw=2)\n",
    "\n",
    "    #ax.set_proj_type('ortho')\n",
    "    ax.view_init(15, -20)\n",
    "\n",
    "    ax.set_zlim(-1, .35)\n",
    "\n",
    "    ax.axis('off')"
   ]
  },
  {
   "cell_type": "code",
   "execution_count": null,
   "id": "76bc760b-961d-437d-98a6-5fc59e729e86",
   "metadata": {},
   "outputs": [],
   "source": [
    "def make_trivial(ax):\n",
    "    "
   ]
  },
  {
   "cell_type": "code",
   "execution_count": 22,
   "id": "89593680-fc6a-44b3-8d86-16e122ba8fe5",
   "metadata": {},
   "outputs": [
    {
     "data": {
      "image/png": "[encoded data removed]",
      "text/plain": [
       "<Figure size 720x720 with 1 Axes>"
      ]
     },
     "metadata": {
      "needs_background": "light"
     },
     "output_type": "display_data"
    }
   ],
   "source": [
    "fig = plt.figure(figsize=(10,10))\n",
    "ax = fig.add_subplot(1, 2, 1, projection='3d')\n",
    "make_mobius(ax)\n",
    "fig.savefig(paper_path/\"fbtau\", bbox_inches='tight', dpi=200)\n"
   ]
  },
  {
   "cell_type": "code",
   "execution_count": null,
   "id": "07da53b1-96c1-4996-a56e-923c720f8a10",
   "metadata": {},
   "outputs": [],
   "source": []
  }
 ],
 "metadata": {
  "kernelspec": {
   "display_name": "Python 3",
   "language": "python",
   "name": "python3"
  },
  "language_info": {
   "codemirror_mode": {
    "name": "ipython",
    "version": 3
   },
   "file_extension": ".py",
   "mimetype": "text/x-python",
   "name": "python",
   "nbconvert_exporter": "python",
   "pygments_lexer": "ipython3",
   "version": "3.7.7"
  }
 },
 "nbformat": 4,
 "nbformat_minor": 5
}
