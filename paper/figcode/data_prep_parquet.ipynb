{
 "cells": [
  {
   "cell_type": "code",
   "execution_count": 1,
   "id": "da707e55-c19d-4d55-b68d-ab730eab2fd3",
   "metadata": {},
   "outputs": [],
   "source": [
    "%matplotlib inline"
   ]
  },
  {
   "cell_type": "code",
   "execution_count": 2,
   "id": "95c19269-6693-4865-8b10-a2c8a9a34d52",
   "metadata": {},
   "outputs": [
    {
     "name": "stderr",
     "output_type": "stream",
     "text": [
      "C:\\Users\\story\\miniconda3\\envs\\paper\\Lib\\site-packages\\dask\\dataframe\\_pyarrow_compat.py:17: FutureWarning: Minimal version of pyarrow will soon be increased to 14.0.1. You are using 11.0.0. Please consider upgrading.\n",
      "  warnings.warn(\n"
     ]
    }
   ],
   "source": [
    "from pathlib import Path\n",
    "\n",
    "import dask.dataframe as dd\n",
    "import pandas as pd"
   ]
  },
  {
   "cell_type": "code",
   "execution_count": 3,
   "id": "5bfd3ee8-e1c5-45da-bb0f-4d6e09357ec4",
   "metadata": {},
   "outputs": [],
   "source": [
    "# {column name:extents of the fixed-width fields}\n",
    "columns = {\"ID\": (0,11), \"LATITUDE\": (12, 20), \"LONGITUDE\": (21, 30), \"ELEVATION\": (31, 37),\"STATE\": (38, 40),\n",
    "           \"NAME\": (41, 71), \"GSN FLAG\": (72, 75), \"HCN/CRN FLAG\": (76, 79),\"WMO ID\": (80, 85)}\n",
    "df = pd.read_fwf(\"http://noaa-ghcn-pds.s3.amazonaws.com/ghcnd-stations.txt\", \n",
    "                    colspecs=list(columns.values()), names=list(columns.keys())).dropna(subset=['STATE'])"
   ]
  },
  {
   "cell_type": "code",
   "execution_count": 4,
   "id": "d04778f9-72c3-4cb4-a9c5-ca3f8218daf9",
   "metadata": {},
   "outputs": [],
   "source": [
    "nydf = df[df['STATE'].str.match(\"NY\")]"
   ]
  },
  {
   "cell_type": "code",
   "execution_count": 5,
   "id": "53258b03-6b59-4af7-b318-9ba221035718",
   "metadata": {},
   "outputs": [
    {
     "data": {
      "text/html": [
       "<div>\n",
       "<style scoped>\n",
       "    .dataframe tbody tr th:only-of-type {\n",
       "        vertical-align: middle;\n",
       "    }\n",
       "\n",
       "    .dataframe tbody tr th {\n",
       "        vertical-align: top;\n",
       "    }\n",
       "\n",
       "    .dataframe thead th {\n",
       "        text-align: right;\n",
       "    }\n",
       "</style>\n",
       "<table border=\"1\" class=\"dataframe\">\n",
       "  <thead>\n",
       "    <tr style=\"text-align: right;\">\n",
       "      <th></th>\n",
       "      <th>ID</th>\n",
       "      <th>LATITUDE</th>\n",
       "      <th>LONGITUDE</th>\n",
       "      <th>ELEVATION</th>\n",
       "      <th>STATE</th>\n",
       "      <th>NAME</th>\n",
       "      <th>GSN FLAG</th>\n",
       "      <th>HCN/CRN FLAG</th>\n",
       "      <th>WMO ID</th>\n",
       "    </tr>\n",
       "  </thead>\n",
       "  <tbody>\n",
       "    <tr>\n",
       "      <th>82048</th>\n",
       "      <td>US1NYAB0001</td>\n",
       "      <td>42.6670</td>\n",
       "      <td>-74.0509</td>\n",
       "      <td>445.0</td>\n",
       "      <td>NY</td>\n",
       "      <td>ALTAMONT 2.7 SSW</td>\n",
       "      <td>NaN</td>\n",
       "      <td>NaN</td>\n",
       "      <td>NaN</td>\n",
       "    </tr>\n",
       "    <tr>\n",
       "      <th>82049</th>\n",
       "      <td>US1NYAB0006</td>\n",
       "      <td>42.7198</td>\n",
       "      <td>-73.9304</td>\n",
       "      <td>88.7</td>\n",
       "      <td>NY</td>\n",
       "      <td>SCHENECTADY 5.6 SSW</td>\n",
       "      <td>NaN</td>\n",
       "      <td>NaN</td>\n",
       "      <td>NaN</td>\n",
       "    </tr>\n",
       "    <tr>\n",
       "      <th>82050</th>\n",
       "      <td>US1NYAB0010</td>\n",
       "      <td>42.5455</td>\n",
       "      <td>-74.1475</td>\n",
       "      <td>488.3</td>\n",
       "      <td>NY</td>\n",
       "      <td>RENSSELAERVILLE 2.1 NNW</td>\n",
       "      <td>NaN</td>\n",
       "      <td>NaN</td>\n",
       "      <td>NaN</td>\n",
       "    </tr>\n",
       "    <tr>\n",
       "      <th>82051</th>\n",
       "      <td>US1NYAB0016</td>\n",
       "      <td>42.7590</td>\n",
       "      <td>-73.7370</td>\n",
       "      <td>104.2</td>\n",
       "      <td>NY</td>\n",
       "      <td>LATHAM 1.1 NNE</td>\n",
       "      <td>NaN</td>\n",
       "      <td>NaN</td>\n",
       "      <td>NaN</td>\n",
       "    </tr>\n",
       "    <tr>\n",
       "      <th>82052</th>\n",
       "      <td>US1NYAB0017</td>\n",
       "      <td>42.6678</td>\n",
       "      <td>-73.7856</td>\n",
       "      <td>65.5</td>\n",
       "      <td>NY</td>\n",
       "      <td>ALBANY 0.7 E</td>\n",
       "      <td>NaN</td>\n",
       "      <td>NaN</td>\n",
       "      <td>NaN</td>\n",
       "    </tr>\n",
       "  </tbody>\n",
       "</table>\n",
       "</div>"
      ],
      "text/plain": [
       "                ID  LATITUDE  LONGITUDE  ELEVATION STATE  \\\n",
       "82048  US1NYAB0001   42.6670   -74.0509      445.0    NY   \n",
       "82049  US1NYAB0006   42.7198   -73.9304       88.7    NY   \n",
       "82050  US1NYAB0010   42.5455   -74.1475      488.3    NY   \n",
       "82051  US1NYAB0016   42.7590   -73.7370      104.2    NY   \n",
       "82052  US1NYAB0017   42.6678   -73.7856       65.5    NY   \n",
       "\n",
       "                          NAME GSN FLAG HCN/CRN FLAG  WMO ID  \n",
       "82048         ALTAMONT 2.7 SSW      NaN          NaN     NaN  \n",
       "82049      SCHENECTADY 5.6 SSW      NaN          NaN     NaN  \n",
       "82050  RENSSELAERVILLE 2.1 NNW      NaN          NaN     NaN  \n",
       "82051           LATHAM 1.1 NNE      NaN          NaN     NaN  \n",
       "82052             ALBANY 0.7 E      NaN          NaN     NaN  "
      ]
     },
     "execution_count": 5,
     "metadata": {},
     "output_type": "execute_result"
    }
   ],
   "source": [
    "#ny stations\n",
    "nydf.head()"
   ]
  },
  {
   "cell_type": "code",
   "execution_count": 6,
   "id": "84c3723f-311f-4939-ab05-cb666a34e2ac",
   "metadata": {},
   "outputs": [],
   "source": [
    "YEAR = 2021\n",
    "elements = [\"TAVG\", \"PRCP\"]\n",
    "dfs = {var : dd.read_parquet( f\"s3://noaa-ghcn-pds/parquet/by_year/YEAR={YEAR}/ELEMENT={var}/\", storage_options={\"anon\": True}) for var in elements}"
   ]
  },
  {
   "cell_type": "code",
   "execution_count": 7,
   "id": "194adcb6-77be-49ff-a657-e08319691d8f",
   "metadata": {},
   "outputs": [
    {
     "data": {
      "text/plain": [
       "{'TAVG': Dask DataFrame Structure:\n",
       "                    ID    DATE DATA_VALUE  M_FLAG  Q_FLAG  S_FLAG OBS_TIME             YEAR          ELEMENT\n",
       " npartitions=4                                                                                              \n",
       "                object  object      int64  object  object  object   object  category[known]  category[known]\n",
       "                   ...     ...        ...     ...     ...     ...      ...              ...              ...\n",
       "                   ...     ...        ...     ...     ...     ...      ...              ...              ...\n",
       "                   ...     ...        ...     ...     ...     ...      ...              ...              ...\n",
       "                   ...     ...        ...     ...     ...     ...      ...              ...              ...\n",
       " Dask Name: read-parquet, 1 graph layer,\n",
       " 'PRCP': Dask DataFrame Structure:\n",
       "                     ID    DATE DATA_VALUE  M_FLAG  Q_FLAG  S_FLAG OBS_TIME             YEAR          ELEMENT\n",
       " npartitions=23                                                                                              \n",
       "                 object  object      int64  object  object  object   object  category[known]  category[known]\n",
       "                    ...     ...        ...     ...     ...     ...      ...              ...              ...\n",
       " ...                ...     ...        ...     ...     ...     ...      ...              ...              ...\n",
       "                    ...     ...        ...     ...     ...     ...      ...              ...              ...\n",
       "                    ...     ...        ...     ...     ...     ...      ...              ...              ...\n",
       " Dask Name: read-parquet, 1 graph layer}"
      ]
     },
     "execution_count": 7,
     "metadata": {},
     "output_type": "execute_result"
    }
   ],
   "source": [
    "dfs"
   ]
  },
  {
   "cell_type": "code",
   "execution_count": 8,
   "id": "a5b6234a-331b-4da5-b67b-5ab280105ccd",
   "metadata": {},
   "outputs": [],
   "source": [
    "nyds = {var : dfs[var][dfs[var]['ID'].isin(nydf['ID'])] for var in elements}"
   ]
  },
  {
   "cell_type": "code",
   "execution_count": 9,
   "id": "9e5b99c4-4ae9-4ef6-b76d-3bf376af5c3a",
   "metadata": {},
   "outputs": [],
   "source": [
    "data = nyds['TAVG'].merge(nyds['PRCP'], on=['ID', 'DATE', 'YEAR']).merge(nydf, on=['ID'])"
   ]
  },
  {
   "cell_type": "code",
   "execution_count": 10,
   "id": "632b0af6-b34f-4f05-a26f-112a64905df0",
   "metadata": {},
   "outputs": [
    {
     "data": {
      "text/plain": [
       "Index(['ID', 'DATE', 'DATA_VALUE_x', 'M_FLAG_x', 'Q_FLAG_x', 'S_FLAG_x',\n",
       "       'OBS_TIME_x', 'YEAR', 'ELEMENT_x', 'DATA_VALUE_y', 'M_FLAG_y',\n",
       "       'Q_FLAG_y', 'S_FLAG_y', 'OBS_TIME_y', 'ELEMENT_y', 'LATITUDE',\n",
       "       'LONGITUDE', 'ELEVATION', 'STATE', 'NAME', 'GSN FLAG', 'HCN/CRN FLAG',\n",
       "       'WMO ID'],\n",
       "      dtype='object')"
      ]
     },
     "execution_count": 10,
     "metadata": {},
     "output_type": "execute_result"
    }
   ],
   "source": [
    "data.columns"
   ]
  },
  {
   "cell_type": "code",
   "execution_count": 11,
   "id": "0b8ac918-828b-4bf6-a51a-2e883d4d2143",
   "metadata": {},
   "outputs": [],
   "source": [
    "df = data[['ID',  'DATE', 'DATA_VALUE_x', 'ELEMENT_x','DATA_VALUE_y',  'ELEMENT_y', 'LATITUDE',\n",
    "       'LONGITUDE', 'ELEVATION', 'STATE', 'NAME']].compute()"
   ]
  },
  {
   "cell_type": "code",
   "execution_count": 19,
   "id": "d6baf3c2-db6f-40f9-b1c5-8b964ae75fc5",
   "metadata": {},
   "outputs": [
    {
     "data": {
      "text/plain": [
       "Index(['ID', 'DATE', 'DATA_VALUE_x', 'ELEMENT_x', 'DATA_VALUE_y', 'ELEMENT_y',\n",
       "       'LATITUDE', 'LONGITUDE', 'ELEVATION', 'STATE', 'NAME', 'TAVG', 'PRCP'],\n",
       "      dtype='object')"
      ]
     },
     "execution_count": 19,
     "metadata": {},
     "output_type": "execute_result"
    }
   ],
   "source": [
    "df.columns"
   ]
  },
  {
   "cell_type": "code",
   "execution_count": 14,
   "id": "c88c8fb8-cb37-4166-89d8-7012699c71db",
   "metadata": {},
   "outputs": [],
   "source": [
    "df['TAVG'] = (df['DATA_VALUE_x'].astype(float)/10) *(9/5) + 32"
   ]
  },
  {
   "cell_type": "code",
   "execution_count": 16,
   "id": "7c25c449-e618-420c-b36a-aabc3f4ce273",
   "metadata": {},
   "outputs": [],
   "source": [
    "df['PRCP'] = (df['DATA_VALUE_y'].astype(float)/10) * 0.039370"
   ]
  },
  {
   "cell_type": "code",
   "execution_count": 25,
   "id": "799e015e-b603-45dd-b9ea-9f10b9ad357b",
   "metadata": {},
   "outputs": [
    {
     "name": "stderr",
     "output_type": "stream",
     "text": [
      "C:\\Users\\story\\miniconda3\\envs\\paper\\Lib\\site-packages\\pyarrow\\pandas_compat.py:373: FutureWarning: is_sparse is deprecated and will be removed in a future version. Check `isinstance(dtype, pd.SparseDtype)` instead.\n",
      "  if _pandas_api.is_sparse(col):\n"
     ]
    }
   ],
   "source": [
    "df[['ID', 'NAME',  'LATITUDE', 'LONGITUDE',  'DATE', 'TAVG', 'PRCP']].to_parquet(f\"nydata_{YEAR}.parquet\")"
   ]
  },
  {
   "cell_type": "code",
   "execution_count": 22,
   "id": "74a785f5-31ea-4e6e-b63f-bb20a0bf8d35",
   "metadata": {},
   "outputs": [
    {
     "name": "stdout",
     "output_type": "stream",
     "text": [
      " Volume in drive C is Windows\n",
      " Volume Serial Number is E60F-42E6\n",
      "\n",
      " Directory of C:\\Users\\story\\Projects\\team\n",
      "\n",
      "03/20/2024  06:53 PM    <DIR>          .\n",
      "12/03/2023  04:54 PM    <DIR>          ..\n",
      "08/16/2023  04:18 PM               659 .gitignore\n",
      "03/19/2024  09:52 PM    <DIR>          .ipynb_checkpoints\n",
      "06/06/2023  06:59 PM    <DIR>          .vscode\n",
      "06/07/2023  12:13 AM    <DIR>          _minted-main\n",
      "03/06/2024  04:43 PM               188 environment.yml\n",
      "05/17/2022  08:30 PM    <DIR>          matplottoy\n",
      "03/20/2024  06:53 PM            23,856 nydata..parquet\n",
      "03/19/2024  09:53 PM    <DIR>          paper\n",
      "05/08/2023  03:39 AM                80 README.md\n",
      "03/06/2023  03:19 PM    <DIR>          slides\n",
      "03/06/2024  04:51 PM             3,173 team.code-workspace\n",
      "11/15/2021  07:20 PM               475 todo.md\n",
      "               6 File(s)         28,431 bytes\n",
      "               8 Dir(s)  109,802,700,800 bytes free\n"
     ]
    }
   ],
   "source": [
    "ls"
   ]
  },
  {
   "cell_type": "code",
   "execution_count": 24,
   "id": "ee530c5b-8b0b-4056-b9f4-82f070bdf624",
   "metadata": {},
   "outputs": [
    {
     "name": "stdout",
     "output_type": "stream",
     "text": [
      " Volume in drive C is Windows\n",
      " Volume Serial Number is E60F-42E6\n",
      "\n",
      " Directory of C:\\Users\\story\\Projects\\team\n",
      "\n",
      "03/20/2024  06:54 PM    <DIR>          .\n",
      "12/03/2023  04:54 PM    <DIR>          ..\n",
      "08/16/2023  04:18 PM               659 .gitignore\n",
      "03/19/2024  09:52 PM    <DIR>          .ipynb_checkpoints\n",
      "06/06/2023  06:59 PM    <DIR>          .vscode\n",
      "06/07/2023  12:13 AM    <DIR>          _minted-main\n",
      "03/06/2024  04:43 PM               188 environment.yml\n",
      "05/17/2022  08:30 PM    <DIR>          matplottoy\n",
      "03/20/2024  06:53 PM            23,856 nydata..parquet\n",
      "03/20/2024  06:54 PM            23,856 nydata.parquet\n",
      "03/19/2024  09:53 PM    <DIR>          paper\n",
      "05/08/2023  03:39 AM                80 README.md\n",
      "03/06/2023  03:19 PM    <DIR>          slides\n",
      "03/06/2024  04:51 PM             3,173 team.code-workspace\n",
      "11/15/2021  07:20 PM               475 todo.md\n",
      "               7 File(s)         52,287 bytes\n",
      "               8 Dir(s)  109,802,676,224 bytes free\n"
     ]
    }
   ],
   "source": [
    "ls"
   ]
  },
  {
   "cell_type": "code",
   "execution_count": null,
   "id": "c1b58c84-2863-4bc6-9cd6-ac689f48e9a1",
   "metadata": {},
   "outputs": [],
   "source": []
  }
 ],
 "metadata": {
  "kernelspec": {
   "display_name": "Python 3 (ipykernel)",
   "language": "python",
   "name": "python3"
  },
  "language_info": {
   "codemirror_mode": {
    "name": "ipython",
    "version": 3
   },
   "file_extension": ".py",
   "mimetype": "text/x-python",
   "name": "python",
   "nbconvert_exporter": "python",
   "pygments_lexer": "ipython3",
   "version": "3.12.0"
  }
 },
 "nbformat": 4,
 "nbformat_minor": 5
}
