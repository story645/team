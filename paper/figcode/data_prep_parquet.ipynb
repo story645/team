{
 "cells": [
  {
   "cell_type": "code",
   "execution_count": 1,
   "id": "da707e55-c19d-4d55-b68d-ab730eab2fd3",
   "metadata": {},
   "outputs": [],
   "source": [
    "%matplotlib inline"
   ]
  },
  {
   "cell_type": "code",
   "execution_count": 2,
   "id": "95c19269-6693-4865-8b10-a2c8a9a34d52",
   "metadata": {},
   "outputs": [],
   "source": [
    "from pathlib import Path\n",
    "\n",
    "import dask.dataframe as dd\n",
    "import pandas as pd"
   ]
  },
  {
   "cell_type": "code",
   "execution_count": 3,
   "id": "5bfd3ee8-e1c5-45da-bb0f-4d6e09357ec4",
   "metadata": {},
   "outputs": [],
   "source": [
    "# {column name:extents of the fixed-width fields}\n",
    "columns = {\"ID\": (0,11), \"LATITUDE\": (12, 20), \"LONGITUDE\": (21, 30), \"ELEVATION\": (31, 37),\"STATE\": (38, 40),\n",
    "           \"NAME\": (41, 71), \"GSN FLAG\": (72, 75), \"HCN/CRN FLAG\": (76, 79),\"WMO ID\": (80, 85)}\n",
    "df = pd.read_fwf(\"http://noaa-ghcn-pds.s3.amazonaws.com/ghcnd-stations.txt\", \n",
    "                    colspecs=list(columns.values()), names=list(columns.keys())).dropna(subset=['STATE'])"
   ]
  },
  {
   "cell_type": "code",
   "execution_count": 4,
   "id": "d04778f9-72c3-4cb4-a9c5-ca3f8218daf9",
   "metadata": {},
   "outputs": [],
   "source": [
    "nydf = df[df['STATE'].str.match(\"NY\")]"
   ]
  },
  {
   "cell_type": "code",
   "execution_count": 5,
   "id": "53258b03-6b59-4af7-b318-9ba221035718",
   "metadata": {},
   "outputs": [
    {
     "data": {
      "text/html": [
       "<div>\n",
       "<style scoped>\n",
       "    .dataframe tbody tr th:only-of-type {\n",
       "        vertical-align: middle;\n",
       "    }\n",
       "\n",
       "    .dataframe tbody tr th {\n",
       "        vertical-align: top;\n",
       "    }\n",
       "\n",
       "    .dataframe thead th {\n",
       "        text-align: right;\n",
       "    }\n",
       "</style>\n",
       "<table border=\"1\" class=\"dataframe\">\n",
       "  <thead>\n",
       "    <tr style=\"text-align: right;\">\n",
       "      <th></th>\n",
       "      <th>ID</th>\n",
       "      <th>LATITUDE</th>\n",
       "      <th>LONGITUDE</th>\n",
       "      <th>ELEVATION</th>\n",
       "      <th>STATE</th>\n",
       "      <th>NAME</th>\n",
       "      <th>GSN FLAG</th>\n",
       "      <th>HCN/CRN FLAG</th>\n",
       "      <th>WMO ID</th>\n",
       "    </tr>\n",
       "  </thead>\n",
       "  <tbody>\n",
       "    <tr>\n",
       "      <th>83276</th>\n",
       "      <td>US1NYAB0001</td>\n",
       "      <td>42.6670</td>\n",
       "      <td>-74.0509</td>\n",
       "      <td>445.0</td>\n",
       "      <td>NY</td>\n",
       "      <td>ALTAMONT 2.7 SSW</td>\n",
       "      <td>NaN</td>\n",
       "      <td>NaN</td>\n",
       "      <td>NaN</td>\n",
       "    </tr>\n",
       "    <tr>\n",
       "      <th>83277</th>\n",
       "      <td>US1NYAB0006</td>\n",
       "      <td>42.7198</td>\n",
       "      <td>-73.9304</td>\n",
       "      <td>88.7</td>\n",
       "      <td>NY</td>\n",
       "      <td>SCHENECTADY 5.6 SSW</td>\n",
       "      <td>NaN</td>\n",
       "      <td>NaN</td>\n",
       "      <td>NaN</td>\n",
       "    </tr>\n",
       "    <tr>\n",
       "      <th>83278</th>\n",
       "      <td>US1NYAB0010</td>\n",
       "      <td>42.5455</td>\n",
       "      <td>-74.1475</td>\n",
       "      <td>488.3</td>\n",
       "      <td>NY</td>\n",
       "      <td>RENSSELAERVILLE 2.1 NNW</td>\n",
       "      <td>NaN</td>\n",
       "      <td>NaN</td>\n",
       "      <td>NaN</td>\n",
       "    </tr>\n",
       "    <tr>\n",
       "      <th>83279</th>\n",
       "      <td>US1NYAB0016</td>\n",
       "      <td>42.7590</td>\n",
       "      <td>-73.7370</td>\n",
       "      <td>104.2</td>\n",
       "      <td>NY</td>\n",
       "      <td>LATHAM 1.1 NNE</td>\n",
       "      <td>NaN</td>\n",
       "      <td>NaN</td>\n",
       "      <td>NaN</td>\n",
       "    </tr>\n",
       "    <tr>\n",
       "      <th>83280</th>\n",
       "      <td>US1NYAB0017</td>\n",
       "      <td>42.6678</td>\n",
       "      <td>-73.7856</td>\n",
       "      <td>65.5</td>\n",
       "      <td>NY</td>\n",
       "      <td>ALBANY 0.7 E</td>\n",
       "      <td>NaN</td>\n",
       "      <td>NaN</td>\n",
       "      <td>NaN</td>\n",
       "    </tr>\n",
       "  </tbody>\n",
       "</table>\n",
       "</div>"
      ],
      "text/plain": [
       "                ID  LATITUDE  LONGITUDE  ELEVATION STATE  \\\n",
       "83276  US1NYAB0001   42.6670   -74.0509      445.0    NY   \n",
       "83277  US1NYAB0006   42.7198   -73.9304       88.7    NY   \n",
       "83278  US1NYAB0010   42.5455   -74.1475      488.3    NY   \n",
       "83279  US1NYAB0016   42.7590   -73.7370      104.2    NY   \n",
       "83280  US1NYAB0017   42.6678   -73.7856       65.5    NY   \n",
       "\n",
       "                          NAME GSN FLAG HCN/CRN FLAG  WMO ID  \n",
       "83276         ALTAMONT 2.7 SSW      NaN          NaN     NaN  \n",
       "83277      SCHENECTADY 5.6 SSW      NaN          NaN     NaN  \n",
       "83278  RENSSELAERVILLE 2.1 NNW      NaN          NaN     NaN  \n",
       "83279           LATHAM 1.1 NNE      NaN          NaN     NaN  \n",
       "83280             ALBANY 0.7 E      NaN          NaN     NaN  "
      ]
     },
     "execution_count": 5,
     "metadata": {},
     "output_type": "execute_result"
    }
   ],
   "source": [
    "#ny stations\n",
    "nydf.head()"
   ]
  },
  {
   "cell_type": "code",
   "execution_count": 30,
   "id": "84c3723f-311f-4939-ab05-cb666a34e2ac",
   "metadata": {},
   "outputs": [],
   "source": [
    "YEAR = 2022\n",
    "elements = [\"TAVG\", \"PRCP\"]\n",
    "dfs = {var : dd.read_parquet( f\"s3://noaa-ghcn-pds/parquet/by_year/YEAR={YEAR}/ELEMENT={var}/\", storage_options={\"anon\": True}) for var in elements}"
   ]
  },
  {
   "cell_type": "code",
   "execution_count": 31,
   "id": "194adcb6-77be-49ff-a657-e08319691d8f",
   "metadata": {},
   "outputs": [
    {
     "data": {
      "text/plain": [
       "{'TAVG': Dask DataFrame Structure:\n",
       "                    ID    DATE DATA_VALUE  M_FLAG  Q_FLAG  S_FLAG OBS_TIME             YEAR          ELEMENT\n",
       " npartitions=5                                                                                              \n",
       "                string  string      int64  string  string  string   string  category[known]  category[known]\n",
       "                   ...     ...        ...     ...     ...     ...      ...              ...              ...\n",
       " ...               ...     ...        ...     ...     ...     ...      ...              ...              ...\n",
       "                   ...     ...        ...     ...     ...     ...      ...              ...              ...\n",
       "                   ...     ...        ...     ...     ...     ...      ...              ...              ...\n",
       " Dask Name: read_parquet, 1 expression\n",
       " Expr=ReadParquetFSSpec(64d3f6b),\n",
       " 'PRCP': Dask DataFrame Structure:\n",
       "                     ID    DATE DATA_VALUE  M_FLAG  Q_FLAG  S_FLAG OBS_TIME             YEAR          ELEMENT\n",
       " npartitions=23                                                                                              \n",
       "                 string  string      int64  string  string  string   string  category[known]  category[known]\n",
       "                    ...     ...        ...     ...     ...     ...      ...              ...              ...\n",
       " ...                ...     ...        ...     ...     ...     ...      ...              ...              ...\n",
       "                    ...     ...        ...     ...     ...     ...      ...              ...              ...\n",
       "                    ...     ...        ...     ...     ...     ...      ...              ...              ...\n",
       " Dask Name: read_parquet, 1 expression\n",
       " Expr=ReadParquetFSSpec(d16af04)}"
      ]
     },
     "execution_count": 31,
     "metadata": {},
     "output_type": "execute_result"
    }
   ],
   "source": [
    "dfs"
   ]
  },
  {
   "cell_type": "code",
   "execution_count": 32,
   "id": "a5b6234a-331b-4da5-b67b-5ab280105ccd",
   "metadata": {},
   "outputs": [],
   "source": [
    "nyds = {var : dfs[var][dfs[var]['ID'].isin(nydf['ID'])] for var in elements}"
   ]
  },
  {
   "cell_type": "code",
   "execution_count": 33,
   "id": "9e5b99c4-4ae9-4ef6-b76d-3bf376af5c3a",
   "metadata": {},
   "outputs": [],
   "source": [
    "data = nyds['TAVG'].merge(nyds['PRCP'], on=['ID', 'DATE', 'YEAR']).merge(nydf, on=['ID'])"
   ]
  },
  {
   "cell_type": "code",
   "execution_count": 34,
   "id": "632b0af6-b34f-4f05-a26f-112a64905df0",
   "metadata": {},
   "outputs": [
    {
     "data": {
      "text/plain": [
       "Index(['ID', 'DATE', 'DATA_VALUE_x', 'M_FLAG_x', 'Q_FLAG_x', 'S_FLAG_x',\n",
       "       'OBS_TIME_x', 'YEAR', 'ELEMENT_x', 'DATA_VALUE_y', 'M_FLAG_y',\n",
       "       'Q_FLAG_y', 'S_FLAG_y', 'OBS_TIME_y', 'ELEMENT_y', 'LATITUDE',\n",
       "       'LONGITUDE', 'ELEVATION', 'STATE', 'NAME', 'GSN FLAG', 'HCN/CRN FLAG',\n",
       "       'WMO ID'],\n",
       "      dtype='object')"
      ]
     },
     "execution_count": 34,
     "metadata": {},
     "output_type": "execute_result"
    }
   ],
   "source": [
    "data.columns"
   ]
  },
  {
   "cell_type": "code",
   "execution_count": 35,
   "id": "0b8ac918-828b-4bf6-a51a-2e883d4d2143",
   "metadata": {},
   "outputs": [],
   "source": [
    "df = data[['ID',  'DATE', 'DATA_VALUE_x', 'ELEMENT_x','DATA_VALUE_y',  'ELEMENT_y', 'LATITUDE',\n",
    "       'LONGITUDE', 'ELEVATION', 'STATE', 'NAME']].compute()"
   ]
  },
  {
   "cell_type": "code",
   "execution_count": 36,
   "id": "d6baf3c2-db6f-40f9-b1c5-8b964ae75fc5",
   "metadata": {},
   "outputs": [
    {
     "data": {
      "text/plain": [
       "Index(['ID', 'DATE', 'DATA_VALUE_x', 'ELEMENT_x', 'DATA_VALUE_y', 'ELEMENT_y',\n",
       "       'LATITUDE', 'LONGITUDE', 'ELEVATION', 'STATE', 'NAME'],\n",
       "      dtype='object')"
      ]
     },
     "execution_count": 36,
     "metadata": {},
     "output_type": "execute_result"
    }
   ],
   "source": [
    "df.columns"
   ]
  },
  {
   "cell_type": "code",
   "execution_count": 37,
   "id": "c88c8fb8-cb37-4166-89d8-7012699c71db",
   "metadata": {},
   "outputs": [],
   "source": [
    "df['TAVG'] = (df['DATA_VALUE_x'].astype(float)/10) *(9/5) + 32 # to fahrenheit"
   ]
  },
  {
   "cell_type": "code",
   "execution_count": 38,
   "id": "7c25c449-e618-420c-b36a-aabc3f4ce273",
   "metadata": {},
   "outputs": [],
   "source": [
    "df['PRCP'] = (df['DATA_VALUE_y'].astype(float)/10) * 0.039370 #to inches"
   ]
  },
  {
   "cell_type": "code",
   "execution_count": 39,
   "id": "799e015e-b603-45dd-b9ea-9f10b9ad357b",
   "metadata": {},
   "outputs": [],
   "source": [
    "df[['ID', 'NAME',  'LATITUDE', 'LONGITUDE',  'DATE', 'TAVG', 'PRCP']].to_parquet(f\"nydata_{YEAR}.parquet\")"
   ]
  },
  {
   "cell_type": "code",
   "execution_count": 40,
   "id": "74a785f5-31ea-4e6e-b63f-bb20a0bf8d35",
   "metadata": {},
   "outputs": [
    {
     "data": {
      "text/plain": [
       "<ArrowStringArray>\n",
       "[              'BINGHAMTON',             'LAGUARDIA AP',\n",
       "       'ROCHESTER GTR INTL',    'ISLIP-LI MACARTHUR AP',\n",
       "           'GLENS FALLS AP', 'SYRACUSE HANCOCK INTL AP',\n",
       "              'JFK INTL AP',           'ALBANY INTL AP',\n",
       "                  'BUFFALO']\n",
       "Length: 9, dtype: string"
      ]
     },
     "execution_count": 40,
     "metadata": {},
     "output_type": "execute_result"
    }
   ],
   "source": [
    "df['NAME'].unique()"
   ]
  },
  {
   "cell_type": "code",
   "execution_count": null,
   "id": "c1b58c84-2863-4bc6-9cd6-ac689f48e9a1",
   "metadata": {},
   "outputs": [],
   "source": []
  }
 ],
 "metadata": {
  "kernelspec": {
   "display_name": "Python 3 (ipykernel)",
   "language": "python",
   "name": "python3"
  },
  "language_info": {
   "codemirror_mode": {
    "name": "ipython",
    "version": 3
   },
   "file_extension": ".py",
   "mimetype": "text/x-python",
   "name": "python",
   "nbconvert_exporter": "python",
   "pygments_lexer": "ipython3",
   "version": "3.12.7"
  }
 },
 "nbformat": 4,
 "nbformat_minor": 5
}
