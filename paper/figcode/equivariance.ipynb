{
 "cells": [
  {
   "cell_type": "code",
   "execution_count": 20,
   "id": "cdd954bf",
   "metadata": {},
   "outputs": [],
   "source": [
    "%matplotlib inline"
   ]
  },
  {
   "cell_type": "code",
   "execution_count": 21,
   "id": "7ea3d8da",
   "metadata": {},
   "outputs": [],
   "source": [
    "import itertools"
   ]
  },
  {
   "cell_type": "code",
   "execution_count": 22,
   "id": "345a1f33",
   "metadata": {},
   "outputs": [
    {
     "data": {
      "text/plain": [
       "'3.5.1'"
      ]
     },
     "execution_count": 22,
     "metadata": {},
     "output_type": "execute_result"
    }
   ],
   "source": [
    "import matplotlib; matplotlib.__version__"
   ]
  },
  {
   "cell_type": "code",
   "execution_count": 23,
   "id": "79c8571f",
   "metadata": {},
   "outputs": [],
   "source": [
    "import matplotlib.pyplot as plt\n",
    "import matplotlib.colors as mcolors\n",
    "import matplotlib.patheffects as PathEffects\n",
    "\n",
    "import numpy as np\n"
   ]
  },
  {
   "cell_type": "code",
   "execution_count": 24,
   "id": "6c4c063d",
   "metadata": {},
   "outputs": [],
   "source": [
    "N = 5\n",
    "data = np.tile(np.arange(N),(N,1))"
   ]
  },
  {
   "cell_type": "code",
   "execution_count": 25,
   "id": "56366ea2",
   "metadata": {},
   "outputs": [
    {
     "data": {
      "text/plain": [
       "(5, 5)"
      ]
     },
     "execution_count": 25,
     "metadata": {},
     "output_type": "execute_result"
    }
   ],
   "source": [
    "data.shape"
   ]
  },
  {
   "cell_type": "code",
   "execution_count": 26,
   "id": "00efe63e",
   "metadata": {},
   "outputs": [
    {
     "data": {
      "image/png": "[encoded data removed]",
      "text/html": [
       "<div style=\"vertical-align: middle;\"><strong>viridis</strong> </div><div class=\"cmap\"><img alt=\"viridis colormap\" title=\"viridis\" style=\"border: 1px solid #555;\" src=\"data:image/png;base64,iVBORw0KGgoAAAANSUhEUgAAAgAAAABACAYAAABsv8+/AAAAFnRFWHRUaXRsZQB2aXJpZGlzIGNvbG9ybWFwrE0mCwAAABx0RVh0RGVzY3JpcHRpb24AdmlyaWRpcyBjb2xvcm1hcAtjl3IAAAAwdEVYdEF1dGhvcgBNYXRwbG90bGliIHYzLjUuMSwgaHR0cHM6Ly9tYXRwbG90bGliLm9yZ/e3zs8AAAAydEVYdFNvZnR3YXJlAE1hdHBsb3RsaWIgdjMuNS4xLCBodHRwczovL21hdHBsb3RsaWIub3Jn2RFR6AAAAiJJREFUeJzt1kGSmzAURdEv2FqWkP0vJfQgMhQCGceV2Ttn4pL0EVQPum771X5vVVXVWv39XfrPeV193V5zS98f1sf5/fPjey73zu6/3Hv/uz2cz57f9vP68rxO9+/zre7nhvvG+et6vH92bw3PDfcsD+eX59+/53n96f3362/f87/vf5yr93Of72/fPV9P89tX3zGeH3OT8/07Zs+/32+TuXZZD8/VODf8W5uuH/b7vctlfuv7NazH8/t7ZnP7bz2cD3NL+/Ph3Hl+/efz83vWun/vuL++nquH9eu9w/uu6/vvOO49f/8xf77vOj+8b7Y/fMfse9ca/y7nv+d62a++X+f1vt+G/b7u+/u6TxzzS//tc2053QMABBEAABBIAABAIAEAAIEEAAAEEgAAEEgAAEAgAQAAgQQAAAQSAAAQSAAAQCABAACBBAAABBIAABBIAABAIAEAAIEEAAAEEgAAEEgAAEAgAQAAgQQAAAQSAAAQSAAAQCABAACBBAAABBIAABBIAABAIAEAAIEEAAAEEgAAEEgAAEAgAQAAgQQAAAQSAAAQSAAAQCABAACBBAAABBIAABBIAABAIAEAAIEEAAAEEgAAEEgAAEAgAQAAgQQAAAQSAAAQSAAAQCABAACBBAAABBIAABBIAABAIAEAAIEEAAAEEgAAEEgAAEAgAQAAgQQAAAQSAAAQSAAAQCABAACBBAAABBIAABBIAABAoB9ucImHxcKZtAAAAABJRU5ErkJggg==\"></div><div style=\"vertical-align: middle; max-width: 514px; display: flex; justify-content: space-between;\"><div style=\"float: left;\"><div title=\"#440154ff\" style=\"display: inline-block; width: 1em; height: 1em; margin: 0; vertical-align: middle; border: 1px solid #555; background-color: #440154ff;\"></div> under</div><div style=\"margin: 0 auto; display: inline-block;\">bad <div title=\"#00000000\" style=\"display: inline-block; width: 1em; height: 1em; margin: 0; vertical-align: middle; border: 1px solid #555; background-color: #00000000;\"></div></div><div style=\"float: right;\">over <div title=\"#fde725ff\" style=\"display: inline-block; width: 1em; height: 1em; margin: 0; vertical-align: middle; border: 1px solid #555; background-color: #fde725ff;\"></div></div>"
      ],
      "text/plain": [
       "<matplotlib.colors.ListedColormap at 0x248b1cf7520>"
      ]
     },
     "execution_count": 26,
     "metadata": {},
     "output_type": "execute_result"
    }
   ],
   "source": [
    "cmap = plt.get_cmap('viridis')\n",
    "cmap"
   ]
  },
  {
   "cell_type": "code",
   "execution_count": 27,
   "id": "18348903",
   "metadata": {},
   "outputs": [],
   "source": [
    "scaled = 2 \n",
    "norm = mcolors.BoundaryNorm(np.arange(N*scaled-1), cmap.N)"
   ]
  },
  {
   "cell_type": "code",
   "execution_count": 28,
   "id": "fe6bd7a2",
   "metadata": {},
   "outputs": [
    {
     "data": {
      "text/plain": [
       "array([0, 1, 2, 3, 4, 5, 6, 7, 8])"
      ]
     },
     "execution_count": 28,
     "metadata": {},
     "output_type": "execute_result"
    }
   ],
   "source": [
    "norm.boundaries"
   ]
  },
  {
   "cell_type": "code",
   "execution_count": 29,
   "id": "01538db9",
   "metadata": {},
   "outputs": [
    {
     "data": {
      "image/png": "[encoded data removed]",
      "text/plain": [
       "<Figure size 432x288 with 9 Axes>"
      ]
     },
     "metadata": {
      "needs_background": "light"
     },
     "output_type": "display_data"
    }
   ],
   "source": [
    "fig, axd = plt.subplot_mosaic([['ti', 'tr', 'ts'], ['mi', 'mr', 'ms']], constrained_layout=True )\n",
    "def make_set(ax_t, ax_m, data):\n",
    "    axd[ax_t].table(data, cellLoc='center', bbox= [0,0, 1,1])\n",
    "    axd[ax_t].set_aspect(\"equal\")\n",
    "    axd[ax_t].axis('off')\n",
    "    mi = axd[ax_m].matshow(data, cmap=cmap, norm=norm)\n",
    "    axd[ax_m].set(xticks=[], yticks=[])\n",
    "    cb = fig.colorbar(mi, ax=axd[ax_m], values = np.arange(N*scaled-1), \n",
    "                      orientation='horizontal', drawedges=True, fraction=.05)\n",
    "    \n",
    "make_set('ti', 'mi', data)\n",
    "make_set('tr', 'mr', data.T)\n",
    "make_set('ts', 'ms', data*scaled)\n",
    "    \n",
    "fig.text(1.05, -.05, '.T', fontsize=16, transform=axd['ti'].transData)\n",
    "fig.text(1.025, -.05, 'x2', fontsize=16, transform=axd['tr'].transData)\n",
    "fig.savefig('../figures/equivariance.png')"
   ]
  },
  {
   "cell_type": "code",
   "execution_count": 44,
   "id": "d48e7813",
   "metadata": {},
   "outputs": [],
   "source": [
    "def make_set(ax_t, data, alpha=.25, color_cells=False):\n",
    "    tab = axd[ax_t].table(data, cellLoc='center', bbox= [0,0, 1,1])\n",
    "    for (r,c) in itertools.product(range(N), range(N)):\n",
    "        if color_cells:\n",
    "            tab[(r,c)].set_color(cmap(norm(data[r,c])))\n",
    "        tab[(r,c)].set_alpha(alpha)\n",
    "        tab[(r,c)].set_edgecolor('black')\n",
    "        text = tab[(r,c)].get_text()\n",
    "        text.set(fontsize=14, ha='center', va='center')\n",
    "    axd[ax_t].set_aspect(\"equal\")\n",
    "    axd[ax_t].axis('off')"
   ]
  },
  {
   "cell_type": "code",
   "execution_count": 45,
   "id": "eb3a9596",
   "metadata": {},
   "outputs": [
    {
     "data": {
      "image/png": "[encoded data removed]",
      "text/plain": [
       "<Figure size 432x288 with 5 Axes>"
      ]
     },
     "metadata": {
      "needs_background": "light"
     },
     "output_type": "display_data"
    }
   ],
   "source": [
    "fig, axd = plt.subplot_mosaic([['ti','tr', 'ts', 'trs']], constrained_layout=True )\n",
    "make_set('ti', data, color_cells=True)\n",
    "make_set('tr', data.T, color_cells=True)\n",
    "make_set('ts', data*scaled, color_cells=True)\n",
    "make_set('trs',data.T*scaled, color_cells=True)\n",
    "\n",
    "axd['ti'].set_title('data')\n",
    "axd['tr'].set_title('data.T')\n",
    "axd['ts'].set_title(f'data*{scaled}')\n",
    "axd['trs'].set_title(f'data.T*{scaled}')\n",
    "fig.colorbar(None, ax=axd['trs'], cmap=cmap, norm=norm, alpha=alpha, \n",
    "             values = np.arange(N*scaled-1), drawedges=True, fraction=.05,)\n",
    "\n",
    "fig.savefig(f'../figures/equivariance.png')"
   ]
  },
  {
   "cell_type": "code",
   "execution_count": 46,
   "id": "5e8160ba",
   "metadata": {},
   "outputs": [
    {
     "data": {
      "image/png": "[encoded data removed]",
      "text/plain": [
       "<Figure size 432x288 with 4 Axes>"
      ]
     },
     "metadata": {
      "needs_background": "light"
     },
     "output_type": "display_data"
    }
   ],
   "source": [
    "fig, axd = plt.subplot_mosaic([['ti','tr', 'ts', 'trs']], constrained_layout=True )\n",
    "make_set('ti', data,)\n",
    "make_set('tr', data.T)\n",
    "make_set('ts', data*scaled)\n",
    "make_set('trs', data.T*scaled)\n",
    "\n",
    "axd['ti'].set_title('data')\n",
    "axd['tr'].set_title(r'$\\hat\\phi^*\\tau$ = data.T')\n",
    "axd['ts'].set_title(r'$\\widetilde\\phi$ = ' + f'data*{scaled}')\n",
    "axd['trs'].set_title(r'$\\widetilde\\phi\\hat\\phi^*\\tau$ = ' + f'data.T*{scaled}') \n",
    "\n",
    "fig.savefig(f'../figures/phi.png')"
   ]
  },
  {
   "cell_type": "code",
   "execution_count": null,
   "id": "87afebb3",
   "metadata": {},
   "outputs": [],
   "source": []
  }
 ],
 "metadata": {
  "kernelspec": {
   "display_name": "Python 3",
   "language": "python",
   "name": "python3"
  },
  "language_info": {
   "codemirror_mode": {
    "name": "ipython",
    "version": 3
   },
   "file_extension": ".py",
   "mimetype": "text/x-python",
   "name": "python",
   "nbconvert_exporter": "python",
   "pygments_lexer": "ipython3",
   "version": "3.8.10"
  }
 },
 "nbformat": 4,
 "nbformat_minor": 5
}
