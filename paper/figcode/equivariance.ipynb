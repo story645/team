{
 "cells": [
  {
   "cell_type": "code",
   "execution_count": 1,
   "id": "4a561395",
   "metadata": {},
   "outputs": [],
   "source": [
    "%matplotlib inline"
   ]
  },
  {
   "cell_type": "code",
   "execution_count": 2,
   "id": "ceb2c020",
   "metadata": {},
   "outputs": [],
   "source": [
    "import itertools"
   ]
  },
  {
   "cell_type": "code",
   "execution_count": 3,
   "id": "a2aea548",
   "metadata": {},
   "outputs": [
    {
     "data": {
      "text/plain": [
       "'3.5.1'"
      ]
     },
     "execution_count": 3,
     "metadata": {},
     "output_type": "execute_result"
    }
   ],
   "source": [
    "import matplotlib; matplotlib.__version__"
   ]
  },
  {
   "cell_type": "code",
   "execution_count": 77,
   "id": "c72d6876",
   "metadata": {},
   "outputs": [],
   "source": [
    "import matplotlib.pyplot as plt\n",
    "import matplotlib.axes as maxes\n",
    "import matplotlib.colors as mcolors\n",
    "import matplotlib.patheffects as path_effects\n",
    "\n",
    "import numpy as np\n"
   ]
  },
  {
   "cell_type": "code",
   "execution_count": 78,
   "id": "105299fa-6d60-4486-b9b5-9f50ce8a2f66",
   "metadata": {},
   "outputs": [],
   "source": [
    "N = 6\n",
    "data = np.arange(N).reshape(2,3)"
   ]
  },
  {
   "cell_type": "code",
   "execution_count": 79,
   "id": "56611ee1",
   "metadata": {},
   "outputs": [
    {
     "data": {
      "image/png": "[encoded data removed]",
      "text/html": [
       "<div style=\"vertical-align: middle;\"><strong>viridis</strong> </div><div class=\"cmap\"><img alt=\"viridis colormap\" title=\"viridis\" style=\"border: 1px solid #555;\" src=\"data:image/png;base64,iVBORw0KGgoAAAANSUhEUgAAAgAAAABACAYAAABsv8+/AAAAFnRFWHRUaXRsZQB2aXJpZGlzIGNvbG9ybWFwrE0mCwAAABx0RVh0RGVzY3JpcHRpb24AdmlyaWRpcyBjb2xvcm1hcAtjl3IAAAAwdEVYdEF1dGhvcgBNYXRwbG90bGliIHYzLjUuMSwgaHR0cHM6Ly9tYXRwbG90bGliLm9yZ/e3zs8AAAAydEVYdFNvZnR3YXJlAE1hdHBsb3RsaWIgdjMuNS4xLCBodHRwczovL21hdHBsb3RsaWIub3Jn2RFR6AAAAiJJREFUeJzt1kGSmzAURdEv2FqWkP0vJfQgMhQCGceV2Ttn4pL0EVQPum771X5vVVXVWv39XfrPeV193V5zS98f1sf5/fPjey73zu6/3Hv/uz2cz57f9vP68rxO9+/zre7nhvvG+et6vH92bw3PDfcsD+eX59+/53n96f3362/f87/vf5yr93Of72/fPV9P89tX3zGeH3OT8/07Zs+/32+TuXZZD8/VODf8W5uuH/b7vctlfuv7NazH8/t7ZnP7bz2cD3NL+/Ph3Hl+/efz83vWun/vuL++nquH9eu9w/uu6/vvOO49f/8xf77vOj+8b7Y/fMfse9ca/y7nv+d62a++X+f1vt+G/b7u+/u6TxzzS//tc2053QMABBEAABBIAABAIAEAAIEEAAAEEgAAEEgAAEAgAQAAgQQAAAQSAAAQSAAAQCABAACBBAAABBIAABBIAABAIAEAAIEEAAAEEgAAEEgAAEAgAQAAgQQAAAQSAAAQSAAAQCABAACBBAAABBIAABBIAABAIAEAAIEEAAAEEgAAEEgAAEAgAQAAgQQAAAQSAAAQSAAAQCABAACBBAAABBIAABBIAABAIAEAAIEEAAAEEgAAEEgAAEAgAQAAgQQAAAQSAAAQSAAAQCABAACBBAAABBIAABBIAABAIAEAAIEEAAAEEgAAEEgAAEAgAQAAgQQAAAQSAAAQSAAAQCABAACBBAAABBIAABBIAABAoB9ucImHxcKZtAAAAABJRU5ErkJggg==\"></div><div style=\"vertical-align: middle; max-width: 514px; display: flex; justify-content: space-between;\"><div style=\"float: left;\"><div title=\"#440154ff\" style=\"display: inline-block; width: 1em; height: 1em; margin: 0; vertical-align: middle; border: 1px solid #555; background-color: #440154ff;\"></div> under</div><div style=\"margin: 0 auto; display: inline-block;\">bad <div title=\"#00000000\" style=\"display: inline-block; width: 1em; height: 1em; margin: 0; vertical-align: middle; border: 1px solid #555; background-color: #00000000;\"></div></div><div style=\"float: right;\">over <div title=\"#fde725ff\" style=\"display: inline-block; width: 1em; height: 1em; margin: 0; vertical-align: middle; border: 1px solid #555; background-color: #fde725ff;\"></div></div>"
      ],
      "text/plain": [
       "<matplotlib.colors.ListedColormap at 0x1f691aa8fa0>"
      ]
     },
     "execution_count": 79,
     "metadata": {},
     "output_type": "execute_result"
    }
   ],
   "source": [
    "cmap = plt.get_cmap('viridis')\n",
    "cmap"
   ]
  },
  {
   "cell_type": "code",
   "execution_count": 80,
   "id": "56da750a",
   "metadata": {},
   "outputs": [],
   "source": [
    "scaled = 2 \n",
    "norm = mcolors.BoundaryNorm(np.arange(N*scaled), cmap.N)"
   ]
  },
  {
   "cell_type": "code",
   "execution_count": 81,
   "id": "f1a3a9c7",
   "metadata": {},
   "outputs": [
    {
     "data": {
      "text/plain": [
       "array([ 0,  1,  2,  3,  4,  5,  6,  7,  8,  9, 10, 11])"
      ]
     },
     "execution_count": 81,
     "metadata": {},
     "output_type": "execute_result"
    }
   ],
   "source": [
    "norm.boundaries"
   ]
  },
  {
   "cell_type": "code",
   "execution_count": 82,
   "id": "48544f94",
   "metadata": {},
   "outputs": [
    {
     "data": {
      "image/png": "[encoded data removed]",
      "text/plain": [
       "<Figure size 432x288 with 7 Axes>"
      ]
     },
     "metadata": {
      "needs_background": "light"
     },
     "output_type": "display_data"
    }
   ],
   "source": [
    "fig, axd = plt.subplot_mosaic([['ti', 'tr', 'ts'], ['mi', 'mr', 'ms']], constrained_layout=True )\n",
    "def make_set(ax_t, ax_m, data):\n",
    "    axd[ax_t].table(data, cellLoc='center', bbox= [0,0, 1,1])\n",
    "    axd[ax_t].set_aspect(\"equal\")\n",
    "    axd[ax_t].axis('off')\n",
    "    mi = axd[ax_m].matshow(data, cmap=cmap, norm=norm)\n",
    "    axd[ax_m].set(xticks=[], yticks=[])\n",
    "    return mi\n",
    "    \n",
    "mi = make_set('ti', 'mi', data)\n",
    "mr = make_set('tr', 'mr', data.T)\n",
    "ms = make_set('ts', 'ms', data*scaled)\n",
    "\n",
    "cb = fig.colorbar(mi, ax=list(axd.values()), values = np.arange(N*scaled-1), \n",
    "                      orientation='horizontal', drawedges=True, fraction=.05)\n",
    "fig.text(1.05, -.05, '.T', fontsize=16, transform=axd['ti'].transData)\n",
    "fig.text(1.025, -.05, 'x2', fontsize=16, transform=axd['tr'].transData)\n",
    "fig.savefig('../figures/equivariance_all.png')"
   ]
  },
  {
   "cell_type": "code",
   "execution_count": 110,
   "id": "05ee58bf",
   "metadata": {},
   "outputs": [],
   "source": [
    "def make_set(ax_t, data, alpha=.25, color_cells=False):\n",
    "    tab = axd[ax_t].table(data, cellLoc='center', bbox= [0, 0, 1, 1])\n",
    "    nrows, ncols = data.shape\n",
    "    for (r,c) in itertools.product(range(nrows), range(ncols)):\n",
    "        tab[(r,c)].set_alpha(alpha=alpha)\n",
    "        tab[(r,c)].set_edgecolor('black')\n",
    "        text = tab[(r,c)].get_text()\n",
    "        text.set(fontsize=14, ha='center', va='center')\n",
    "        if color_cells:\n",
    "            tab[(r,c)].set_color(cmap(norm(data[r,c])))\n",
    "            text.set_color('white')\n",
    "            text.set_path_effects([path_effects.Stroke(linewidth=1, foreground='black'),\n",
    "                                   path_effects.Normal()])\n",
    "            \n",
    "        \n",
    "    axd[ax_t].set_aspect(\"equal\")\n",
    "    axd[ax_t].axis('off')"
   ]
  },
  {
   "cell_type": "code",
   "execution_count": 111,
   "id": "0eb6c2e9",
   "metadata": {},
   "outputs": [],
   "source": [
    "tc = {'ti': 'data', 'tr':'data.T', 'ts':f'data*{scaled}', 'trs':f'data.T*{scaled}'}\n",
    "\n",
    "tp = {'ti': r'$\\tau$',\n",
    "      'tr': r'$\\hat\\phi_{E}^*\\tau$',\n",
    "      'ts': r'$\\widetilde\\phi_{E}\\tau$',\n",
    "      'trs': r'$\\phi_{E}\\tau$'\n",
    "     }\n",
    "tr = {'ti': r'$\\rho$',\n",
    "      'tr': r'$\\hat\\phi_{H}^*\\rho$',\n",
    "      'ts': r'$\\widetilde\\phi_{H}\\rho$',\n",
    "      'trs': r'$\\phi_{H}\\rho$'\n",
    "     }\n",
    "te = {k: tp[k] +' = '+ tc[k] for k in tc}\n",
    "to = {k: f'A({tp[k]})'+' = ' + tr[k] for k in tp}\n",
    "dt = {'ti':data, 'tr':data.T, 'ts': data*scaled, 'trs':data.T*scaled}"
   ]
  },
  {
   "cell_type": "code",
   "execution_count": 112,
   "id": "41ff1653",
   "metadata": {},
   "outputs": [
    {
     "data": {
      "image/png": "[encoded data removed]",
      "text/plain": [
       "<Figure size 432x288 with 5 Axes>"
      ]
     },
     "metadata": {
      "needs_background": "light"
     },
     "output_type": "display_data"
    },
    {
     "data": {
      "image/png": "[encoded data removed]",
      "text/plain": [
       "<Figure size 432x288 with 4 Axes>"
      ]
     },
     "metadata": {
      "needs_background": "light"
     },
     "output_type": "display_data"
    }
   ],
   "source": [
    "alpha = .75\n",
    "for titles, color_cells,  fname in [(to, True, 'equivariance'), (te, False, 'phi')]:\n",
    "    fig, axd = plt.subplot_mosaic([['ti','tr', 'ts', 'trs']], constrained_layout=True, \n",
    "                                  gridspec_kw={'wspace':.1})\n",
    "    for axn in axd:\n",
    "        make_set(axn, dt[axn], color_cells=color_cells, alpha=alpha)\n",
    "        axd[axn].set_title(titles[axn])\n",
    "    \n",
    "    if color_cells:\n",
    "        cax = fig.colorbar(None, ax=list(axd.values()), cmap=cmap, norm=norm, alpha=alpha, \n",
    "                 values = np.arange(N*scaled-1), aspect=30, drawedges=True, pad=0.025,\n",
    "                          orientation='horizontal')\n",
    "\n",
    "    fig.savefig(f'../figures/{fname}.png', dpi=500, bbox_inches='tight')"
   ]
  },
  {
   "cell_type": "code",
   "execution_count": null,
   "id": "c962f2ad",
   "metadata": {},
   "outputs": [],
   "source": []
  }
 ],
 "metadata": {
  "kernelspec": {
   "display_name": "Python 3 (ipykernel)",
   "language": "python",
   "name": "python3"
  },
  "language_info": {
   "codemirror_mode": {
    "name": "ipython",
    "version": 3
   },
   "file_extension": ".py",
   "mimetype": "text/x-python",
   "name": "python",
   "nbconvert_exporter": "python",
   "pygments_lexer": "ipython3",
   "version": "3.12.0"
  }
 },
 "nbformat": 4,
 "nbformat_minor": 5
}
