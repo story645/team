{
 "cells": [
  {
   "cell_type": "code",
   "execution_count": 2,
   "id": "c50b6bd1",
   "metadata": {},
   "outputs": [],
   "source": [
    "%matplotlib inline"
   ]
  },
  {
   "cell_type": "code",
   "execution_count": 89,
   "id": "c0dcb52a",
   "metadata": {},
   "outputs": [],
   "source": [
    "import itertools"
   ]
  },
  {
   "cell_type": "code",
   "execution_count": 3,
   "id": "6fd34bbf",
   "metadata": {},
   "outputs": [
    {
     "data": {
      "text/plain": [
       "'3.5.1'"
      ]
     },
     "execution_count": 3,
     "metadata": {},
     "output_type": "execute_result"
    }
   ],
   "source": [
    "import matplotlib; matplotlib.__version__"
   ]
  },
  {
   "cell_type": "code",
   "execution_count": 126,
   "id": "d5732e50",
   "metadata": {},
   "outputs": [],
   "source": [
    "import matplotlib.pyplot as plt\n",
    "import matplotlib.colors as mcolors\n",
    "import matplotlib.patheffects as PathEffects\n",
    "import numpy as np\n"
   ]
  },
  {
   "cell_type": "code",
   "execution_count": 5,
   "id": "3a2ec470",
   "metadata": {},
   "outputs": [],
   "source": [
    "N = 5\n",
    "data = np.tile(np.arange(N),(N,1))"
   ]
  },
  {
   "cell_type": "code",
   "execution_count": 6,
   "id": "43387768",
   "metadata": {},
   "outputs": [
    {
     "data": {
      "text/plain": [
       "(5, 5)"
      ]
     },
     "execution_count": 6,
     "metadata": {},
     "output_type": "execute_result"
    }
   ],
   "source": [
    "data.shape"
   ]
  },
  {
   "cell_type": "code",
   "execution_count": 7,
   "id": "6101681b",
   "metadata": {},
   "outputs": [
    {
     "data": {
      "image/png": "[encoded data removed]",
      "text/html": [
       "<div style=\"vertical-align: middle;\"><strong>viridis</strong> </div><div class=\"cmap\"><img alt=\"viridis colormap\" title=\"viridis\" style=\"border: 1px solid #555;\" src=\"data:image/png;base64,iVBORw0KGgoAAAANSUhEUgAAAgAAAABACAYAAABsv8+/AAAAFnRFWHRUaXRsZQB2aXJpZGlzIGNvbG9ybWFwrE0mCwAAABx0RVh0RGVzY3JpcHRpb24AdmlyaWRpcyBjb2xvcm1hcAtjl3IAAAAwdEVYdEF1dGhvcgBNYXRwbG90bGliIHYzLjUuMSwgaHR0cHM6Ly9tYXRwbG90bGliLm9yZ/e3zs8AAAAydEVYdFNvZnR3YXJlAE1hdHBsb3RsaWIgdjMuNS4xLCBodHRwczovL21hdHBsb3RsaWIub3Jn2RFR6AAAAiJJREFUeJzt1kGSmzAURdEv2FqWkP0vJfQgMhQCGceV2Ttn4pL0EVQPum771X5vVVXVWv39XfrPeV193V5zS98f1sf5/fPjey73zu6/3Hv/uz2cz57f9vP68rxO9+/zre7nhvvG+et6vH92bw3PDfcsD+eX59+/53n96f3362/f87/vf5yr93Of72/fPV9P89tX3zGeH3OT8/07Zs+/32+TuXZZD8/VODf8W5uuH/b7vctlfuv7NazH8/t7ZnP7bz2cD3NL+/Ph3Hl+/efz83vWun/vuL++nquH9eu9w/uu6/vvOO49f/8xf77vOj+8b7Y/fMfse9ca/y7nv+d62a++X+f1vt+G/b7u+/u6TxzzS//tc2053QMABBEAABBIAABAIAEAAIEEAAAEEgAAEEgAAEAgAQAAgQQAAAQSAAAQSAAAQCABAACBBAAABBIAABBIAABAIAEAAIEEAAAEEgAAEEgAAEAgAQAAgQQAAAQSAAAQSAAAQCABAACBBAAABBIAABBIAABAIAEAAIEEAAAEEgAAEEgAAEAgAQAAgQQAAAQSAAAQSAAAQCABAACBBAAABBIAABBIAABAIAEAAIEEAAAEEgAAEEgAAEAgAQAAgQQAAAQSAAAQSAAAQCABAACBBAAABBIAABBIAABAIAEAAIEEAAAEEgAAEEgAAEAgAQAAgQQAAAQSAAAQSAAAQCABAACBBAAABBIAABBIAABAoB9ucImHxcKZtAAAAABJRU5ErkJggg==\"></div><div style=\"vertical-align: middle; max-width: 514px; display: flex; justify-content: space-between;\"><div style=\"float: left;\"><div title=\"#440154ff\" style=\"display: inline-block; width: 1em; height: 1em; margin: 0; vertical-align: middle; border: 1px solid #555; background-color: #440154ff;\"></div> under</div><div style=\"margin: 0 auto; display: inline-block;\">bad <div title=\"#00000000\" style=\"display: inline-block; width: 1em; height: 1em; margin: 0; vertical-align: middle; border: 1px solid #555; background-color: #00000000;\"></div></div><div style=\"float: right;\">over <div title=\"#fde725ff\" style=\"display: inline-block; width: 1em; height: 1em; margin: 0; vertical-align: middle; border: 1px solid #555; background-color: #fde725ff;\"></div></div>"
      ],
      "text/plain": [
       "<matplotlib.colors.ListedColormap at 0x2dab50ce7c0>"
      ]
     },
     "execution_count": 7,
     "metadata": {},
     "output_type": "execute_result"
    }
   ],
   "source": [
    "cmap = plt.get_cmap('viridis')\n",
    "cmap"
   ]
  },
  {
   "cell_type": "code",
   "execution_count": 8,
   "id": "72cfd2b6",
   "metadata": {},
   "outputs": [],
   "source": []
  },
  {
   "cell_type": "code",
   "execution_count": 9,
   "id": "adb19bce",
   "metadata": {},
   "outputs": [
    {
     "data": {
      "text/plain": [
       "array([0, 1, 2, 3, 4, 5])"
      ]
     },
     "execution_count": 9,
     "metadata": {},
     "output_type": "execute_result"
    }
   ],
   "source": [
    "norm.boundaries"
   ]
  },
  {
   "cell_type": "code",
   "execution_count": 178,
   "id": "7bbcb22b",
   "metadata": {},
   "outputs": [],
   "source": [
    "scaled = 2 \n",
    "norm = mcolors.BoundaryNorm(np.arange(N*scaled-1), cmap.N)"
   ]
  },
  {
   "cell_type": "code",
   "execution_count": 179,
   "id": "e4ecd31e",
   "metadata": {},
   "outputs": [
    {
     "data": {
      "text/plain": [
       "array([0, 1, 2, 3, 4, 5, 6, 7, 8])"
      ]
     },
     "execution_count": 179,
     "metadata": {},
     "output_type": "execute_result"
    }
   ],
   "source": [
    "norm.boundaries"
   ]
  },
  {
   "cell_type": "code",
   "execution_count": 180,
   "id": "e0adb090",
   "metadata": {},
   "outputs": [
    {
     "data": {
      "image/png": "[encoded data removed]",
      "text/plain": [
       "<Figure size 432x288 with 9 Axes>"
      ]
     },
     "metadata": {
      "needs_background": "light"
     },
     "output_type": "display_data"
    }
   ],
   "source": [
    "fig, axd = plt.subplot_mosaic([['ti', 'tr', 'ts'], ['mi', 'mr', 'ms']], constrained_layout=True )\n",
    "def make_set(ax_t, ax_m, data):\n",
    "    axd[ax_t].table(data, cellLoc='center', bbox= [0,0, 1,1])\n",
    "    axd[ax_t].set_aspect(\"equal\")\n",
    "    axd[ax_t].axis('off')\n",
    "    mi = axd[ax_m].matshow(data, cmap=cmap, norm=norm)\n",
    "    axd[ax_m].set(xticks=[], yticks=[])\n",
    "    cb = fig.colorbar(mi, ax=axd[ax_m], values = np.arange(N*scaled-1), \n",
    "                      orientation='horizontal', drawedges=True, fraction=.05)\n",
    "    \n",
    "make_set('ti', 'mi', data)\n",
    "make_set('tr', 'mr', data.T)\n",
    "make_set('ts', 'ms', data*scaled)\n",
    "    \n",
    "fig.text(1.05, -.05, '.T', fontsize=16, transform=axd['ti'].transData)\n",
    "fig.text(1.025, -.05, 'x2', fontsize=16, transform=axd['tr'].transData)\n",
    "fig.savefig('../figures/equivariance.png')"
   ]
  },
  {
   "cell_type": "code",
   "execution_count": 183,
   "id": "ff24016f",
   "metadata": {},
   "outputs": [
    {
     "data": {
      "image/png": "[encoded data removed]",
      "text/plain": [
       "<Figure size 432x288 with 4 Axes>"
      ]
     },
     "metadata": {
      "needs_background": "light"
     },
     "output_type": "display_data"
    }
   ],
   "source": [
    "alpha = .25\n",
    "fig, axd = plt.subplot_mosaic([['ti','tr', 'ts']], constrained_layout=True )\n",
    "\n",
    "def make_set(ax_t, data):\n",
    "    tab = axd[ax_t].table(data, cellLoc='center', bbox= [0,0, 1,1])\n",
    "    for (r,c) in itertools.product(range(N), range(N)):\n",
    "        #.set_color(cmap(norm(data[r,c])))\n",
    "        tab[(r,c)].set_color(cmap(norm(data[r,c])))\n",
    "        tab[(r,c)].set_alpha(alpha)\n",
    "        tab[(r,c)].set_edgecolor('black')\n",
    "        text = tab[(r,c)].get_text()\n",
    "        text.set(fontsize=16, ha='center', va='center')\n",
    "    axd[ax_t].set_aspect(\"equal\")\n",
    "    axd[ax_t].axis('off')\n",
    "\n",
    "make_set('ti', data)\n",
    "make_set('tr', data.T)\n",
    "make_set('ts', data.T*scaled)\n",
    "\n",
    "axd['ti'].set_title('data')\n",
    "axd['tr'].set_title('data.T')\n",
    "axd['ts'].set_title('data.T*2') \n",
    "fig.colorbar(None, ax=axd['ts'], cmap=cmap, norm=norm, alpha=alpha, \n",
    "             values = np.arange(N*scaled-1), drawedges=True, fraction=.05)\n",
    "\n",
    "fig.savefig('../figures/equiviz.png')"
   ]
  },
  {
   "cell_type": "code",
   "execution_count": null,
   "id": "89cae4ec",
   "metadata": {},
   "outputs": [],
   "source": []
  }
 ],
 "metadata": {
  "kernelspec": {
   "display_name": "Python 3",
   "language": "python",
   "name": "python3"
  },
  "language_info": {
   "codemirror_mode": {
    "name": "ipython",
    "version": 3
   },
   "file_extension": ".py",
   "mimetype": "text/x-python",
   "name": "python",
   "nbconvert_exporter": "python",
   "pygments_lexer": "ipython3",
   "version": "3.8.10"
  }
 },
 "nbformat": 4,
 "nbformat_minor": 5
}
