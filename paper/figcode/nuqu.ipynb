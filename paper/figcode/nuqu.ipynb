{
 "cells": [
  {
   "cell_type": "code",
   "execution_count": 1,
   "id": "bd9671a8-a1a2-4906-932c-40e2abecccff",
   "metadata": {},
   "outputs": [],
   "source": [
    "%matplotlib inline"
   ]
  },
  {
   "cell_type": "code",
   "execution_count": 2,
   "id": "d66e49ea-dc32-4270-aa16-46337c70c337",
   "metadata": {},
   "outputs": [],
   "source": [
    "import itertools \n",
    "from pathlib import Path\n",
    "\n",
    "import matplotlib as mpl\n",
    "import matplotlib.pyplot as plt\n",
    "import matplotlib.colors as mcolors\n",
    "import matplotlib.patches as mpatches\n",
    "import matplotlib.patheffects as PathEffects\n",
    "\n",
    "import numpy as np\n",
    "import pandas as pd\n",
    "\n",
    "# (scale, length, randomness).)\n",
    "#plt.xkcd()\n",
    "import highlight_text as ht\n",
    "\n",
    "import intro_plots as ip\n",
    "from papercolors import colordict as pcd\n",
    "\n",
    "paper_path = Path('../figures/')"
   ]
  },
  {
   "cell_type": "code",
   "execution_count": 3,
   "id": "ed74cbe9-59a6-4c76-a836-7f02b664359b",
   "metadata": {},
   "outputs": [],
   "source": [
    "df = pd.read_csv(\"plot_data\")"
   ]
  },
  {
   "cell_type": "code",
   "execution_count": 4,
   "id": "9ef1141d-ee1e-491b-92a1-17c2a80cea0a",
   "metadata": {},
   "outputs": [
    {
     "data": {
      "text/html": [
       "<div>\n",
       "<style scoped>\n",
       "    .dataframe tbody tr th:only-of-type {\n",
       "        vertical-align: middle;\n",
       "    }\n",
       "\n",
       "    .dataframe tbody tr th {\n",
       "        vertical-align: top;\n",
       "    }\n",
       "\n",
       "    .dataframe thead th {\n",
       "        text-align: right;\n",
       "    }\n",
       "</style>\n",
       "<table border=\"1\" class=\"dataframe\">\n",
       "  <thead>\n",
       "    <tr style=\"text-align: right;\">\n",
       "      <th></th>\n",
       "      <th>NAME</th>\n",
       "      <th>TEMP (°F)</th>\n",
       "      <th>PRCP (in.)</th>\n",
       "      <th>NEW YORK LAGUARDIA AP</th>\n",
       "      <th>ALBANY AP</th>\n",
       "      <th>NEW YORK JFK INTL AP</th>\n",
       "      <th>ISLIP LI MACARTHUR AP</th>\n",
       "      <th>ROCHESTER GTR INTL AP</th>\n",
       "    </tr>\n",
       "  </thead>\n",
       "  <tbody>\n",
       "    <tr>\n",
       "      <th>0</th>\n",
       "      <td>NEW YORK LAGUARDIA AP</td>\n",
       "      <td>34.0</td>\n",
       "      <td>0.6614</td>\n",
       "      <td>0.000000</td>\n",
       "      <td>1.964987</td>\n",
       "      <td>0.183772</td>\n",
       "      <td>0.778735</td>\n",
       "      <td>4.458209</td>\n",
       "    </tr>\n",
       "    <tr>\n",
       "      <th>1</th>\n",
       "      <td>ALBANY AP</td>\n",
       "      <td>-27.0</td>\n",
       "      <td>0.2598</td>\n",
       "      <td>1.964987</td>\n",
       "      <td>0.000000</td>\n",
       "      <td>2.105025</td>\n",
       "      <td>2.073629</td>\n",
       "      <td>3.885503</td>\n",
       "    </tr>\n",
       "    <tr>\n",
       "      <th>2</th>\n",
       "      <td>NEW YORK JFK INTL AP</td>\n",
       "      <td>22.0</td>\n",
       "      <td>0.6299</td>\n",
       "      <td>0.183772</td>\n",
       "      <td>2.105025</td>\n",
       "      <td>0.000000</td>\n",
       "      <td>0.678512</td>\n",
       "      <td>4.632957</td>\n",
       "    </tr>\n",
       "    <tr>\n",
       "      <th>3</th>\n",
       "      <td>ISLIP LI MACARTHUR AP</td>\n",
       "      <td>21.0</td>\n",
       "      <td>0.5984</td>\n",
       "      <td>0.778735</td>\n",
       "      <td>2.073629</td>\n",
       "      <td>0.678512</td>\n",
       "      <td>0.000000</td>\n",
       "      <td>5.130889</td>\n",
       "    </tr>\n",
       "    <tr>\n",
       "      <th>4</th>\n",
       "      <td>ROCHESTER GTR INTL AP</td>\n",
       "      <td>-2.0</td>\n",
       "      <td>0.2205</td>\n",
       "      <td>4.458209</td>\n",
       "      <td>3.885503</td>\n",
       "      <td>4.632957</td>\n",
       "      <td>5.130889</td>\n",
       "      <td>0.000000</td>\n",
       "    </tr>\n",
       "  </tbody>\n",
       "</table>\n",
       "</div>"
      ],
      "text/plain": [
       "                    NAME  TEMP (°F)  PRCP (in.)  NEW YORK LAGUARDIA AP  \\\n",
       "0  NEW YORK LAGUARDIA AP       34.0      0.6614               0.000000   \n",
       "1              ALBANY AP      -27.0      0.2598               1.964987   \n",
       "2   NEW YORK JFK INTL AP       22.0      0.6299               0.183772   \n",
       "3  ISLIP LI MACARTHUR AP       21.0      0.5984               0.778735   \n",
       "4  ROCHESTER GTR INTL AP       -2.0      0.2205               4.458209   \n",
       "\n",
       "   ALBANY AP  NEW YORK JFK INTL AP  ISLIP LI MACARTHUR AP  \\\n",
       "0   1.964987              0.183772               0.778735   \n",
       "1   0.000000              2.105025               2.073629   \n",
       "2   2.105025              0.000000               0.678512   \n",
       "3   2.073629              0.678512               0.000000   \n",
       "4   3.885503              4.632957               5.130889   \n",
       "\n",
       "   ROCHESTER GTR INTL AP  \n",
       "0               4.458209  \n",
       "1               3.885503  \n",
       "2               4.632957  \n",
       "3               5.130889  \n",
       "4               0.000000  "
      ]
     },
     "execution_count": 4,
     "metadata": {},
     "output_type": "execute_result"
    }
   ],
   "source": [
    "df"
   ]
  },
  {
   "cell_type": "code",
   "execution_count": 5,
   "id": "f1f5ab09-dae2-4eb6-aee6-ee27f5a0f6f3",
   "metadata": {},
   "outputs": [],
   "source": [
    "df['TC'] = df['TEMP (°F)'].astype(str) + ' °F'\n",
    "df['PC'] = df['PRCP (in.)'].astype(str) + ' in.'\n",
    "df['color'] = df['NAME'].replace(ip.cdict)\n",
    "df['AC'] = df['NAME'].replace(ip.airport_codes)"
   ]
  },
  {
   "cell_type": "code",
   "execution_count": 129,
   "id": "f36b7086-91e6-4f25-8c87-0da8ac75476b",
   "metadata": {},
   "outputs": [],
   "source": [
    "drow1 = df[['AC', 'TC', 'PC']].loc[[0]]\n",
    "vrow1 = df[['color','TEMP (°F)', 'PRCP (in.)']].loc[[0]]"
   ]
  },
  {
   "cell_type": "code",
   "execution_count": 152,
   "id": "e5d626f5-eb91-4379-a629-2a6966df4459",
   "metadata": {},
   "outputs": [],
   "source": [
    "drow2 = pd.DataFrame.from_dict([{'distance': f\"{df['NEW YORK JFK INTL AP'].loc[0]:.2f}\"}])\n",
    "drow3 =  df[['AC', 'TC', 'PC']].loc[[2]] "
   ]
  },
  {
   "cell_type": "code",
   "execution_count": 131,
   "id": "ac1fdadf-3383-4cd1-8b8e-6e3c605ff782",
   "metadata": {},
   "outputs": [],
   "source": [
    "vvals = df[['color','TEMP (°F)', 'PRCP (in.)']].loc[[2]]"
   ]
  },
  {
   "cell_type": "code",
   "execution_count": 422,
   "id": "7e66d5bf-f34f-4679-bdf5-ab9cce886b63",
   "metadata": {},
   "outputs": [
    {
     "data": {
      "text/html": [
       "<div>\n",
       "<style scoped>\n",
       "    .dataframe tbody tr th:only-of-type {\n",
       "        vertical-align: middle;\n",
       "    }\n",
       "\n",
       "    .dataframe tbody tr th {\n",
       "        vertical-align: top;\n",
       "    }\n",
       "\n",
       "    .dataframe thead th {\n",
       "        text-align: right;\n",
       "    }\n",
       "</style>\n",
       "<table border=\"1\" class=\"dataframe\">\n",
       "  <thead>\n",
       "    <tr style=\"text-align: right;\">\n",
       "      <th></th>\n",
       "      <th>color</th>\n",
       "      <th>TEMP (°F)</th>\n",
       "      <th>PRCP (in.)</th>\n",
       "    </tr>\n",
       "  </thead>\n",
       "  <tbody>\n",
       "    <tr>\n",
       "      <th>2</th>\n",
       "      <td>#000075</td>\n",
       "      <td>22.0</td>\n",
       "      <td>0.6299</td>\n",
       "    </tr>\n",
       "  </tbody>\n",
       "</table>\n",
       "</div>"
      ],
      "text/plain": [
       "     color  TEMP (°F)  PRCP (in.)\n",
       "2  #000075       22.0      0.6299"
      ]
     },
     "execution_count": 422,
     "metadata": {},
     "output_type": "execute_result"
    }
   ],
   "source": [
    "vvals"
   ]
  },
  {
   "cell_type": "code",
   "execution_count": 731,
   "id": "be909827-cb00-4115-973c-d57524166178",
   "metadata": {},
   "outputs": [],
   "source": [
    "def nuqfig(fname):\n",
    "    if 'scatter' in fname:\n",
    "        figsize=(10,5)\n",
    "    else:\n",
    "        figsize = (10,10)\n",
    "        \n",
    "    fig, axd =plt.subplot_mosaic([['tau', 'mu', 'rho'], ['k', '.', 's']], figsize=figsize, gridspec_kw={'height_ratios':[3,1]})\n",
    "\n",
    "    if 'scatter' in fname:\n",
    "        ind = 1\n",
    "    elif 'line' in fname:\n",
    "        ind=3\n",
    "        \n",
    "    width = .4\n",
    "    height = .3\n",
    "    inc = (height/3)\n",
    "    dx, dy = 0, .6\n",
    "    cx = dx-width\n",
    "\n",
    "    bbox1 = [dx, dy, width, height]\n",
    "    bbox2 = [dx, dy-2*height, width, inc]\n",
    "    bbox3 = [dx, dy-height-inc, width, height]\n",
    "    cbox1 = [cx, dy, width, height]\n",
    "    cbox2 = [cx, dy-2*height, width, inc]\n",
    "    cbox3 = [cx, dy-height-inc, width, height]\n",
    "\n",
    "\n",
    "    (x0, x1), (y0, y1) = (vrow1['TEMP (°F)'].values.squeeze(), vvals['TEMP (°F)'].values.squeeze()), (vrow1['PRCP (in.)'].values.squeeze(), vvals['PRCP (in.)'].values.squeeze())\n",
    "    xm = x0 + (x1-x0)*.6\n",
    "    ym = y0 + (y1-y0)*.6\n",
    "    vrow3 = pd.DataFrame.from_dict([{'x':f\"{xm:.2f}\", 'y':f\"{ym:.2f}\"}])\n",
    "    vrow2 = pd.DataFrame.from_dict([{'thick':8}])\n",
    "    tau =  ['tau', drow1, drow2[::-1], drow3, ['Name','TEMP (°F)', 'PRCP (in.)'], ['DIST'],  ['Name','TEMP (°F)', 'PRCP (in.)']]\n",
    "    nu1 = ['color', 'x', 'y']\n",
    "    nu2 = ['linewidth']\n",
    "    nu3 = ['x_mid' + r'$(k_i)$', 'y_mid' + r'$(k_i)$']\n",
    "    mu = ['mu', vrow1, vrow2, vrow3, nu1, nu2, nu3]\n",
    "\n",
    "    for ax, row1, row2, row3, name1, name2, name3 in [tau, mu]:\n",
    "        for row, bboxv in [(row1, bbox1), (row2, bbox2), (row3, bbox3)][:ind]:\n",
    "            if row is not None:\n",
    "                nr, nc = row.values.T.shape\n",
    "                bbow = bboxv[:3] + [inc*nr]\n",
    "                tau = axd[ax].table(row.values.T, cellLoc='left', bbox=bbow, transform=axd[ax].transData)\n",
    "\n",
    "        if ax in ['tau']:\n",
    "            if 'line' in fname:\n",
    "                #top x\n",
    "                axd[ax].text(cx+width/2, dy-inc/2, 'X', fontsize=20, ha='center', va='center', color=pcd['fiber'])\n",
    "                #bottom x\n",
    "                axd[ax].text(cx+width/2, dy-2*height+1.5*inc, 'X', fontsize=20, ha='center', va='center', color=pcd['fiber'])\n",
    "            for name, cbox in [(name1, cbox1), (name2, cbox2), (name3, cbox3)][:ind]:\n",
    "\n",
    "                col = axd[ax].table([[n] for n in name], bbox=cbox, edges='open', transform=axd[ax].transData)\n",
    "                for i in range(len(name)):\n",
    "                    col[i,0].get_text().set_color(pcd['fiber'])\n",
    "        axd[ax].axis('off')\n",
    "\n",
    "    #scatter nu\n",
    "    for i, (mu, box) in enumerate([(nu1, bbox1), (nu2, bbox2), (nu3, bbox3)][:ind]):\n",
    "        sx = box[0] + width\n",
    "        tx = box[0]\n",
    "        sy = box[1] + (inc/2)\n",
    "        for i, nu in enumerate(mu[::-1]):\n",
    "            nuarr = mpatches.ConnectionPatch((sx,sy), (tx,sy),  coordsA=axd['tau'].transData, coordsB=axd['mu'].transData,\n",
    "                                      color=pcd['artist'], arrowstyle=\"->\", lw=2)\n",
    "            fig.add_artist(nuarr)\n",
    "\n",
    "            fig.text(.75,sy+.01, f\"{nu}\", color=pcd['artist'], ha='center', va='bottom', transform=axd['tau'].transData)\n",
    "            sy+=inc\n",
    "\n",
    "    #line nu \n",
    "    if 'line' in fname:\n",
    "        #cross nu:\n",
    "        (sx, sy), (tx,ty) =  [(dx+width, dy+ inc+inc/2), (dx, dy-height+inc/2)]\n",
    "        for yoff, nul in zip([0, inc], nu3):\n",
    "            nuarr = mpatches.ConnectionPatch((sx,sy-yoff), (tx,ty-yoff),  coordsA=axd['tau'].transData, \n",
    "                        coordsB=axd['mu'].transData, color=pcd['artist'], arrowstyle=\"->\", lw=2)\n",
    "            fig.add_artist(nuarr)\n",
    "\n",
    "\n",
    "\n",
    "    s=250\n",
    "    xsc, ysc = vrow1['TEMP (°F)'].values.squeeze(), vrow1['PRCP (in.)'].values.squeeze()\n",
    "    axd['rho'].scatter(xsc, ysc, color=vrow1['color'], s=s, edgecolor='k')\n",
    "  \n",
    "    \n",
    "    if 'line' in fname:\n",
    "        axd['rho'].scatter(vvals['TEMP (°F)'], vvals['PRCP (in.)'], color='.9', s=s,)\n",
    "        axd['rho'].plot((x0, x1), (y0, y1), color='.9', lw=5, zorder=-2)\n",
    "        slope = (y1-y0)/(x1-x0)\n",
    "        b = y1 - slope*x1\n",
    "        xp = .01\n",
    "        xsw = [xm-xp, xm+xp]\n",
    "        ysw = [slope*x + b for x in xsw]\n",
    "        axd['rho'].plot(xsw, ysw, lw=vrow2['thick'].values, zorder=2, color='green')\n",
    "\n",
    "\n",
    "    axd['rho'].spines[:].set_sketch_params(1, 100, 10)\n",
    "    axd['rho'].spines[:].set_color('gray')\n",
    "    axd['rho'].set(xlim=(20, 40), ylim=(.62, .68))\n",
    "    axd['rho'].tick_params(right=True, left=False, labelleft=False, labelright=True, colors='gray')\n",
    "\n",
    "    (x0, y0), (x1, y1) = (dx+width+.02, dy+height/2), (xsc-.5, ysc-.0005)\n",
    "    angle = np.degrees(np.arctan((x1-x0)/(y0-y1)))\n",
    "\n",
    "    q1 = mpatches.ConnectionPatch((x0,y0), (x1, y1),\n",
    "                                  coordsA=axd['mu'].transData, coordsB=axd['rho'].transData,\n",
    "                                  color=pcd['artist'], arrowstyle=f\"]->, widthA=3, lengthA=1.25,angleA=7\",\n",
    "                                  lw=3, mutation_scale=20)\n",
    "    fig.add_artist(q1)\n",
    "\n",
    "    if 'line' in fname:\n",
    "        q2 = mpatches.ConnectionPatch((x0, dy-1.35*height), (xm, ym),\n",
    "                                      coordsA=axd['mu'].transData, coordsB=axd['rho'].transData,\n",
    "                                      color=pcd['artist'], arrowstyle=\"]->, widthA=4, lengthA=2,angleA=-20\", lw=3, mutation_scale=20)\n",
    "        fig.add_artist(q2)\n",
    "\n",
    "    axd['k'].scatter(.5, .5, color=pcd['base'])\n",
    "    axd['k'].set(aspect='equal', ylim=(0,1), xlim=(0,2))\n",
    "    ckey = 'section' if 'scatter' in fname else 'base'\n",
    "    axd['s'].add_artist(mpatches.Circle((.5, .5), .25, facecolor=mcolors.to_rgba(pcd[ckey], alpha=.15), edgecolor=pcd['base']))\n",
    "    axd['s'].set(aspect='equal', ylim=(0,1), xlim=(0,2.5))\n",
    "    \n",
    "    if 'line' in fname:\n",
    "        axd['k'].scatter(1.5, .5, color=pcd['base'])\n",
    "        axd['k'].hlines(.5, .5, 1.5, color=pcd['base'])\n",
    "        axd['s'].add_artist(mpatches.Rectangle((.75, .25+.25/2), 1, .25, \n",
    "                            facecolor=mcolors.to_rgba(pcd['base'], alpha=.15), edgecolor=pcd['base']))\n",
    "        axd['s'].add_artist(mpatches.Circle((2, .5), .25, \n",
    "                                            facecolor=mcolors.to_rgba(pcd['base'], alpha=.15), edgecolor=pcd['base']))\n",
    "    if 'scatter' in fname:\n",
    "        xi = mpatches.ConnectionPatch((.25,.5), (.5,.5), axd['s'].transData, axd['k'].transData, \n",
    "                                     color=pcd['functor'], arrowstyle=\"->\", mutation_scale=20, lw=2)\n",
    "    else:\n",
    "        xi = mpatches.ConnectionPatch((.25,.5), (1.5,.5), axd['s'].transData, axd['k'].transData, \n",
    "                                     color=pcd['functor'], arrowstyle=\"->\", mutation_scale=20, lw=2)\n",
    "            \n",
    "    axd['k'].add_artist(xi)\n",
    "    axd['k'].text(3, .5, r\"$\\xi$\", fontsize=14, color=pcd['functor'], va='bottom', ha='center')\n",
    "        \n",
    "    axd['s'].axis('off')\n",
    "    axd['k'].axis('off')   \n",
    "    \n",
    "    #tau, mu. rho\n",
    "    for axn, lab in [('tau', r'$\\tau$'), ('mu', '$\\mu$')]:\n",
    "        \n",
    "        if 'scatter' in fname:\n",
    "            sx, sy = (.5, .5)\n",
    "            tx, ty = (dx+width/2, dy)\n",
    "        else:\n",
    "            tx, ty = (dx+width/2, dy-2*height)\n",
    "            sx, sy = (.5+.45, .5)\n",
    "        sec = mpatches.ConnectionPatch((sx,sy), (tx, ty), axd['k'].transData, \n",
    "                                       axd[axn].transData, color=pcd['section'], \n",
    "                                       arrowstyle=\"->\", mutation_scale=20)\n",
    "        fig.add_artist(sec)\n",
    "                                           \n",
    "        axd[axn].text(tx-.05, ty-.1, lab, fontsize=14, color=pcd['section'], ha='center')\n",
    "    \n",
    "    if 'scatter' in fname:    \n",
    "        secrh = mpatches.ConnectionPatch((.5, .75), (xsc, ysc-yp), axd['s'].transData, axd['rho'].transData, \n",
    "                                         color=pcd['section'], arrowstyle=\"->\", mutation_scale=20)\n",
    "        axd['rho'].text(xsc-1, ysc-.01, r'$\\rho|_{\\xi^{-1}}$', fontsize=14, color=pcd['section'])\n",
    "    else:\n",
    "        secrh = mpatches.ConnectionPatch((.5+.45, .5+.25/2), (xm, ym-yp), axd['s'].transData, axd['rho'].transData, \n",
    "                                         color=pcd['section'], arrowstyle=\"->\", mutation_scale=20)\n",
    "        axd['s'].vlines(.5+.45,  .25+.25/2,  .5+.25/2, color=pcd['section'])\n",
    "        axd['rho'].text(xm+1, ym-.01, r'$\\rho|_{\\xi^{-1}}$', fontsize=14, color=pcd['section'], ha='left')\n",
    "    fig.add_artist(secrh)   \n",
    "   \n",
    "    \n",
    "    fig.savefig(paper_path/f'{fname}.png', dpi=200, bbox_inches='tight' )"
   ]
  },
  {
   "cell_type": "code",
   "execution_count": 732,
   "id": "df0cdcc4-05ef-4d09-b9dc-f929bbee06b8",
   "metadata": {},
   "outputs": [
    {
     "data": {
      "image/png": "[encoded data removed]",
      "text/plain": [
       "<Figure size 720x720 with 5 Axes>"
      ]
     },
     "metadata": {},
     "output_type": "display_data"
    }
   ],
   "source": [
    "nuqfig(\"full_line\")"
   ]
  },
  {
   "cell_type": "code",
   "execution_count": 644,
   "id": "934a1ef3-7279-4812-983c-4df79f67409a",
   "metadata": {},
   "outputs": [
    {
     "data": {
      "image/png": "[encoded data removed]",
      "text/plain": [
       "<Figure size 720x360 with 5 Axes>"
      ]
     },
     "metadata": {},
     "output_type": "display_data"
    }
   ],
   "source": [
    "nuqfig(\"full_scatter\")"
   ]
  },
  {
   "cell_type": "code",
   "execution_count": 37,
   "id": "3911e1e0-072b-403f-b7f7-8a63dc6629ca",
   "metadata": {},
   "outputs": [
    {
     "data": {
      "text/plain": [
       "0.19999999999999996"
      ]
     },
     "execution_count": 37,
     "metadata": {},
     "output_type": "execute_result"
    }
   ],
   "source": [
    "dy - height"
   ]
  },
  {
   "cell_type": "code",
   "execution_count": null,
   "id": "b1ddb102-f5c6-4145-8a48-c7209bfe6be0",
   "metadata": {},
   "outputs": [],
   "source": [
    "(xm, ym),"
   ]
  },
  {
   "cell_type": "code",
   "execution_count": null,
   "id": "0603e426-5d16-499f-80dd-819fe014b163",
   "metadata": {},
   "outputs": [],
   "source": [
    "(x0, x1), (y0, y1)"
   ]
  },
  {
   "cell_type": "code",
   "execution_count": null,
   "id": "9b43289a-ed78-4a8e-9841-aa042551cc06",
   "metadata": {},
   "outputs": [],
   "source": [
    "\n"
   ]
  }
 ],
 "metadata": {
  "kernelspec": {
   "display_name": "Python 3 (ipykernel)",
   "language": "python",
   "name": "python3"
  },
  "language_info": {
   "codemirror_mode": {
    "name": "ipython",
    "version": 3
   },
   "file_extension": ".py",
   "mimetype": "text/x-python",
   "name": "python",
   "nbconvert_exporter": "python",
   "pygments_lexer": "ipython3",
   "version": "3.13.1"
  }
 },
 "nbformat": 4,
 "nbformat_minor": 5
}
