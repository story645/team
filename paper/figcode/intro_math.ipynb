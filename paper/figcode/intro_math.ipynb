{
 "cells": [
  {
   "cell_type": "code",
   "execution_count": 1,
   "id": "03505249",
   "metadata": {},
   "outputs": [],
   "source": [
    "%matplotlib inline"
   ]
  },
  {
   "cell_type": "code",
   "execution_count": 144,
   "id": "0682e7f6",
   "metadata": {},
   "outputs": [],
   "source": [
    "import itertools \n",
    "\n",
    "import matplotlib.pyplot as plt\n",
    "import matplotlib.colors as mcolors\n",
    "import matplotlib.patches as mpatches\n",
    "import matplotlib.patheffects as PathEffects\n",
    "import numpy as np\n",
    "\n",
    "from papercolors import colordict as pcd"
   ]
  },
  {
   "cell_type": "code",
   "execution_count": 18,
   "id": "df009027",
   "metadata": {},
   "outputs": [],
   "source": [
    "mpatches.Circle?"
   ]
  },
  {
   "cell_type": "code",
   "execution_count": 368,
   "id": "1ca46d58",
   "metadata": {},
   "outputs": [
    {
     "data": {
      "image/png": "[encoded data removed]",
      "text/plain": [
       "<Figure size 432x288 with 6 Axes>"
      ]
     },
     "metadata": {
      "needs_background": "light"
     },
     "output_type": "display_data"
    }
   ],
   "source": [
    "fig, axd = plt.subplot_mosaic([['tau', 'tau_pull'], ['k', 's'], ['rho_push', 'rho']])\n",
    "x = [-0, .5, 1]\n",
    "y = [.5]*len(x)\n",
    "# K\n",
    "axd['k'].scatter(x,y, color=pcd['base'])\n",
    "axd['k'].axis('off')\n",
    "axd['k'].set(aspect='equal', ylim=(0, 1), xlim=(-.5, 1.5))\n",
    "\n",
    "#S\n",
    "radius = .2\n",
    "axd['s'].scatter(x,y, color=pcd['base'], s=1)\n",
    "[axd['s'].add_patch(mpatches.Circle((xi,yi), radius=radius, edgecolor=pcd['base'], \n",
    "                                    facecolor=mcolors.to_rgba(pcd['base'], alpha=.15)))\n",
    "                     for xi, yi in zip(x, y)]\n",
    "axd['s'].axis('off')\n",
    "axd['s'].set(aspect='equal', ylim=(0, 1), xlim=(-.5, 1.5))\n",
    "\n",
    "# tau \n",
    "d = [{'speed':2.5, 'velocity':4 ,'signal':'stop', 'strength':4, 'color': 'r', 'shape': 's'}, \n",
    "     {'speed':4, 'velocity':1 , 'signal':'yield', 'strength':3, 'color': 'y', 'shape': '^'},\n",
    "     {'speed':1, 'velocity':3 ,'signal':'go', 'strength':5, 'color':'g', 'shape': 'H'}]   \n",
    "\n",
    "\n",
    "rows = ['speed', 'velocity', 'signal', 'strength'][::-1]\n",
    "for axn in ['tau', 'tau_pull']:\n",
    "    for i, r in enumerate(rows):\n",
    "        if axn =='tau':\n",
    "            axd[axn].annotate(r, (-.5, i/len(rows)), ha='right', fontsize=10, color='gray')\n",
    "        for xi, di in zip(x,d):\n",
    "            axd[axn].annotate(di[r],(xi, i/len(rows)), ha='center', va='bottom', fontsize=10)\n",
    "            axd[axn].add_patch(mpatches.Rectangle((xi-.2, i/len(rows)), .4, 1/len(rows), \n",
    "                                 facecolor='white', edgecolor='k'))\n",
    "\n",
    "\n",
    "    axd[axn].set(xlim=(-.5, 1.5), ylim=(-.1,1), aspect='equal')\n",
    "\n",
    "    axd[axn].axis('off')\n",
    "\n",
    "for xi, yi, di in zip(x,y,d):\n",
    "    axd['rho'].scatter(di['speed'], di['velocity'],c=di['color'], marker=di['shape'], s=250, edgecolor='k')\n",
    "axd['rho'].set(xlim=(0, 5), ylim=(0,5), aspect='equal')\n",
    "\n",
    "\n",
    "for i, r in enumerate(['speed', 'velocity', 'color', 'shape'][::-1]):\n",
    "    if r == 'speed':\n",
    "        s = 'x'\n",
    "    elif r == 'velocity':\n",
    "        s = 'y'\n",
    "    else:\n",
    "        s = r\n",
    "    axd['rho_push'].annotate(s, (-.5, i/len(rows)), ha='right', fontsize=10, color='gray')\n",
    "    for xi, di in zip(x,d):\n",
    "        axd['rho_push'].annotate(di[r],(xi, i/len(rows)), ha='center', va='bottom', fontsize=10)\n",
    "        axd['rho_push'].add_patch(mpatches.Rectangle((xi-.2, i/len(rows)), .4, 1/len(rows), \n",
    "                             facecolor='white', edgecolor='k'))\n",
    "\n",
    "axd['rho_push'].axis('off')\n",
    "axd['rho_push'].set(xlim=(-.5, 1.5), ylim=(-.1,1), aspect='equal')\n",
    "\n",
    "for i, xi in enumerate(x):\n",
    "    at = mpatches.ConnectionPatch((xi,.5), (xi, -.005), \n",
    "                                  coordsA=axd['k'].transData, coordsB=axd['tau'].transData,\n",
    "                                  color=pcd['section'], arrowstyle=\"->\",)\n",
    "    arp = mpatches.ConnectionPatch((xi,.5), (xi, 1), \n",
    "                                  coordsA=axd['k'].transData, coordsB=axd['rho_push'].transData,\n",
    "                                  color=pcd['section'], arrowstyle=\"->\",)\n",
    "    fig.add_artist(at)\n",
    "    fig.add_artist(arp)\n",
    "    \n",
    "    margin = .2\n",
    "    xt = np.random.uniform(low = d[i]['speed']-margin, high = d[i]['speed']+margin, size=10)\n",
    "    yt = np.random.uniform(low = d[i]['velocity']-margin, high = d[i]['velocity']+margin, size=10)\n",
    "    for j, (xs,ys) in enumerate(zip(np.random.uniform(low=xi-radius+.05, high=xi+radius-.05, size=5),\n",
    "                       np.random.uniform(low=.5-radius+.05, high=.5+radius-.05, size=5))):\n",
    "        atp = mpatches.ConnectionPatch((xs,ys), (xi, -.005), \n",
    "                                  coordsA=axd['s'].transData, coordsB=axd['tau_pull'].transData,\n",
    "                                  color=pcd['section'], arrowstyle=\"->\",linestyle='--')\n",
    "       \n",
    "        ar = mpatches.ConnectionPatch((xs,ys), (xt[j], yt[j]), \n",
    "                                  coordsA=axd['s'].transData, coordsB=axd['rho'].transData,\n",
    "                                  color=pcd['section'], arrowstyle=\"->\",)\n",
    "        fig.add_artist(atp)\n",
    "        fig.add_artist(ar)  \n",
    "\n",
    "fig.text(.2, .57, r'$\\tau$', color=pcd['section'])\n",
    "fig.text(.17, .43, r'$\\xi_*\\rho$', color=pcd['section'])\n",
    "fig.text(.58, .6, r'$\\xi^*\\tau$', color=pcd['section'])\n",
    "fig.text(.64, .4, r'$\\rho$', color=pcd['section'])\n",
    "        \n",
    "fig.text(.5, .25, r\"$\\xi_*$\", color=pcd['functor'])\n",
    "push = mpatches.ConnectionPatch((-.25,-.75), (1.25, -.75), \n",
    "                                  coordsA=axd['s'].transData, coordsB=axd['k'].transData,\n",
    "                                  color=pcd['functor'], arrowstyle=\"->\",linestyle='--')\n",
    "fig.add_artist(push)\n",
    "\n",
    "fig.text(.5, .8, r\"$\\xi^*$\", color=pcd['functor'])\n",
    "pull = mpatches.ConnectionPatch((1.25, 1.75), (-.25, 1.75), \n",
    "                                  coordsA=axd['k'].transData, coordsB=axd['s'].transData,\n",
    "                                  color=pcd['functor'], arrowstyle=\"->\")\n",
    "fig.add_artist(pull)\n",
    "fig.text(.5, .52, r\"$\\xi$\", color=pcd['functor'])\n",
    "vind = mpatches.ConnectionPatch((-.25,.5), (1.25, .5), \n",
    "                                  coordsA=axd['s'].transData, coordsB=axd['k'].transData,\n",
    "                                  color=pcd['functor'], arrowstyle=\"->\")\n",
    "fig.add_artist(vind)\n",
    "    \n",
    "fig.savefig('../figures/xi_scatter.png')"
   ]
  },
  {
   "cell_type": "code",
   "execution_count": 257,
   "id": "da0f4bf1",
   "metadata": {},
   "outputs": [],
   "source": [
    "mpatches.ConnectionPatch?"
   ]
  },
  {
   "cell_type": "code",
   "execution_count": 272,
   "id": "26229cf2",
   "metadata": {},
   "outputs": [
    {
     "data": {
      "text/plain": [
       "0.8"
      ]
     },
     "execution_count": 272,
     "metadata": {},
     "output_type": "execute_result"
    }
   ],
   "source": [
    "xi-radius"
   ]
  },
  {
   "cell_type": "code",
   "execution_count": 304,
   "id": "c1987fa5",
   "metadata": {},
   "outputs": [
    {
     "data": {
      "text/plain": [
       "3"
      ]
     },
     "execution_count": 304,
     "metadata": {},
     "output_type": "execute_result"
    }
   ],
   "source": [
    "len(d)"
   ]
  },
  {
   "cell_type": "code",
   "execution_count": null,
   "id": "acc2213b",
   "metadata": {},
   "outputs": [],
   "source": []
  }
 ],
 "metadata": {
  "kernelspec": {
   "display_name": "Python [conda env:prop] *",
   "language": "python",
   "name": "conda-env-prop-py"
  },
  "language_info": {
   "codemirror_mode": {
    "name": "ipython",
    "version": 3
   },
   "file_extension": ".py",
   "mimetype": "text/x-python",
   "name": "python",
   "nbconvert_exporter": "python",
   "pygments_lexer": "ipython3",
   "version": "3.8.10"
  }
 },
 "nbformat": 4,
 "nbformat_minor": 5
}
