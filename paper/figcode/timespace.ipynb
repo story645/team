{
 "cells": [
  {
   "cell_type": "code",
   "execution_count": null,
   "id": "3a8b406e-8b2f-4934-aaf2-0f963a5711f4",
   "metadata": {},
   "outputs": [],
   "source": [
    "%matplotlib inline"
   ]
  },
  {
   "cell_type": "code",
   "execution_count": null,
   "id": "b5de8d0a-1b22-4ee7-83b5-fdd790e9f04c",
   "metadata": {},
   "outputs": [],
   "source": [
    "import matplotlib.pyplot as plt\n",
    "import xarray as xr\n",
    "import pandas as pd"
   ]
  },
  {
   "cell_type": "code",
   "execution_count": null,
   "id": "8bb72bf4-2719-4a41-8a2e-9991b81ce3b8",
   "metadata": {},
   "outputs": [],
   "source": [
    "ds = xr.open_dataset('air.mon.mean.nc')\n",
    "Z = ds.sel(time='2021-01-01', lon=slice(360-126, 360-55), lat=slice(55, 20)).to_array().squeeze()\n",
    "xy = ds.sel(time=slice('2020-01-01', '2022-01-01'),  lon=slice(360-95, 360-55), lat=slice(45, 35)).to_dataframe()\n",
    "xyt = xy.pivot_table(columns=['lat', 'lon'], index = 'time', values='air')"
   ]
  },
  {
   "cell_type": "code",
   "execution_count": null,
   "id": "29161d55-2a29-45a2-b1d1-016bad63bd4d",
   "metadata": {},
   "outputs": [],
   "source": [
    "fig, axd = plt.subplot_mosaic([['map_map', 'map_time', 'map_time'], ['time_map', 'time_time', 'time_time']], figsize=(15,5))\n",
    "\n",
    "axd['map_map'].pcolormesh(Z[::-1], cmap='coolwarm')\n",
    "axd['map_time'].plot(Z)\n",
    "\n",
    "axd['time_map'].pcolormesh(xyt[::-1], cmap='coolwarm')\n",
    "axd['time_time'].plot(xyt)\n",
    "\n",
    "plt.show()"
   ]
  },
  {
   "cell_type": "code",
   "execution_count": null,
   "id": "306a5f18-4d1c-454a-8873-c95b50b6708e",
   "metadata": {},
   "outputs": [],
   "source": [
    "plt.subplot(211)\n",
    "with plt.xkcd():\n",
    "    plt.plot([1,2,3])\n",
    "    \n",
    "plt.subplot(212)\n",
    "plt.plot([4,5,6])"
   ]
  },
  {
   "cell_type": "code",
   "execution_count": null,
   "id": "529b850b-ddc5-48e2-8e21-6ba1bbe7a465",
   "metadata": {},
   "outputs": [],
   "source": [
    "import matplotlib as mpl\n",
    "import matplotlib.pyplot as plt\n",
    "import numpy as np\n",
    "\n",
    "# prepare some fancy data\n",
    "x = np.linspace(0,5,200)\n",
    "y_0 = 10*x**0.2-x**1.5\n",
    "y_1 = 20*np.sin(x)\n",
    "y_2 = x**2\n",
    "\n",
    "# prepare figure and axis\n",
    "fig, ax = plt.subplots(nrows=1, ncols = 1, figsize = (5,3), dpi = 128)\n",
    "\n",
    "# plot with some normal style\n",
    "ax.plot(x, y_0, color = 'gray', ls='-.', lw = 2, label = 'normal style')\n",
    "\n",
    "ln = ax.plot(x, y_1, color = 'blue', label = 'wavy style!')\n",
    "ln[0].set_sketch_params(5, 15, 1)\n",
    "\n",
    "# again plot with some different normal style\n",
    "ax.plot(x, y_2, color = 'orange', ls = '-', lw = 3, label = 'again normal style')\n",
    "\n",
    "ax.legend(loc='best') # turn on legend with automatic best location\n",
    "plt.show()"
   ]
  },
  {
   "cell_type": "code",
   "execution_count": null,
   "id": "7a2ef73c-8a62-4b88-9874-5f3dcb73c7d5",
   "metadata": {},
   "outputs": [],
   "source": [
    "ln[0].set_sketch_params"
   ]
  },
  {
   "cell_type": "code",
   "execution_count": null,
   "id": "21ea454d-b979-476c-91bd-dbc7312fbc07",
   "metadata": {},
   "outputs": [],
   "source": [
    "import datetime"
   ]
  },
  {
   "cell_type": "code",
   "execution_count": null,
   "id": "e584631e-aa2f-4b68-8f57-91a66c24e8d3",
   "metadata": {},
   "outputs": [],
   "source": [
    "start = datetime.date(2023, 7,8)"
   ]
  },
  {
   "cell_type": "code",
   "execution_count": null,
   "id": "6f90ef00-5749-47ef-888c-b8cef9ce9443",
   "metadata": {},
   "outputs": [],
   "source": [
    "start - datetime.date(2023, 7,9)"
   ]
  },
  {
   "cell_type": "code",
   "execution_count": null,
   "id": "970122a4-bd0a-44f0-baf9-8c52e8485073",
   "metadata": {},
   "outputs": [],
   "source": [
    "datetime.date(2023, 7,9) - datetime.date(2023, 7,22)"
   ]
  },
  {
   "cell_type": "code",
   "execution_count": null,
   "id": "d0561a74-0b6a-4f4d-9144-fa7c6cb78ca8",
   "metadata": {},
   "outputs": [],
   "source": [
    "start - datetime.date(2023, 7,22)"
   ]
  },
  {
   "cell_type": "code",
   "execution_count": null,
   "id": "8d045d68-2533-42ee-95c5-5cfca231a25e",
   "metadata": {},
   "outputs": [],
   "source": [
    "np.arange(0, 365, 14)+2"
   ]
  },
  {
   "cell_type": "code",
   "execution_count": null,
   "id": "96e2be1c-a1bd-40ab-85fd-8a0fa1751dab",
   "metadata": {},
   "outputs": [],
   "source": [
    "import re"
   ]
  },
  {
   "cell_type": "code",
   "execution_count": null,
   "id": "c891628e-2cfd-4231-bbfb-ec0cdf03f22d",
   "metadata": {},
   "outputs": [],
   "source": [
    "s = \"(1.2)\"\n",
    "re.match(r\"\\({re.escape('(\\s*+[0-9]*.[0-9]*\\s*,*){1,3})'}\\)\", s)\n"
   ]
  },
  {
   "cell_type": "code",
   "execution_count": 9,
   "id": "bef032d8-46ad-4c58-b414-18fd57eababe",
   "metadata": {},
   "outputs": [],
   "source": [
    "%matplotlib inline"
   ]
  },
  {
   "cell_type": "code",
   "execution_count": 10,
   "id": "1105d5bd-eb5c-4ed2-b7d4-c9b0311384c0",
   "metadata": {},
   "outputs": [],
   "source": [
    "import matplotlib.pyplot as plt"
   ]
  },
  {
   "cell_type": "code",
   "execution_count": 11,
   "id": "616d7c3b-fb9e-4b91-9679-cde39c6d5e3a",
   "metadata": {},
   "outputs": [
    {
     "data": {
      "text/plain": [
       "Text(0.5, 0.5, 'There are 几个汉字 in between!')"
      ]
     },
     "execution_count": 11,
     "metadata": {},
     "output_type": "execute_result"
    },
    {
     "data": {
      "image/png": "[encoded data removed]",
      "text/plain": [
       "<Figure size 640x480 with 1 Axes>"
      ]
     },
     "metadata": {},
     "output_type": "display_data"
    }
   ],
   "source": [
    "fig, ax = plt.subplots()\n",
    "ax.text(\n",
    "    .5, .5, \"There are 几个汉字 in between!\",\n",
    "    family=['DejaVu Sans', 'Times New Roman'],\n",
    "    ha='center'\n",
    ")"
   ]
  },
  {
   "cell_type": "code",
   "execution_count": 16,
   "id": "e4f3bef6-0b97-4c53-95b1-f97e7cb32696",
   "metadata": {},
   "outputs": [
    {
     "name": "stderr",
     "output_type": "stream",
     "text": [
      "C:\\Users\\story\\miniconda3\\envs\\paper\\lib\\site-packages\\IPython\\core\\pylabtools.py:152: UserWarning: Glyph 128579 (\\N{UPSIDE-DOWN FACE}) missing from current font.\n",
      "  fig.canvas.print_figure(bytes_io, **kw)\n"
     ]
    },
    {
     "data": {
      "image/png": "[encoded data removed]",
      "text/plain": [
       "<Figure size 640x480 with 1 Axes>"
      ]
     },
     "metadata": {},
     "output_type": "display_data"
    }
   ],
   "source": [
    "font_list = ['DejaVu Sans', 'Times New Roman']\n",
    "fig, ax = plt.subplots()\n",
    "ax.text(.5, .5, \"Hello 🙃 World!\", family=font_list)\n",
    "plt.show()"
   ]
  },
  {
   "cell_type": "code",
   "execution_count": 40,
   "id": "91ad6ae2-2178-41ce-93d6-0437c795e64f",
   "metadata": {},
   "outputs": [
    {
     "ename": "TypeError",
     "evalue": "resetwarnings() got an unexpected keyword argument 'message'",
     "output_type": "error",
     "traceback": [
      "\u001b[1;31m---------------------------------------------------------------------------\u001b[0m",
      "\u001b[1;31mTypeError\u001b[0m                                 Traceback (most recent call last)",
      "Cell \u001b[1;32mIn[40], line 9\u001b[0m\n\u001b[0;32m      7\u001b[0m warnings\u001b[38;5;241m.\u001b[39mfilterwarnings(\u001b[38;5;124m'\u001b[39m\u001b[38;5;124mignore\u001b[39m\u001b[38;5;124m'\u001b[39m, message\u001b[38;5;241m=\u001b[39m\u001b[38;5;124m\"\u001b[39m\u001b[38;5;124mGlyph\u001b[39m\u001b[38;5;124m\"\u001b[39m)\n\u001b[0;32m      8\u001b[0m fxn()\n\u001b[1;32m----> 9\u001b[0m \u001b[43mwarnings\u001b[49m\u001b[38;5;241;43m.\u001b[39;49m\u001b[43mresetwarnings\u001b[49m\u001b[43m(\u001b[49m\u001b[38;5;124;43m'\u001b[39;49m\u001b[38;5;124;43mignore\u001b[39;49m\u001b[38;5;124;43m'\u001b[39;49m\u001b[43m,\u001b[49m\u001b[43m \u001b[49m\u001b[43mmessage\u001b[49m\u001b[38;5;241;43m=\u001b[39;49m\u001b[38;5;124;43m\"\u001b[39;49m\u001b[38;5;124;43mGlyph\u001b[39;49m\u001b[38;5;124;43m\"\u001b[39;49m\u001b[43m)\u001b[49m\n\u001b[0;32m     10\u001b[0m fxn()\n",
      "\u001b[1;31mTypeError\u001b[0m: resetwarnings() got an unexpected keyword argument 'message'"
     ]
    }
   ],
   "source": [
    "import warnings\n",
    "\n",
    "def fxn():\n",
    "    warnings.warn(\"Glyph\")\n",
    "    \n",
    "\n",
    "warnings.filterwarnings('ignore', message=\"Glyph\")\n",
    "fxn()\n",
    "warnings.resetwarnings('ignore', message=\"Glyph\")\n",
    "fxn()"
   ]
  },
  {
   "cell_type": "code",
   "execution_count": 39,
   "id": "efdc4254-ee55-493d-bec2-9f7460819234",
   "metadata": {},
   "outputs": [
    {
     "data": {
      "text/plain": [
       "[['Glyph']]"
      ]
     },
     "execution_count": 39,
     "metadata": {},
     "output_type": "execute_result"
    }
   ],
   "source": [
    "[list(wi.message.args) for wi in w]"
   ]
  },
  {
   "cell_type": "code",
   "execution_count": 36,
   "id": "5f9f35dd-ca9a-4126-a1f6-40e78939cdac",
   "metadata": {},
   "outputs": [
    {
     "data": {
      "text/plain": [
       "['__add__',\n",
       " '__class__',\n",
       " '__class_getitem__',\n",
       " '__contains__',\n",
       " '__delattr__',\n",
       " '__dir__',\n",
       " '__doc__',\n",
       " '__eq__',\n",
       " '__format__',\n",
       " '__ge__',\n",
       " '__getattribute__',\n",
       " '__getitem__',\n",
       " '__getnewargs__',\n",
       " '__gt__',\n",
       " '__hash__',\n",
       " '__init__',\n",
       " '__init_subclass__',\n",
       " '__iter__',\n",
       " '__le__',\n",
       " '__len__',\n",
       " '__lt__',\n",
       " '__mul__',\n",
       " '__ne__',\n",
       " '__new__',\n",
       " '__reduce__',\n",
       " '__reduce_ex__',\n",
       " '__repr__',\n",
       " '__rmul__',\n",
       " '__setattr__',\n",
       " '__sizeof__',\n",
       " '__str__',\n",
       " '__subclasshook__',\n",
       " 'count',\n",
       " 'index']"
      ]
     },
     "execution_count": 36,
     "metadata": {},
     "output_type": "execute_result"
    }
   ],
   "source": []
  },
  {
   "cell_type": "code",
   "execution_count": null,
   "id": "7f7d0a4d-b29d-4619-87da-1ee2f4df117e",
   "metadata": {},
   "outputs": [],
   "source": []
  }
 ],
 "metadata": {
  "kernelspec": {
   "display_name": "Python 3 (ipykernel)",
   "language": "python",
   "name": "python3"
  },
  "language_info": {
   "codemirror_mode": {
    "name": "ipython",
    "version": 3
   },
   "file_extension": ".py",
   "mimetype": "text/x-python",
   "name": "python",
   "nbconvert_exporter": "python",
   "pygments_lexer": "ipython3",
   "version": "3.10.10"
  }
 },
 "nbformat": 4,
 "nbformat_minor": 5
}
