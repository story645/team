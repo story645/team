{
 "cells": [
  {
   "cell_type": "code",
   "execution_count": 15,
   "id": "f6a7f9a6-a8d0-4bcb-9978-3e483183cf6c",
   "metadata": {},
   "outputs": [],
   "source": [
    "#https://www.ncei.noaa.gov/access/metadata/landing-page/bin/iso?id=gov.noaa.ncdc:C00861\n",
    "import pandas as pd"
   ]
  },
  {
   "cell_type": "code",
   "execution_count": 16,
   "id": "f0c166f7-a71b-4b66-a117-0d03ad9be5da",
   "metadata": {},
   "outputs": [],
   "source": [
    "names = ['ID', 'DATE', 'ELEMENT', 'DATA_VALUE', 'M-FLAG', 'Q-FLAG', 'S-FLAG', 'OBS-TIME']\n",
    "df = pd.read_csv('2022.csv.gz',  names = names, compression='gzip')"
   ]
  },
  {
   "cell_type": "code",
   "execution_count": 17,
   "id": "274c8e34-cfa5-413f-b60a-05b1d3093d4f",
   "metadata": {},
   "outputs": [
    {
     "data": {
      "text/html": [
       "<div>\n",
       "<style scoped>\n",
       "    .dataframe tbody tr th:only-of-type {\n",
       "        vertical-align: middle;\n",
       "    }\n",
       "\n",
       "    .dataframe tbody tr th {\n",
       "        vertical-align: top;\n",
       "    }\n",
       "\n",
       "    .dataframe thead th {\n",
       "        text-align: right;\n",
       "    }\n",
       "</style>\n",
       "<table border=\"1\" class=\"dataframe\">\n",
       "  <thead>\n",
       "    <tr style=\"text-align: right;\">\n",
       "      <th></th>\n",
       "      <th>ID</th>\n",
       "      <th>DATE</th>\n",
       "      <th>ELEMENT</th>\n",
       "      <th>DATA_VALUE</th>\n",
       "      <th>M-FLAG</th>\n",
       "      <th>Q-FLAG</th>\n",
       "      <th>S-FLAG</th>\n",
       "      <th>OBS-TIME</th>\n",
       "    </tr>\n",
       "  </thead>\n",
       "  <tbody>\n",
       "    <tr>\n",
       "      <th>0</th>\n",
       "      <td>AE000041196</td>\n",
       "      <td>20220101</td>\n",
       "      <td>TAVG</td>\n",
       "      <td>204</td>\n",
       "      <td>H</td>\n",
       "      <td>NaN</td>\n",
       "      <td>S</td>\n",
       "      <td>NaN</td>\n",
       "    </tr>\n",
       "    <tr>\n",
       "      <th>1</th>\n",
       "      <td>AEM00041194</td>\n",
       "      <td>20220101</td>\n",
       "      <td>TAVG</td>\n",
       "      <td>211</td>\n",
       "      <td>H</td>\n",
       "      <td>NaN</td>\n",
       "      <td>S</td>\n",
       "      <td>NaN</td>\n",
       "    </tr>\n",
       "    <tr>\n",
       "      <th>2</th>\n",
       "      <td>AEM00041217</td>\n",
       "      <td>20220101</td>\n",
       "      <td>TAVG</td>\n",
       "      <td>209</td>\n",
       "      <td>H</td>\n",
       "      <td>NaN</td>\n",
       "      <td>S</td>\n",
       "      <td>NaN</td>\n",
       "    </tr>\n",
       "    <tr>\n",
       "      <th>3</th>\n",
       "      <td>AEM00041218</td>\n",
       "      <td>20220101</td>\n",
       "      <td>TAVG</td>\n",
       "      <td>207</td>\n",
       "      <td>H</td>\n",
       "      <td>NaN</td>\n",
       "      <td>S</td>\n",
       "      <td>NaN</td>\n",
       "    </tr>\n",
       "    <tr>\n",
       "      <th>4</th>\n",
       "      <td>AG000060390</td>\n",
       "      <td>20220101</td>\n",
       "      <td>TAVG</td>\n",
       "      <td>121</td>\n",
       "      <td>H</td>\n",
       "      <td>NaN</td>\n",
       "      <td>S</td>\n",
       "      <td>NaN</td>\n",
       "    </tr>\n",
       "  </tbody>\n",
       "</table>\n",
       "</div>"
      ],
      "text/plain": [
       "            ID      DATE ELEMENT  DATA_VALUE M-FLAG Q-FLAG S-FLAG  OBS-TIME\n",
       "0  AE000041196  20220101    TAVG         204      H    NaN      S       NaN\n",
       "1  AEM00041194  20220101    TAVG         211      H    NaN      S       NaN\n",
       "2  AEM00041217  20220101    TAVG         209      H    NaN      S       NaN\n",
       "3  AEM00041218  20220101    TAVG         207      H    NaN      S       NaN\n",
       "4  AG000060390  20220101    TAVG         121      H    NaN      S       NaN"
      ]
     },
     "execution_count": 17,
     "metadata": {},
     "output_type": "execute_result"
    }
   ],
   "source": [
    "df.head()"
   ]
  },
  {
   "cell_type": "code",
   "execution_count": 18,
   "id": "a85e62f7-27d1-4f53-b9f3-a07b1e3304a3",
   "metadata": {},
   "outputs": [],
   "source": [
    "# {column name:extents of the fixed-width fields}\n",
    "columns = {\"ID\": (0,11), \"LATITUDE\": (12, 20), \"LONGITUDE\": (21, 30), \"ELEVATION\": (31, 37),\"STATE\": (38, 40),\n",
    "           \"NAME\": (41, 71), \"GSN FLAG\": (72, 75), \"HCN/CRN FLAG\": (76, 79),\"WMO ID\": (80, 85)}\n",
    "dfst = pd.read_fwf(\"http://noaa-ghcn-pds.s3.amazonaws.com/ghcnd-stations.txt\", \n",
    "                    colspecs=list(columns.values()), names=list(columns.keys())).dropna(subset=['STATE'])"
   ]
  },
  {
   "cell_type": "code",
   "execution_count": 19,
   "id": "8ddf1e10-0a81-4806-b29d-287fa50bb923",
   "metadata": {},
   "outputs": [
    {
     "data": {
      "text/plain": [
       "Index(['ID', 'LATITUDE', 'LONGITUDE', 'ELEVATION', 'STATE', 'NAME', 'GSN FLAG',\n",
       "       'HCN/CRN FLAG', 'WMO ID'],\n",
       "      dtype='object')"
      ]
     },
     "execution_count": 19,
     "metadata": {},
     "output_type": "execute_result"
    }
   ],
   "source": [
    "dfst.columns"
   ]
  },
  {
   "cell_type": "code",
   "execution_count": 20,
   "id": "d3ff1d78-19c9-4bda-9c82-1f42924c50b7",
   "metadata": {},
   "outputs": [],
   "source": [
    "nyst = dfst[['ID', 'LATITUDE', 'LONGITUDE', 'STATE', 'NAME']][dfst['STATE'].str.match(\"NY\")]"
   ]
  },
  {
   "cell_type": "code",
   "execution_count": 21,
   "id": "b7377e59-e602-4b0a-b1bc-21976ad531b2",
   "metadata": {},
   "outputs": [],
   "source": [
    "nydf = df[['ID', 'DATE', 'ELEMENT', 'DATA_VALUE']][df['ID'].isin(nyst['ID'])  & df['ELEMENT'].isin(['TAVG', 'PRCP' ])]"
   ]
  },
  {
   "cell_type": "code",
   "execution_count": 22,
   "id": "b36aee23-282e-40b8-865f-ce5320d65983",
   "metadata": {},
   "outputs": [],
   "source": [
    "ny = nydf.merge(nyst, on='ID')"
   ]
  },
  {
   "cell_type": "code",
   "execution_count": 23,
   "id": "ead1864b-a029-4643-b25b-d27373545943",
   "metadata": {},
   "outputs": [],
   "source": [
    "nyp = ny.pivot(index=['NAME','LATITUDE', 'LONGITUDE', 'DATE'], columns=['ELEMENT'], values=['DATA_VALUE']).reset_index()"
   ]
  },
  {
   "cell_type": "code",
   "execution_count": 25,
   "id": "b078ad52-86ce-4f0e-bc59-d179e5792e6e",
   "metadata": {},
   "outputs": [],
   "source": [
    "nyp.columns = [c[0] if i <4 else c[1] for i, c in enumerate(nyp.columns.to_flat_index())]"
   ]
  },
  {
   "cell_type": "code",
   "execution_count": 26,
   "id": "a6df56c6-0a66-465a-981c-0424df3d8ba8",
   "metadata": {},
   "outputs": [],
   "source": [
    "nyp['TAVGF'] =  (nyp['TAVG'].astype(float)/10) *(9/5) + 32"
   ]
  },
  {
   "cell_type": "code",
   "execution_count": 27,
   "id": "16dcb048-45af-4130-ada2-721b27c5f383",
   "metadata": {},
   "outputs": [],
   "source": [
    "nyp['PRCPI'] = nyp['PRCP'].astype(float)/10 * 0.039370 "
   ]
  },
  {
   "cell_type": "code",
   "execution_count": 28,
   "id": "4d551234-2cdb-4bda-9b4c-d9b9fe0e32ee",
   "metadata": {},
   "outputs": [],
   "source": [
    "nyp.to_csv(\"nydata\", index=False)"
   ]
  },
  {
   "cell_type": "code",
   "execution_count": null,
   "id": "c9cdb541-7ceb-446d-a559-b1d706e7abd0",
   "metadata": {},
   "outputs": [],
   "source": []
  }
 ],
 "metadata": {
  "kernelspec": {
   "display_name": "Python 3 (ipykernel)",
   "language": "python",
   "name": "python3"
  },
  "language_info": {
   "codemirror_mode": {
    "name": "ipython",
    "version": 3
   },
   "file_extension": ".py",
   "mimetype": "text/x-python",
   "name": "python",
   "nbconvert_exporter": "python",
   "pygments_lexer": "ipython3",
   "version": "3.12.7"
  }
 },
 "nbformat": 4,
 "nbformat_minor": 5
}
