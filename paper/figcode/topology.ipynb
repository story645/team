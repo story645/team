{
 "cells": [
  {
   "cell_type": "code",
   "execution_count": 2,
   "id": "1e28d453",
   "metadata": {},
   "outputs": [],
   "source": [
    "%load_ext autoreload"
   ]
  },
  {
   "cell_type": "code",
   "execution_count": 3,
   "id": "e185899c",
   "metadata": {},
   "outputs": [],
   "source": [
    "%autoreload 2"
   ]
  },
  {
   "cell_type": "code",
   "execution_count": 4,
   "id": "649b18dc",
   "metadata": {},
   "outputs": [
    {
     "ename": "ImportError",
     "evalue": "DLL load failed while importing _imaging: The specified module could not be found.",
     "output_type": "error",
     "traceback": [
      "\u001b[1;31m---------------------------------------------------------------------------\u001b[0m",
      "\u001b[1;31mImportError\u001b[0m                               Traceback (most recent call last)",
      "Cell \u001b[1;32mIn[4], line 6\u001b[0m\n\u001b[0;32m      2\u001b[0m \u001b[38;5;28;01mimport\u001b[39;00m \u001b[38;5;21;01mitertools\u001b[39;00m \n\u001b[0;32m      4\u001b[0m \u001b[38;5;28;01mfrom\u001b[39;00m \u001b[38;5;21;01mcycler\u001b[39;00m \u001b[38;5;28;01mimport\u001b[39;00m cycler\n\u001b[1;32m----> 6\u001b[0m \u001b[38;5;28;01mimport\u001b[39;00m \u001b[38;5;21;01mmatplotlib\u001b[39;00m\u001b[38;5;21;01m.\u001b[39;00m\u001b[38;5;21;01mpyplot\u001b[39;00m \u001b[38;5;28;01mas\u001b[39;00m \u001b[38;5;21;01mplt\u001b[39;00m\n\u001b[0;32m      7\u001b[0m \u001b[38;5;28;01mfrom\u001b[39;00m \u001b[38;5;21;01mmatplotlib\u001b[39;00m\u001b[38;5;21;01m.\u001b[39;00m\u001b[38;5;21;01mcollections\u001b[39;00m \u001b[38;5;28;01mimport\u001b[39;00m PatchCollection\n\u001b[0;32m      8\u001b[0m \u001b[38;5;28;01mimport\u001b[39;00m \u001b[38;5;21;01mmatplotlib\u001b[39;00m\u001b[38;5;21;01m.\u001b[39;00m\u001b[38;5;21;01mcm\u001b[39;00m \u001b[38;5;28;01mas\u001b[39;00m \u001b[38;5;21;01mmcm\u001b[39;00m\n",
      "File \u001b[1;32m~\\miniconda3\\envs\\paper\\Lib\\site-packages\\matplotlib\\__init__.py:161\u001b[0m\n\u001b[0;32m    157\u001b[0m \u001b[38;5;28;01mfrom\u001b[39;00m \u001b[38;5;21;01mpackaging\u001b[39;00m\u001b[38;5;21;01m.\u001b[39;00m\u001b[38;5;21;01mversion\u001b[39;00m \u001b[38;5;28;01mimport\u001b[39;00m parse \u001b[38;5;28;01mas\u001b[39;00m parse_version\n\u001b[0;32m    159\u001b[0m \u001b[38;5;66;03m# cbook must import matplotlib only within function\u001b[39;00m\n\u001b[0;32m    160\u001b[0m \u001b[38;5;66;03m# definitions, so it is safe to import from it here.\u001b[39;00m\n\u001b[1;32m--> 161\u001b[0m \u001b[38;5;28;01mfrom\u001b[39;00m \u001b[38;5;21;01m.\u001b[39;00m \u001b[38;5;28;01mimport\u001b[39;00m _api, _version, cbook, _docstring, rcsetup\n\u001b[0;32m    162\u001b[0m \u001b[38;5;28;01mfrom\u001b[39;00m \u001b[38;5;21;01mmatplotlib\u001b[39;00m\u001b[38;5;21;01m.\u001b[39;00m\u001b[38;5;21;01mcbook\u001b[39;00m \u001b[38;5;28;01mimport\u001b[39;00m sanitize_sequence\n\u001b[0;32m    163\u001b[0m \u001b[38;5;28;01mfrom\u001b[39;00m \u001b[38;5;21;01mmatplotlib\u001b[39;00m\u001b[38;5;21;01m.\u001b[39;00m\u001b[38;5;21;01m_api\u001b[39;00m \u001b[38;5;28;01mimport\u001b[39;00m MatplotlibDeprecationWarning\n",
      "File \u001b[1;32m~\\miniconda3\\envs\\paper\\Lib\\site-packages\\matplotlib\\rcsetup.py:27\u001b[0m\n\u001b[0;32m     25\u001b[0m \u001b[38;5;28;01mfrom\u001b[39;00m \u001b[38;5;21;01mmatplotlib\u001b[39;00m \u001b[38;5;28;01mimport\u001b[39;00m _api, cbook\n\u001b[0;32m     26\u001b[0m \u001b[38;5;28;01mfrom\u001b[39;00m \u001b[38;5;21;01mmatplotlib\u001b[39;00m\u001b[38;5;21;01m.\u001b[39;00m\u001b[38;5;21;01mcbook\u001b[39;00m \u001b[38;5;28;01mimport\u001b[39;00m ls_mapper\n\u001b[1;32m---> 27\u001b[0m \u001b[38;5;28;01mfrom\u001b[39;00m \u001b[38;5;21;01mmatplotlib\u001b[39;00m\u001b[38;5;21;01m.\u001b[39;00m\u001b[38;5;21;01mcolors\u001b[39;00m \u001b[38;5;28;01mimport\u001b[39;00m Colormap, is_color_like\n\u001b[0;32m     28\u001b[0m \u001b[38;5;28;01mfrom\u001b[39;00m \u001b[38;5;21;01mmatplotlib\u001b[39;00m\u001b[38;5;21;01m.\u001b[39;00m\u001b[38;5;21;01m_fontconfig_pattern\u001b[39;00m \u001b[38;5;28;01mimport\u001b[39;00m parse_fontconfig_pattern\n\u001b[0;32m     29\u001b[0m \u001b[38;5;28;01mfrom\u001b[39;00m \u001b[38;5;21;01mmatplotlib\u001b[39;00m\u001b[38;5;21;01m.\u001b[39;00m\u001b[38;5;21;01m_enums\u001b[39;00m \u001b[38;5;28;01mimport\u001b[39;00m JoinStyle, CapStyle\n",
      "File \u001b[1;32m~\\miniconda3\\envs\\paper\\Lib\\site-packages\\matplotlib\\colors.py:52\u001b[0m\n\u001b[0;32m     49\u001b[0m \u001b[38;5;28;01mfrom\u001b[39;00m \u001b[38;5;21;01mnumbers\u001b[39;00m \u001b[38;5;28;01mimport\u001b[39;00m Real\n\u001b[0;32m     50\u001b[0m \u001b[38;5;28;01mimport\u001b[39;00m \u001b[38;5;21;01mre\u001b[39;00m\n\u001b[1;32m---> 52\u001b[0m \u001b[38;5;28;01mfrom\u001b[39;00m \u001b[38;5;21;01mPIL\u001b[39;00m \u001b[38;5;28;01mimport\u001b[39;00m Image\n\u001b[0;32m     53\u001b[0m \u001b[38;5;28;01mfrom\u001b[39;00m \u001b[38;5;21;01mPIL\u001b[39;00m\u001b[38;5;21;01m.\u001b[39;00m\u001b[38;5;21;01mPngImagePlugin\u001b[39;00m \u001b[38;5;28;01mimport\u001b[39;00m PngInfo\n\u001b[0;32m     55\u001b[0m \u001b[38;5;28;01mimport\u001b[39;00m \u001b[38;5;21;01mmatplotlib\u001b[39;00m \u001b[38;5;28;01mas\u001b[39;00m \u001b[38;5;21;01mmpl\u001b[39;00m\n",
      "File \u001b[1;32m~\\miniconda3\\envs\\paper\\Lib\\site-packages\\PIL\\Image.py:82\u001b[0m\n\u001b[0;32m     73\u001b[0m MAX_IMAGE_PIXELS \u001b[38;5;241m=\u001b[39m \u001b[38;5;28mint\u001b[39m(\u001b[38;5;241m1024\u001b[39m \u001b[38;5;241m*\u001b[39m \u001b[38;5;241m1024\u001b[39m \u001b[38;5;241m*\u001b[39m \u001b[38;5;241m1024\u001b[39m \u001b[38;5;241m/\u001b[39m\u001b[38;5;241m/\u001b[39m \u001b[38;5;241m4\u001b[39m \u001b[38;5;241m/\u001b[39m\u001b[38;5;241m/\u001b[39m \u001b[38;5;241m3\u001b[39m)\n\u001b[0;32m     76\u001b[0m \u001b[38;5;28;01mtry\u001b[39;00m:\n\u001b[0;32m     77\u001b[0m     \u001b[38;5;66;03m# If the _imaging C module is not present, Pillow will not load.\u001b[39;00m\n\u001b[0;32m     78\u001b[0m     \u001b[38;5;66;03m# Note that other modules should not refer to _imaging directly;\u001b[39;00m\n\u001b[0;32m     79\u001b[0m     \u001b[38;5;66;03m# import Image and use the Image.core variable instead.\u001b[39;00m\n\u001b[0;32m     80\u001b[0m     \u001b[38;5;66;03m# Also note that Image.core is not a publicly documented interface,\u001b[39;00m\n\u001b[0;32m     81\u001b[0m     \u001b[38;5;66;03m# and should be considered private and subject to change.\u001b[39;00m\n\u001b[1;32m---> 82\u001b[0m     \u001b[38;5;28;01mfrom\u001b[39;00m \u001b[38;5;21;01m.\u001b[39;00m \u001b[38;5;28;01mimport\u001b[39;00m _imaging \u001b[38;5;28;01mas\u001b[39;00m core\n\u001b[0;32m     84\u001b[0m     \u001b[38;5;28;01mif\u001b[39;00m __version__ \u001b[38;5;241m!=\u001b[39m \u001b[38;5;28mgetattr\u001b[39m(core, \u001b[38;5;124m\"\u001b[39m\u001b[38;5;124mPILLOW_VERSION\u001b[39m\u001b[38;5;124m\"\u001b[39m, \u001b[38;5;28;01mNone\u001b[39;00m):\n\u001b[0;32m     85\u001b[0m         msg \u001b[38;5;241m=\u001b[39m (\n\u001b[0;32m     86\u001b[0m             \u001b[38;5;124m\"\u001b[39m\u001b[38;5;124mThe _imaging extension was built for another version of Pillow or PIL:\u001b[39m\u001b[38;5;130;01m\\n\u001b[39;00m\u001b[38;5;124m\"\u001b[39m\n\u001b[0;32m     87\u001b[0m             \u001b[38;5;124mf\u001b[39m\u001b[38;5;124m\"\u001b[39m\u001b[38;5;124mCore version: \u001b[39m\u001b[38;5;132;01m{\u001b[39;00m\u001b[38;5;28mgetattr\u001b[39m(core,\u001b[38;5;250m \u001b[39m\u001b[38;5;124m'\u001b[39m\u001b[38;5;124mPILLOW_VERSION\u001b[39m\u001b[38;5;124m'\u001b[39m,\u001b[38;5;250m \u001b[39m\u001b[38;5;28;01mNone\u001b[39;00m)\u001b[38;5;132;01m}\u001b[39;00m\u001b[38;5;130;01m\\n\u001b[39;00m\u001b[38;5;124m\"\u001b[39m\n\u001b[0;32m     88\u001b[0m             \u001b[38;5;124mf\u001b[39m\u001b[38;5;124m\"\u001b[39m\u001b[38;5;124mPillow version: \u001b[39m\u001b[38;5;132;01m{\u001b[39;00m__version__\u001b[38;5;132;01m}\u001b[39;00m\u001b[38;5;124m\"\u001b[39m\n\u001b[0;32m     89\u001b[0m         )\n",
      "\u001b[1;31mImportError\u001b[0m: DLL load failed while importing _imaging: The specified module could not be found."
     ]
    }
   ],
   "source": [
    "from pathlib import Path\n",
    "import itertools \n",
    "\n",
    "from cycler import cycler\n",
    "\n",
    "import matplotlib.pyplot as plt\n",
    "from matplotlib.collections import PatchCollection\n",
    "import matplotlib.cm as mcm\n",
    "import matplotlib.colors as mcolors\n",
    "import matplotlib.dates as mdates\n",
    "import matplotlib.lines as mlines\n",
    "import matplotlib.patches as mpatches\n",
    "\n",
    "from matplotlib import rcParams\n",
    "\n",
    "from scipy.spatial.distance import pdist, squareform\n",
    "\n",
    "import numpy as np\n",
    "import pandas as pd\n",
    "import cmocean\n",
    "import xarray as xr\n",
    "\n",
    "import metpy\n",
    "from metpy.interpolate import interpolate_to_grid\n",
    "\n",
    "import geopandas as gpd\n",
    "\n",
    "\n",
    "import intro_plots as ip\n",
    "from papercolors import colordict as pcd\n",
    "import topology as tp \n",
    "\n",
    "paper_path = Path('../figures/')\n",
    "\n",
    "\n",
    "rcParams['font.family'] = 'dejavu sans'\n",
    "rcParams['figure.dpi'] = 200"
   ]
  },
  {
   "cell_type": "code",
   "execution_count": null,
   "id": "5800e0a5-2b93-469d-83d1-6f2cd91e10d3",
   "metadata": {},
   "outputs": [],
   "source": [
    "fig, ax = plt.subplots(figsize=(5,1))\n",
    "ax.bar(ip.airports.keys(), 1, color=[v['color'] for k,v in ip.airports.items()]) \n",
    "ax.tick_params(rotation=90)"
   ]
  },
  {
   "cell_type": "code",
   "execution_count": null,
   "id": "83f2c3fd-d48d-47b8-829c-4247f03db93f",
   "metadata": {},
   "outputs": [],
   "source": [
    "ny_all = pd.read_csv(\"nydata.csv\", parse_dates=['DATE'])\n",
    "#[name for name in ny_all['NAME'].unique() if (('AP' in name) or ('INTL' in name))]"
   ]
  },
  {
   "cell_type": "code",
   "execution_count": null,
   "id": "91f2333b-3b86-474c-b57f-1ac8f3fa381d",
   "metadata": {},
   "outputs": [],
   "source": [
    "ny = ny_all[ny_all['NAME'].isin(ip.ssubset)].copy().fillna(0)\n",
    "\n",
    "ny['DATES'] = pd.to_datetime(ny['DATE'])\n",
    "\n",
    "ny['TEMP (°F)'] = ny['TAVG'].apply(lambda x: f\"{x:2.2f}\")\n",
    "ny['PRCP (in.)'] = ny['PRCPI'].apply(lambda x: f\"{x:1.2f}\")    "
   ]
  },
  {
   "cell_type": "code",
   "execution_count": null,
   "id": "e84f4fd6-e0d6-4de1-b124-6638adf1fbff",
   "metadata": {},
   "outputs": [],
   "source": [
    "ny['NAME'].unique()"
   ]
  },
  {
   "cell_type": "code",
   "execution_count": null,
   "id": "93674f33-025f-4dd3-8836-d45217ea048e",
   "metadata": {},
   "outputs": [],
   "source": [
    "date = '02-10-2022'\n",
    "time_series = ny.copy()\n",
    "time_series['DATE'] = pd.to_datetime(time_series['DATES'])\n",
    "all_fields = ny[ny['DATE'] == date].set_index('NAME').reset_index()\n",
    "all_fields"
   ]
  },
  {
   "cell_type": "code",
   "execution_count": null,
   "id": "caec3299-a263-4aef-859d-5daecc05a008",
   "metadata": {},
   "outputs": [],
   "source": [
    "nyg = ny_all[ny_all['DATE']==date]\n",
    "nygeo = gpd.GeoDataFrame(nyg, geometry=gpd.points_from_xy(nyg['LONGITUDE'], nyg['LATITUDE']), crs='EPSG:4269')\n",
    "gdf = gpd.read_file('s_22mr22.zip')\n",
    "nyshp = gdf[gdf['STATE'].str.match('NY')]"
   ]
  },
  {
   "cell_type": "code",
   "execution_count": null,
   "id": "9975164c-4343-4703-b58e-017c0334558e",
   "metadata": {},
   "outputs": [],
   "source": [
    "px, py, prcp = interpolate_to_grid(nygeo['LONGITUDE'].values, nygeo['LATITUDE'].values, nygeo['PRCPI'].values, \n",
    "                                   interp_type='barnes', minimum_neighbors=3, \n",
    "                                         search_radius=.25, hres=.025, gamma=1)"
   ]
  },
  {
   "cell_type": "code",
   "execution_count": null,
   "id": "6e2ed4ad-2a62-430c-a1fe-d1b57df52a87",
   "metadata": {},
   "outputs": [],
   "source": [
    "sample = all_fields[['NAME', 'TEMP (°F)','PRCP (in.)']]"
   ]
  },
  {
   "cell_type": "code",
   "execution_count": null,
   "id": "7bb0763b-fc03-4d3c-af0a-fbc76323d6f9",
   "metadata": {},
   "outputs": [],
   "source": [
    "timeseries = {k:v.set_index('DATE') for k, v in time_series[['NAME','DATE', 'PRCPI']].groupby('NAME')}"
   ]
  },
  {
   "cell_type": "code",
   "execution_count": null,
   "id": "7a9abe2a-b5da-4bb7-8f04-0a03654b88e2",
   "metadata": {},
   "outputs": [],
   "source": [
    "all_fields[['NAME', 'LATITUDE', 'LONGITUDE', 'TAVG']]"
   ]
  },
  {
   "cell_type": "code",
   "execution_count": null,
   "id": "371d3ff1-403f-4a59-9245-db218143d7fa",
   "metadata": {},
   "outputs": [],
   "source": [
    "mcolors.to_hex(cmocean.cm.rain(0))"
   ]
  },
  {
   "cell_type": "code",
   "execution_count": null,
   "id": "b10c2507",
   "metadata": {},
   "outputs": [],
   "source": [
    "fig = plt.figure(figsize=(3.5, 1.5), linewidth=1, layout='compressed')\n",
    "figs = fig.subfigures(1,4, wspace=0)\n",
    "for subfig in figs:\n",
    "    #fig0.frameon=True\n",
    "    subfig.set_edgecolor('gray')\n",
    "    subfig.set_linewidth(.5)\n",
    "\n",
    "\n",
    "axf0 = figs[1].subplot_mosaic([['scatter'], ['k0']], gridspec_kw={'height_ratios':[2,1]})\n",
    "#tp.make_table(axf0['table'], axf0['k0'], sample)\n",
    "\n",
    "axf1 = figs[2].subplot_mosaic([['timeseries'],['k1']], gridspec_kw={'height_ratios':[2,1]})\n",
    "#tp.make_timeseries(axf1['timeseries'], axf1['k1'], timeseries)\n",
    "axf1['timeseries'].set_title('Precipitation', fontsize=6)\n",
    "axf1['timeseries'].tick_params(labelsize=3, length=0\n",
    "                              )\n",
    "axf1['timeseries'].xaxis.set_tick_params(rotation=90)\n",
    "axf1['timeseries'].yaxis.set_major_formatter(\"{:0.1f}\".format)\n",
    "\n",
    "axf2 = figs[3].subplot_mosaic([['map'], ['k2']], gridspec_kw={'height_ratios':[2,1]})\n",
    "\n",
    "cmap = cmocean.cm.rain\n",
    "nyshp.plot(ax=axf2['map'],  facecolor='#f6f5f7', edgecolor='none')\n",
    "im = axf2['map'].pcolormesh(px, py, prcp, cmap=cmap)\n",
    "nyshp.plot(ax=axf2['map'],  facecolor='none', edgecolor='k')\n",
    "cb = fig.colorbar(im, ax=axf2['map'], fraction=.045,orientation='horizontal',\n",
    "                  location='bottom')\n",
    "#axf2['map'].set_title(\"Precipitation\", fontsize=6)\n",
    "cb.ax.tick_params(labelsize=3, length=0, pad=0.5,rotation=90)\n",
    "cb.ax.xaxis.set_major_formatter(\"{:0.2f} in.\".format)\n",
    "axf2['map'].axis('off')\n",
    "           \n",
    "           \n",
    "axf2['k2'].add_patch(mpatches.Rectangle((.25/2,.25-.25/2), .75, .75, color=pcd['base']))\n",
    "axf2['k2'].set_aspect('equal')\n",
    "axf2['k2'].axis('off')\n",
    "fig.savefig(paper_path/'k_different_types.png')"
   ]
  },
  {
   "cell_type": "code",
   "execution_count": null,
   "id": "b8291d30-7125-41c1-aec3-eaf94cbf2e27",
   "metadata": {},
   "outputs": [],
   "source": [
    "cb.ax.tick_params?"
   ]
  },
  {
   "cell_type": "code",
   "execution_count": null,
   "id": "6476aa59-b0b3-4b0d-a49f-12c791073356",
   "metadata": {},
   "outputs": [],
   "source": []
  }
 ],
 "metadata": {
  "kernelspec": {
   "display_name": "Python 3 (ipykernel)",
   "language": "python",
   "name": "python3"
  },
  "language_info": {
   "codemirror_mode": {
    "name": "ipython",
    "version": 3
   },
   "file_extension": ".py",
   "mimetype": "text/x-python",
   "name": "python",
   "nbconvert_exporter": "python",
   "pygments_lexer": "ipython3",
   "version": "3.12.0"
  }
 },
 "nbformat": 4,
 "nbformat_minor": 5
}
