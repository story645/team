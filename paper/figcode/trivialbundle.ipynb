{
 "cells": [
  {
   "cell_type": "code",
   "execution_count": 3,
   "id": "03505249",
   "metadata": {},
   "outputs": [],
   "source": [
    "%matplotlib inline"
   ]
  },
  {
   "cell_type": "code",
   "execution_count": 4,
   "id": "0682e7f6",
   "metadata": {},
   "outputs": [],
   "source": [
    "import itertools \n",
    "from pathlib import Path\n",
    "\n",
    "import matplotlib as mpl\n",
    "import matplotlib.pyplot as plt\n",
    "import matplotlib.colors as mcolors\n",
    "import matplotlib.patches as mpatches\n",
    "import matplotlib.patheffects as PathEffects\n",
    "\n",
    "import numpy as np\n",
    "import pandas as pd\n",
    "\n",
    "# (scale, length, randomness).)\n",
    "#plt.xkcd()\n",
    "import highlight_text as ht\n",
    "\n",
    "import intro_plots as ip\n",
    "from papercolors import colordict as pcd\n",
    "\n",
    "paper_path = Path('../figures/')\n"
   ]
  },
  {
   "cell_type": "code",
   "execution_count": 5,
   "id": "44bd20d1",
   "metadata": {},
   "outputs": [],
   "source": [
    "# tau \n",
    "df = pd.read_csv(\"plot_data\")"
   ]
  },
  {
   "cell_type": "code",
   "execution_count": 36,
   "id": "6e100b2a",
   "metadata": {},
   "outputs": [
    {
     "data": {
      "text/plain": [
       "0    NEW YORK LAGUARDIA AP\n",
       "1                ALBANY AP\n",
       "2     NEW YORK JFK INTL AP\n",
       "3    ISLIP LI MACARTHUR AP\n",
       "4    ROCHESTER GTR INTL AP\n",
       "Name: NAME, dtype: object"
      ]
     },
     "execution_count": 36,
     "metadata": {},
     "output_type": "execute_result"
    }
   ],
   "source": [
    "df['NAME']"
   ]
  },
  {
   "cell_type": "code",
   "execution_count": 7,
   "id": "3e32940f-be5b-4269-b157-2459646e7f0e",
   "metadata": {},
   "outputs": [],
   "source": [
    "df['AC'] = df['NAME'].replace(ip.airport_codes)"
   ]
  },
  {
   "cell_type": "code",
   "execution_count": 8,
   "id": "cd048f8e-0e2f-401c-8a9a-4ca2465464d5",
   "metadata": {},
   "outputs": [],
   "source": [
    "color=pcd['fiber']\n",
    "rows = [\"NAME\", \"TEMP (°F)\", \"PRCP (in.)\"]\n",
    "\n",
    "fiber_node = (r\"<$F_{node}=$>\"+ f\"<{rows[0]}>:\" + r\"<$\\{st_0,\\;\\dots,\\;st_n\\}\\; \\times$>\" + \n",
    "              f\"<{rows[1]}>:\" + r\"<$\\mathbb{R}\\;\\times$>\" +\n",
    "              f\"<{rows[2]}>:\" + r\"<$\\mathbb{R}^{+}$>\")\n",
    "\n",
    "\n",
    "fnprops = [{\"color\":pcd['fiber'], 'fontsize':12}, {\"color\":\"gray\",\"fontsize\":10}, \n",
    "           {\"color\":pcd['fiber'], 'fontsize':12}, \n",
    "           {\"color\":\"gray\",\"fontsize\":10}, {\"color\":pcd['fiber'], 'fontsize':12}, \n",
    "           {\"color\":\"gray\",\"fontsize\":10}, {\"color\":pcd['fiber'], 'fontsize':12}]\n",
    "\n",
    "fiber_edge = r\"<$F_{edge}$>\" + \"<DISTANCE>:\" +r\"<$\\mathbb{R}^{+}$>\"\n",
    "feprops = [{\"color\":pcd['fiber'], 'fontsize':12}, {\"color\":\"gray\",\"fontsize\":10}, \n",
    "           {\"color\":pcd['fiber'], 'fontsize':12}]\n",
    "section = r\"<$\\tau($>\" + \"<{k}>\" + r\"<$)$>\"\n",
    "fiber_line = r\"$\\mathbb{R}^{+}$\"\n",
    "\n",
    "#x = np.linspace(-5,5,10000)\n",
    "#y = lambda x: (1/np.sqrt(2*np.pi))*np.e**(-x**2/2)\n",
    "\n"
   ]
  },
  {
   "cell_type": "code",
   "execution_count": 39,
   "id": "2b367318-99ec-4571-8515-e159f71cddd6",
   "metadata": {},
   "outputs": [],
   "source": [
    "row = df[['AC','NAME', 'TEMP (°F)', 'PRCP (in.)', \"NEW YORK JFK INTL AP\"]].loc[0]\n",
    "section_node = (section + \n",
    "'''< = {{><{k}><, ><({v1},> <{v2}°,> <{v3})><}}>''') \n",
    "sprops = [{\"color\":pcd['section']}, {'color':pcd['base']}, {'color':pcd['section']}, \n",
    "          {'color':pcd['section']}, {'color':pcd['base']},  {'color':pcd['section']},\n",
    "         {'color':ip.cdict[row['NAME']]}, {'color':ip.cdict[row['NAME']]}, {'color':ip.cdict[row['NAME']]},  \n",
    "          {'color':pcd['section']}]\n",
    "#print(section_node.format(k=0, v1=row['NAME'], v2=row['TEMP (°F)'], v3=row['PRCP (in.)']))\n",
    "section_edge = (section + \"\"\"<= {{><{k}><,({v:.2f})}}>\"\"\")\n",
    "seprops = [{\"color\":pcd['section']}, {'color':pcd['base']}, {'color':pcd['section']}, \n",
    "           {'color':pcd['section']}, {'color':pcd['base']},  {'color':pcd['section']}]"
   ]
  },
  {
   "cell_type": "code",
   "execution_count": 40,
   "id": "483b12c0-bfdd-43ce-9304-c069d12fdca3",
   "metadata": {},
   "outputs": [],
   "source": [
    "def make_node(fig, ax):\n",
    "    yloc = 1.25\n",
    "    ypts = .2\n",
    "    xpts = [.1, 2.9]\n",
    "        \n",
    "    ht.ax_text(.05, yloc, s=fiber_node, highlight_textprops=fnprops, ha='left', va='bottom', \n",
    "               ax=ax, transform=ax.transAxes)\n",
    "\n",
    "    # node section\n",
    "    ynmid = ypts+(yloc-ypts)/2\n",
    "    pin = mpatches.FancyArrowPatch((xpts[0], yloc), (xpts[0], ypts), \n",
    "                                      arrowstyle='->', mutation_scale=20, color='gray')\n",
    "    ax.add_artist(pin)\n",
    "    ax.text(xpts[0], ynmid, r\"$\\pi$\", color=\"gray\", ha='right', va='center')\n",
    "    \n",
    "    ht.ax_text(xpts[0]+.1, ynmid+.1, section_node.format(k=0, v1=row['AC'], v2=row['TEMP (°F)'], v3=row['PRCP (in.)']), \n",
    "               highlight_textprops=sprops, fontsize=10)\n",
    "    tau1 = mpatches.FancyArrowPatch((xpts[0], ypts), (xpts[0], yloc), color=pcd['section'],\n",
    "                                     connectionstyle='arc3,rad=.2',  arrowstyle='->', mutation_scale=20)\n",
    "    ax.add_artist(tau1)\n",
    "    \n",
    "    #edge section\n",
    "    xloc = 2.3\n",
    "    yloff = .3\n",
    "    ht.ax_text(xloc, yloc-yloff, s=fiber_edge, highlight_textprops=feprops, ha='center', va='bottom' )\n",
    "    \n",
    "    xe = xloc-.4\n",
    "    \n",
    "    yemid = ypts + (yloc-yloff - ypts)/2\n",
    "    pie = mpatches.FancyArrowPatch((xe, yloc-yloff), (xe, ypts), arrowstyle='->', \n",
    "                                   mutation_scale=20, color='gray')\n",
    "    ax.add_artist(pie)\n",
    "    ax.text(xe-.01, yemid, r\"$\\pi$\", color=\"gray\", ha='right', va='center')\n",
    "    \n",
    "    ht.ax_text(xe+.075, yemid, s=section_edge.format(k=.8, v= row[\"NEW YORK JFK INTL AP\"]), \n",
    "                                                     highlight_textprops=seprops)\n",
    "    tau2 = mpatches.FancyArrowPatch((xe, ypts), (xe, yloc-yloff), color=pcd['section'],\n",
    "                                     connectionstyle='arc3,rad=.2',  arrowstyle='->', mutation_scale=20)\n",
    "    ax.add_artist(tau2)\n",
    "  \n",
    "    ax.plot(xpts,[ypts, ypts],  color=pcd['base'], marker='o')\n",
    "    for i, x in enumerate([xpts[0], xpts[0]+(xpts[1]-xpts[0])/2, xpts[1]]):\n",
    "        ax.text(x, ypts-.03, f\"$K_{i}$\",color=pcd['base'], va='top', ha='center')\n",
    "    \n",
    "    ax.set(xlim=(0, 3), ylim=(0, 1.5), aspect='equal', yticks=[], xticks=[])\n",
    "    ax.axis('off')"
   ]
  },
  {
   "cell_type": "code",
   "execution_count": 41,
   "id": "73645762-1b9d-4474-b3d1-f39c0695715d",
   "metadata": {},
   "outputs": [
    {
     "data": {
      "image/png": "[encoded data removed]",
      "text/plain": [
       "<Figure size 432x288 with 1 Axes>"
      ]
     },
     "metadata": {},
     "output_type": "display_data"
    }
   ],
   "source": [
    "fig, ax = plt.subplots()\n",
    "make_node(fig, ax)\n",
    "fig.savefig(paper_path/\"fbnet\", bbox_inches='tight', dpi=200)"
   ]
  },
  {
   "cell_type": "code",
   "execution_count": 24,
   "id": "2da7e3f6-e293-4750-bd51-73fcfe38541d",
   "metadata": {},
   "outputs": [
    {
     "data": {
      "text/plain": [
       "NAME                     NEW YORK JFK INTL AP\n",
       "TEMP (°F)                                22.0\n",
       "PRCP (in.)                             0.6299\n",
       "NEW YORK LAGUARDIA AP                0.183772\n",
       "Name: 2, dtype: object"
      ]
     },
     "execution_count": 24,
     "metadata": {},
     "output_type": "execute_result"
    }
   ],
   "source": [
    "row"
   ]
  },
  {
   "cell_type": "code",
   "execution_count": 379,
   "id": "df009027",
   "metadata": {},
   "outputs": [
    {
     "data": {
      "image/png": "[encoded data removed]",
      "text/plain": [
       "<Figure size 432x432 with 1 Axes>"
      ]
     },
     "metadata": {
      "needs_background": "light"
     },
     "output_type": "display_data"
    }
   ],
   "source": [
    "row = df[['NAME', 'TEMP (°F)', 'PRCP (in.)']].loc[0]\n",
    "fig, ax = plt.subplots(figsize=(6,6))\n",
    "x0 = .325\n",
    "xt = x0+.02\n",
    "ax.text(x0,.8, r\"$D = \\mathbb{R}\\times\\mathbb{R}$\", fontsize=16, color=pcd['fiber'], ha='left')\n",
    "\n",
    "#(left, right, bottom, top)\n",
    "pad = .15\n",
    "xc = .7\n",
    "for cmap, xo in zip([plt.cm.Reds, plt.cm.Greens, plt.cm.Blues], np.array([xc, xc+pad, xc+pad*2])):\n",
    "    ax.text(xo-pad/2, .8, r\"$\\times$\", fontsize=16, color=pcd['fiber'])\n",
    "    extents = [xo, xo+.05, .75, .9]\n",
    "    im = ax.imshow(np.array([[0.,1.], [0.,1.]]).T, cmap = cmap, interpolation = 'bicubic', extent=extents)\n",
    "    ax.add_patch(mpatches.Rectangle((extents[0], extents[2]), extents[1]-extents[0], extents[3]-extents[2], \n",
    "                                    facecolor='none', edgecolor=pcd['fiber']))\n",
    "   \n",
    "    \n",
    "yb = .25\n",
    "ax.add_patch(mpatches.Circle((xt, yb), .1, edgecolor=pcd['base'], \n",
    "                                    facecolor=mcolors.to_rgba(pcd['base'], alpha=.15)))\n",
    "ax.text(xt, yb-.15, r\"$S$\", va='center', ha='center', color=pcd['base'], fontsize=12)\n",
    "\n",
    "ax.text(xt-.01 ,.5, r\"$\\pi$\", ha='right', fontsize=12, color='gray')\n",
    "\n",
    "pi = mpatches.FancyArrowPatch((xt, .79),(xt, yb+.1), arrowstyle='->', mutation_scale=20, color='gray')\n",
    "ax.add_artist(pi)\n",
    "              \n",
    "#ax.text(.6,.5, r\"$\\rho$ =\", ha='left', va='center', fontsize=12, color=pcd['section'])\n",
    "x, y = (row['TEMP (°F)'],row['PRCP (in.)'])\n",
    "axrho = ax.inset_axes([.45, .35, .35, .35])\n",
    "axrho.spines[:].set_sketch_params(1, 100, 10)\n",
    "axrho.spines[:].set_color('gray')\n",
    "axrho.tick_params(colors='gray')\n",
    "\n",
    "#axrho.scatter(x,y, color= ip.cdict[row['NAME']], s=400, edgecolor='k', alpha=.25)\n",
    "\n",
    "cinner = ip.cdict[row['NAME']]\n",
    "gsecs = [(.001, .001, -0.05, -.07, cinner, 'arc3,rad=1.87'), \n",
    "         (-.001, -.004, -.05, -.05,'k', 'arc3,rad=1.71'), \n",
    "         (-.14, 0, 0, .02, cinner, 'arc3,rad=1.325')]\n",
    "\n",
    "for  (xo, yo, jx, jy, co, cs) in gsecs:\n",
    "    rho = mpatches.FancyArrowPatch((xt+jx, yb+jy), (xt, .79),\n",
    "                               arrowstyle='->', connectionstyle=cs,\n",
    "                               mutation_scale=20, color=pcd['section'], zorder=6)\n",
    "    \n",
    "    ax.add_artist(rho)\n",
    "  \n",
    "    ax.scatter(x + xo,  y + yo, color=co, marker='s',\n",
    "                  s=40, edgecolor=pcd['section'], linewidth=.5, zorder=12, \n",
    "                 transform=axrho.transData)\n",
    "\n",
    "ax.text(.65, yb-.025, r\"$\\rho$\", color=pcd['section'])\n",
    "\n",
    "axrho.set(ylim=(.655, .6675), xlim=(33.75, 34.25))\n",
    "ax.set(xlim=(0,1.3), ylim=(0,1), aspect='equal')\n",
    "ax.axis('off')\n",
    "fig.savefig(\"../figures/fb_rho.png\", dpi=300, bbox_inches='tight')"
   ]
  },
  {
   "cell_type": "code",
   "execution_count": 966,
   "id": "909080da",
   "metadata": {},
   "outputs": [],
   "source": [
    "    base = mpatches.Ellipse((1, .25), width=1.4, height=.2, facecolor='none', \n",
    "                            edgecolor=pcd['base'], lw=2)"
   ]
  }
 ],
 "metadata": {
  "kernelspec": {
   "display_name": "Python 3 (ipykernel)",
   "language": "python",
   "name": "python3"
  },
  "language_info": {
   "codemirror_mode": {
    "name": "ipython",
    "version": 3
   },
   "file_extension": ".py",
   "mimetype": "text/x-python",
   "name": "python",
   "nbconvert_exporter": "python",
   "pygments_lexer": "ipython3",
   "version": "3.9.12"
  }
 },
 "nbformat": 4,
 "nbformat_minor": 5
}
