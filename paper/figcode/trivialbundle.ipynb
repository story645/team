{
 "cells": [
  {
   "cell_type": "code",
   "execution_count": 3,
   "id": "03505249",
   "metadata": {},
   "outputs": [],
   "source": [
    "%matplotlib inline"
   ]
  },
  {
   "cell_type": "code",
   "execution_count": 15,
   "id": "0682e7f6",
   "metadata": {},
   "outputs": [
    {
     "data": {
      "text/plain": [
       "<module 'matplotlib.pyplot' from 'C:\\\\Users\\\\story\\\\miniconda3\\\\envs\\\\paper\\\\Lib\\\\site-packages\\\\matplotlib\\\\pyplot.py'>"
      ]
     },
     "execution_count": 15,
     "metadata": {},
     "output_type": "execute_result"
    }
   ],
   "source": [
    "import itertools \n",
    "from pathlib import Path\n",
    "\n",
    "import matplotlib as mpl\n",
    "import matplotlib.pyplot as plt\n",
    "import matplotlib.colors as mcolors\n",
    "import matplotlib.patches as mpatches\n",
    "import matplotlib.patheffects as PathEffects\n",
    "from matplotlib.offsetbox import OffsetImage, AnnotationBbox\n",
    "\n",
    "import numpy as np\n",
    "import pandas as pd\n",
    "\n",
    "# (scale, length, randomness).)\n",
    "#plt.xkcd()\n",
    "#import highlight_text as ht\n",
    "\n",
    "import intro_plots as ip\n",
    "from papercolors import colordict as pcd\n",
    "\n",
    "paper_path = Path('../figures/')\n",
    "plt"
   ]
  },
  {
   "cell_type": "code",
   "execution_count": 5,
   "id": "44bd20d1",
   "metadata": {},
   "outputs": [],
   "source": [
    "# tau \n",
    "df = pd.read_parquet(\"nydata_2022.parquet\")"
   ]
  },
  {
   "cell_type": "code",
   "execution_count": 6,
   "id": "6e100b2a",
   "metadata": {},
   "outputs": [
    {
     "data": {
      "text/plain": [
       "0                 BINGHAMTON\n",
       "1               LAGUARDIA AP\n",
       "2         ROCHESTER GTR INTL\n",
       "3         ROCHESTER GTR INTL\n",
       "4      ISLIP-LI MACARTHUR AP\n",
       "               ...          \n",
       "269    ISLIP-LI MACARTHUR AP\n",
       "270    ISLIP-LI MACARTHUR AP\n",
       "271           GLENS FALLS AP\n",
       "272             LAGUARDIA AP\n",
       "273               BINGHAMTON\n",
       "Name: NAME, Length: 3253, dtype: string"
      ]
     },
     "execution_count": 6,
     "metadata": {},
     "output_type": "execute_result"
    }
   ],
   "source": [
    "df['NAME']"
   ]
  },
  {
   "cell_type": "code",
   "execution_count": 7,
   "id": "3e32940f-be5b-4269-b157-2459646e7f0e",
   "metadata": {},
   "outputs": [
    {
     "ename": "AttributeError",
     "evalue": "module 'intro_plots' has no attribute 'airport_codes'",
     "output_type": "error",
     "traceback": [
      "\u001b[1;31m---------------------------------------------------------------------------\u001b[0m",
      "\u001b[1;31mAttributeError\u001b[0m                            Traceback (most recent call last)",
      "Cell \u001b[1;32mIn[7], line 1\u001b[0m\n\u001b[1;32m----> 1\u001b[0m df[\u001b[38;5;124m'\u001b[39m\u001b[38;5;124mAC\u001b[39m\u001b[38;5;124m'\u001b[39m] \u001b[38;5;241m=\u001b[39m df[\u001b[38;5;124m'\u001b[39m\u001b[38;5;124mNAME\u001b[39m\u001b[38;5;124m'\u001b[39m]\u001b[38;5;241m.\u001b[39mreplace(\u001b[43mip\u001b[49m\u001b[38;5;241;43m.\u001b[39;49m\u001b[43mairport_codes\u001b[49m)\n",
      "\u001b[1;31mAttributeError\u001b[0m: module 'intro_plots' has no attribute 'airport_codes'"
     ]
    }
   ],
   "source": [
    "df['AC'] = df['NAME'].replace(ip.airport_codes)"
   ]
  },
  {
   "cell_type": "code",
   "execution_count": 8,
   "id": "cd048f8e-0e2f-401c-8a9a-4ca2465464d5",
   "metadata": {},
   "outputs": [],
   "source": [
    "color=pcd['fiber']\n",
    "rows = [\"NAME\", \"TEMP (°F)\", \"PRCP (in.)\"]\n",
    "\n",
    "fiber_node = (r\"<$F_{node}=$>\"+ f\"<{rows[0]}>:\" + r\"<$\\{st_0,\\;\\dots,\\;st_n\\}\\; \\times$>\" + \n",
    "              f\"<{rows[1]}>:\" + r\"<$\\mathbb{R}\\;\\times$>\" +\n",
    "              f\"<{rows[2]}>:\" + r\"<$\\mathbb{R}^{+}$>\")\n",
    "\n",
    "\n",
    "fnprops = [{\"color\":pcd['fiber'], 'fontsize':12}, {\"color\":\"gray\",\"fontsize\":10}, \n",
    "           {\"color\":pcd['fiber'], 'fontsize':12}, \n",
    "           {\"color\":\"gray\",\"fontsize\":10}, {\"color\":pcd['fiber'], 'fontsize':12}, \n",
    "           {\"color\":\"gray\",\"fontsize\":10}, {\"color\":pcd['fiber'], 'fontsize':12}]\n",
    "\n",
    "fiber_edge = r\"<$F_{edge}$>\" + \"<DISTANCE>:\" +r\"<$\\mathbb{R}^{+}$>\"\n",
    "feprops = [{\"color\":pcd['fiber'], 'fontsize':12}, {\"color\":\"gray\",\"fontsize\":10}, \n",
    "           {\"color\":pcd['fiber'], 'fontsize':12}\n",
    "          \n",
    "          \n",
    "          \n",
    "          \n",
    "          ]\n",
    "section = r\"<$\\tau($>\" + \"<{k}>\" + r\"<$)$>\"\n",
    "section_line = r\"<$\\tau($>\" + \"<({ks}, {kt}), {k}>\" + r\"<$)$>\"\n",
    "fiber_line = r\"$\\mathbb{R}^{+}$\"\n",
    "\n",
    "#x = np.linspace(-5,5,10000)\n",
    "#y = lambda x: (1/np.sqrt(2*np.pi))*np.e**(-x**2/2)\n",
    "\n"
   ]
  },
  {
   "cell_type": "code",
   "execution_count": 9,
   "id": "2b367318-99ec-4571-8515-e159f71cddd6",
   "metadata": {},
   "outputs": [
    {
     "ename": "KeyError",
     "evalue": "\"['AC', 'TEMP (°F)', 'PRCP (in.)', 'NEW YORK JFK INTL AP'] not in index\"",
     "output_type": "error",
     "traceback": [
      "\u001b[1;31m---------------------------------------------------------------------------\u001b[0m",
      "\u001b[1;31mKeyError\u001b[0m                                  Traceback (most recent call last)",
      "Cell \u001b[1;32mIn[9], line 1\u001b[0m\n\u001b[1;32m----> 1\u001b[0m row \u001b[38;5;241m=\u001b[39m \u001b[43mdf\u001b[49m\u001b[43m[\u001b[49m\u001b[43m[\u001b[49m\u001b[38;5;124;43m'\u001b[39;49m\u001b[38;5;124;43mAC\u001b[39;49m\u001b[38;5;124;43m'\u001b[39;49m\u001b[43m,\u001b[49m\u001b[38;5;124;43m'\u001b[39;49m\u001b[38;5;124;43mNAME\u001b[39;49m\u001b[38;5;124;43m'\u001b[39;49m\u001b[43m,\u001b[49m\u001b[43m \u001b[49m\u001b[38;5;124;43m'\u001b[39;49m\u001b[38;5;124;43mTEMP (°F)\u001b[39;49m\u001b[38;5;124;43m'\u001b[39;49m\u001b[43m,\u001b[49m\u001b[43m \u001b[49m\u001b[38;5;124;43m'\u001b[39;49m\u001b[38;5;124;43mPRCP (in.)\u001b[39;49m\u001b[38;5;124;43m'\u001b[39;49m\u001b[43m,\u001b[49m\u001b[43m \u001b[49m\u001b[38;5;124;43m\"\u001b[39;49m\u001b[38;5;124;43mNEW YORK JFK INTL AP\u001b[39;49m\u001b[38;5;124;43m\"\u001b[39;49m\u001b[43m]\u001b[49m\u001b[43m]\u001b[49m\u001b[38;5;241m.\u001b[39mloc[\u001b[38;5;241m0\u001b[39m]\n\u001b[0;32m      2\u001b[0m section_node \u001b[38;5;241m=\u001b[39m (section \u001b[38;5;241m+\u001b[39m \n\u001b[0;32m      3\u001b[0m \u001b[38;5;124;03m'''< = {{><{k}><, ><({v1},> <{v2}°,> <{v3})><}}>'''\u001b[39;00m) \n\u001b[0;32m      4\u001b[0m sprops \u001b[38;5;241m=\u001b[39m [{\u001b[38;5;124m\"\u001b[39m\u001b[38;5;124mcolor\u001b[39m\u001b[38;5;124m\"\u001b[39m:pcd[\u001b[38;5;124m'\u001b[39m\u001b[38;5;124msection\u001b[39m\u001b[38;5;124m'\u001b[39m]}, {\u001b[38;5;124m'\u001b[39m\u001b[38;5;124mcolor\u001b[39m\u001b[38;5;124m'\u001b[39m:pcd[\u001b[38;5;124m'\u001b[39m\u001b[38;5;124mbase\u001b[39m\u001b[38;5;124m'\u001b[39m]}, {\u001b[38;5;124m'\u001b[39m\u001b[38;5;124mcolor\u001b[39m\u001b[38;5;124m'\u001b[39m:pcd[\u001b[38;5;124m'\u001b[39m\u001b[38;5;124msection\u001b[39m\u001b[38;5;124m'\u001b[39m]}, \n\u001b[0;32m      5\u001b[0m           {\u001b[38;5;124m'\u001b[39m\u001b[38;5;124mcolor\u001b[39m\u001b[38;5;124m'\u001b[39m:pcd[\u001b[38;5;124m'\u001b[39m\u001b[38;5;124msection\u001b[39m\u001b[38;5;124m'\u001b[39m]}, {\u001b[38;5;124m'\u001b[39m\u001b[38;5;124mcolor\u001b[39m\u001b[38;5;124m'\u001b[39m:pcd[\u001b[38;5;124m'\u001b[39m\u001b[38;5;124mbase\u001b[39m\u001b[38;5;124m'\u001b[39m]},  {\u001b[38;5;124m'\u001b[39m\u001b[38;5;124mcolor\u001b[39m\u001b[38;5;124m'\u001b[39m:pcd[\u001b[38;5;124m'\u001b[39m\u001b[38;5;124msection\u001b[39m\u001b[38;5;124m'\u001b[39m]},\n\u001b[0;32m      6\u001b[0m          {\u001b[38;5;124m'\u001b[39m\u001b[38;5;124mcolor\u001b[39m\u001b[38;5;124m'\u001b[39m:ip\u001b[38;5;241m.\u001b[39mcdict[row[\u001b[38;5;124m'\u001b[39m\u001b[38;5;124mNAME\u001b[39m\u001b[38;5;124m'\u001b[39m]]}, {\u001b[38;5;124m'\u001b[39m\u001b[38;5;124mcolor\u001b[39m\u001b[38;5;124m'\u001b[39m:ip\u001b[38;5;241m.\u001b[39mcdict[row[\u001b[38;5;124m'\u001b[39m\u001b[38;5;124mNAME\u001b[39m\u001b[38;5;124m'\u001b[39m]]}, {\u001b[38;5;124m'\u001b[39m\u001b[38;5;124mcolor\u001b[39m\u001b[38;5;124m'\u001b[39m:ip\u001b[38;5;241m.\u001b[39mcdict[row[\u001b[38;5;124m'\u001b[39m\u001b[38;5;124mNAME\u001b[39m\u001b[38;5;124m'\u001b[39m]]},  \n\u001b[0;32m      7\u001b[0m           {\u001b[38;5;124m'\u001b[39m\u001b[38;5;124mcolor\u001b[39m\u001b[38;5;124m'\u001b[39m:pcd[\u001b[38;5;124m'\u001b[39m\u001b[38;5;124msection\u001b[39m\u001b[38;5;124m'\u001b[39m]}]\n",
      "File \u001b[1;32m~\\miniconda3\\envs\\paper\\Lib\\site-packages\\pandas\\core\\frame.py:4108\u001b[0m, in \u001b[0;36mDataFrame.__getitem__\u001b[1;34m(self, key)\u001b[0m\n\u001b[0;32m   4106\u001b[0m     \u001b[38;5;28;01mif\u001b[39;00m is_iterator(key):\n\u001b[0;32m   4107\u001b[0m         key \u001b[38;5;241m=\u001b[39m \u001b[38;5;28mlist\u001b[39m(key)\n\u001b[1;32m-> 4108\u001b[0m     indexer \u001b[38;5;241m=\u001b[39m \u001b[38;5;28;43mself\u001b[39;49m\u001b[38;5;241;43m.\u001b[39;49m\u001b[43mcolumns\u001b[49m\u001b[38;5;241;43m.\u001b[39;49m\u001b[43m_get_indexer_strict\u001b[49m\u001b[43m(\u001b[49m\u001b[43mkey\u001b[49m\u001b[43m,\u001b[49m\u001b[43m \u001b[49m\u001b[38;5;124;43m\"\u001b[39;49m\u001b[38;5;124;43mcolumns\u001b[39;49m\u001b[38;5;124;43m\"\u001b[39;49m\u001b[43m)\u001b[49m[\u001b[38;5;241m1\u001b[39m]\n\u001b[0;32m   4110\u001b[0m \u001b[38;5;66;03m# take() does not accept boolean indexers\u001b[39;00m\n\u001b[0;32m   4111\u001b[0m \u001b[38;5;28;01mif\u001b[39;00m \u001b[38;5;28mgetattr\u001b[39m(indexer, \u001b[38;5;124m\"\u001b[39m\u001b[38;5;124mdtype\u001b[39m\u001b[38;5;124m\"\u001b[39m, \u001b[38;5;28;01mNone\u001b[39;00m) \u001b[38;5;241m==\u001b[39m \u001b[38;5;28mbool\u001b[39m:\n",
      "File \u001b[1;32m~\\miniconda3\\envs\\paper\\Lib\\site-packages\\pandas\\core\\indexes\\base.py:6200\u001b[0m, in \u001b[0;36mIndex._get_indexer_strict\u001b[1;34m(self, key, axis_name)\u001b[0m\n\u001b[0;32m   6197\u001b[0m \u001b[38;5;28;01melse\u001b[39;00m:\n\u001b[0;32m   6198\u001b[0m     keyarr, indexer, new_indexer \u001b[38;5;241m=\u001b[39m \u001b[38;5;28mself\u001b[39m\u001b[38;5;241m.\u001b[39m_reindex_non_unique(keyarr)\n\u001b[1;32m-> 6200\u001b[0m \u001b[38;5;28;43mself\u001b[39;49m\u001b[38;5;241;43m.\u001b[39;49m\u001b[43m_raise_if_missing\u001b[49m\u001b[43m(\u001b[49m\u001b[43mkeyarr\u001b[49m\u001b[43m,\u001b[49m\u001b[43m \u001b[49m\u001b[43mindexer\u001b[49m\u001b[43m,\u001b[49m\u001b[43m \u001b[49m\u001b[43maxis_name\u001b[49m\u001b[43m)\u001b[49m\n\u001b[0;32m   6202\u001b[0m keyarr \u001b[38;5;241m=\u001b[39m \u001b[38;5;28mself\u001b[39m\u001b[38;5;241m.\u001b[39mtake(indexer)\n\u001b[0;32m   6203\u001b[0m \u001b[38;5;28;01mif\u001b[39;00m \u001b[38;5;28misinstance\u001b[39m(key, Index):\n\u001b[0;32m   6204\u001b[0m     \u001b[38;5;66;03m# GH 42790 - Preserve name from an Index\u001b[39;00m\n",
      "File \u001b[1;32m~\\miniconda3\\envs\\paper\\Lib\\site-packages\\pandas\\core\\indexes\\base.py:6252\u001b[0m, in \u001b[0;36mIndex._raise_if_missing\u001b[1;34m(self, key, indexer, axis_name)\u001b[0m\n\u001b[0;32m   6249\u001b[0m     \u001b[38;5;28;01mraise\u001b[39;00m \u001b[38;5;167;01mKeyError\u001b[39;00m(\u001b[38;5;124mf\u001b[39m\u001b[38;5;124m\"\u001b[39m\u001b[38;5;124mNone of [\u001b[39m\u001b[38;5;132;01m{\u001b[39;00mkey\u001b[38;5;132;01m}\u001b[39;00m\u001b[38;5;124m] are in the [\u001b[39m\u001b[38;5;132;01m{\u001b[39;00maxis_name\u001b[38;5;132;01m}\u001b[39;00m\u001b[38;5;124m]\u001b[39m\u001b[38;5;124m\"\u001b[39m)\n\u001b[0;32m   6251\u001b[0m not_found \u001b[38;5;241m=\u001b[39m \u001b[38;5;28mlist\u001b[39m(ensure_index(key)[missing_mask\u001b[38;5;241m.\u001b[39mnonzero()[\u001b[38;5;241m0\u001b[39m]]\u001b[38;5;241m.\u001b[39munique())\n\u001b[1;32m-> 6252\u001b[0m \u001b[38;5;28;01mraise\u001b[39;00m \u001b[38;5;167;01mKeyError\u001b[39;00m(\u001b[38;5;124mf\u001b[39m\u001b[38;5;124m\"\u001b[39m\u001b[38;5;132;01m{\u001b[39;00mnot_found\u001b[38;5;132;01m}\u001b[39;00m\u001b[38;5;124m not in index\u001b[39m\u001b[38;5;124m\"\u001b[39m)\n",
      "\u001b[1;31mKeyError\u001b[0m: \"['AC', 'TEMP (°F)', 'PRCP (in.)', 'NEW YORK JFK INTL AP'] not in index\""
     ]
    }
   ],
   "source": [
    "row = df[['AC','NAME', 'TEMP (°F)', 'PRCP (in.)', \"NEW YORK JFK INTL AP\"]].loc[0]\n",
    "section_node = (section + \n",
    "'''< = {{><{k}><, ><({v1},> <{v2}°,> <{v3})><}}>''') \n",
    "sprops = [{\"color\":pcd['section']}, {'color':pcd['base']}, {'color':pcd['section']}, \n",
    "          {'color':pcd['section']}, {'color':pcd['base']},  {'color':pcd['section']},\n",
    "         {'color':ip.cdict[row['NAME']]}, {'color':ip.cdict[row['NAME']]}, {'color':ip.cdict[row['NAME']]},  \n",
    "          {'color':pcd['section']}]\n",
    "#print(section_node.format(k=0, v1=row['NAME'], v2=row['TEMP (°F)'], v3=row['PRCP (in.)']))\n",
    "section_edge = (section_line + \"\"\"<= {{><(({ks},{kt}),{k})><,({v:.2f})}}>\"\"\")\n",
    "seprops = [{\"color\":pcd['section']}, {'color':pcd['base']}, {'color':pcd['section']}, \n",
    "           {'color':pcd['section']}, {'color':pcd['base']},  {'color':pcd['section']}]"
   ]
  },
  {
   "cell_type": "code",
   "execution_count": 10,
   "id": "483b12c0-bfdd-43ce-9304-c069d12fdca3",
   "metadata": {},
   "outputs": [],
   "source": [
    "def make_node(fig, ax):\n",
    "    yloc = 1.25\n",
    "    ypts = .2\n",
    "    xpts = [.1, 2.9]\n",
    "        \n",
    "    ht.ax_text(.05, yloc, s=fiber_node, highlight_textprops=fnprops, ha='left', va='bottom', \n",
    "               ax=ax, transform=ax.transAxes)\n",
    "\n",
    "    # node section\n",
    "    ynmid = ypts+(yloc-ypts)/2\n",
    "    pin = mpatches.FancyArrowPatch((xpts[0], yloc), (xpts[0], ypts), \n",
    "                                      arrowstyle='->', mutation_scale=20, color='gray')\n",
    "    ax.add_artist(pin)\n",
    "    ax.text(xpts[0], ynmid, r\"$\\pi$\", color=\"gray\", ha='right', va='center')\n",
    "    \n",
    "    ht.ax_text(xpts[0]+.1, ynmid+.1, section_node.format(k=0, v1=row['AC'], v2=row['TEMP (°F)'], v3=row['PRCP (in.)']), \n",
    "               highlight_textprops=sprops, fontsize=10)\n",
    "    tau1 = mpatches.FancyArrowPatch((xpts[0], ypts), (xpts[0], yloc), color=pcd['section'],\n",
    "                                     connectionstyle='arc3,rad=.2',  arrowstyle='->', mutation_scale=20)\n",
    "    ax.add_artist(tau1)\n",
    "    \n",
    "    #edge section\n",
    "    xloc = 2.3\n",
    "    yloff = .3\n",
    "    ht.ax_text(xloc, yloc-yloff, s=fiber_edge, highlight_textprops=feprops, ha='center', va='bottom' )\n",
    "    \n",
    "    xe = xloc-.4\n",
    "    \n",
    "    yemid = ypts + (yloc-yloff - ypts)/2\n",
    "    pie = mpatches.FancyArrowPatch((xe, yloc-yloff), (xe, ypts), arrowstyle='->', \n",
    "                                   mutation_scale=20, color='gray')\n",
    "    ax.add_artist(pie)\n",
    "    ax.text(xe-.01, yemid, r\"$\\pi$\", color=\"gray\", ha='right', va='center')\n",
    "    \n",
    "    ht.ax_text(xe+.075, yemid, s=section_edge.format(ks=0, kt=2, k=.8, v= row[\"NEW YORK JFK INTL AP\"]), \n",
    "                                                     highlight_textprops=seprops)\n",
    "    tau2 = mpatches.FancyArrowPatch((xe, ypts), (xe, yloc-yloff), color=pcd['section'],\n",
    "                                     connectionstyle='arc3,rad=.2',  arrowstyle='->', mutation_scale=20)\n",
    "    ax.add_artist(tau2)\n",
    "  \n",
    "    ax.plot(xpts,[ypts, ypts],  color=pcd['base'], marker='o')\n",
    "    for i, x in enumerate([xpts[0], xpts[0]+(xpts[1]-xpts[0])/2, xpts[1]]):\n",
    "        ax.text(x, ypts-.03, f\"$K_{i}$\",color=pcd['base'], va='top', ha='center')\n",
    "    \n",
    "    ax.set(xlim=(0, 3), ylim=(0, 1.5), aspect='equal', yticks=[], xticks=[])\n",
    "    ax.axis('off')"
   ]
  },
  {
   "cell_type": "code",
   "execution_count": 11,
   "id": "2da7e3f6-e293-4750-bd51-73fcfe38541d",
   "metadata": {},
   "outputs": [],
   "source": [
    "row = df[['NAME', 'TAVG', 'PRCP']][(df['NAME']==\"JFK INTL AP\")].loc[237].iloc[-1]"
   ]
  },
  {
   "cell_type": "code",
   "execution_count": 12,
   "id": "0b1ab008-3674-4015-8b0c-4587c17f976a",
   "metadata": {},
   "outputs": [
    {
     "data": {
      "text/plain": [
       "NAME    JFK INTL AP\n",
       "TAVG          66.02\n",
       "PRCP       0.311023\n",
       "Name: 237, dtype: object"
      ]
     },
     "execution_count": 12,
     "metadata": {},
     "output_type": "execute_result"
    }
   ],
   "source": [
    "row ##axrho.set(ylim=(.655, .6675), xlim=(33.75, 34.25))"
   ]
  },
  {
   "cell_type": "code",
   "execution_count": 265,
   "id": "df009027",
   "metadata": {},
   "outputs": [
    {
     "name": "stdout",
     "output_type": "stream",
     "text": [
      "0.0 0.5\n",
      "0.55 0.8250000000000001\n",
      "0.8 0.3\n"
     ]
    },
    {
     "data": {
      "image/png": "[encoded data removed]",
      "text/plain": [
       "<Figure size 600x600 with 1 Axes>"
      ]
     },
     "metadata": {},
     "output_type": "display_data"
    }
   ],
   "source": [
    "fig, ax = plt.subplots(figsize=(6,6), layout='constrained')\n",
    "\n",
    "ft = 14\n",
    "x0 = .15\n",
    "D = ax.text(.15,.925, r\"$D$\",  fontsize=ft+2, color=pcd['fiber'], ha='center', va='baseline')\n",
    "tf = ax.annotate(r\"$= \\mathbb{R}\\times\\mathbb{R}\\times\\mathbb{I}$\", xy=(1,.5), xycoords=D,\n",
    "            fontsize=ft, color=pcd['fiber'], ha='left', va='center')\n",
    "\n",
    "N = 30\n",
    "M = 10\n",
    "arr = np.repeat(np.linspace(0,1, N), M).reshape(N,M)\n",
    "pad = 1\n",
    "cfiber = np.ones((N+pad*2, M+pad*2))*2\n",
    "cfiber[pad:-pad, pad:-pad] = arr\n",
    "norm = mcolors.Normalize(vmin=0, vmax=1)\n",
    "\n",
    "#(left, right, bottom, top)\n",
    "va = 'bottom'\n",
    "ha = 'left'\n",
    "xy = (1,0)\n",
    "xycoords = tf\n",
    "\n",
    "\n",
    "for cname in [\"Reds\", \"Greens\", \"Blues\"]:\n",
    "    \n",
    "    times = ax.annotate(r\"$\\times$\", xycoords=xycoords, xy = xy, fontsize=ft, color=pcd['fiber'], va=va, ha=ha)\n",
    "    cmap = mpl.colormaps[cname].resampled(N).with_extremes(over=pcd['fiber'])\n",
    "    im = OffsetImage(cfiber, cmap=cmap, norm=norm)\n",
    "    im.image.axes = ax\n",
    "    \n",
    "    ab = AnnotationBbox(im, xy = (1.8, .5), xycoords=times, frameon=False)\n",
    "    ax.add_artist(ab)\n",
    "    \n",
    "    ha = 'center'\n",
    "    xy = (1.5, 0)\n",
    "    xycoords = (im, tf)\n",
    "    \n",
    "times = ax.annotate(r\"$ \\times$\", \n",
    "            xy=xy, xycoords=xycoords, fontsize=ft, color=pcd['fiber'], ha=ha, va=va)\n",
    "\n",
    "ax.annotate(r\"$\\{\\alpha \\in \\mathbb{R} \\,\\vert \\, 0\\leq \\alpha \\leq 1\\}$\", \n",
    "            xy=(1,.55), xycoords=times, fontsize=ft, color=pcd['fiber'], ha='left', va='center')\n",
    "\n",
    "\n",
    "K = mpatches.Circle((x0, .5), .05, edgecolor=pcd['base'], facecolor=mcolors.to_rgba(pcd['base'], alpha=.15))\n",
    "ax.add_patch(K)\n",
    "\n",
    "pi_arr = ax.annotate(\"\", xy=(.5, 1), xycoords=K, xytext=(.5, 0), textcoords=D, arrowprops=dict(arrowstyle='->', color=pcd['total'], mutation_scale=25))\n",
    "pi_lab = ax.annotate(r\"$\\pi$\", xy=(0,.5), xycoords=pi_arr, fontsize=ft-2, color=pcd['total'], va='center', ha='right')\n",
    "\n",
    "ax.annotate(r\"$S$\", xy=(.5, -.1), xycoords=K, color=pcd['base'], fontsize=ft+2, va='top', ha='center')\n",
    "\n",
    "\n",
    "x, y = (row['TAVG'],row['PRCP'])\n",
    "axrho = ax.inset_axes([.35, .25, .4, .5])\n",
    "axrho.spines[:].set_sketch_params(1, 100, 10)\n",
    "axrho.spines[:].set_color('gray')\n",
    "axrho.tick_params(colors='gray')\n",
    "cinner = 'steelblue'\n",
    "\n",
    "#sc = axrho.scatter(x,y, color= cinner, s=6000, edgecolor='k', lw=2, alpha=.05)\n",
    "x, y = (66, 31) \n",
    "r = .015\n",
    "sc = mpatches.Circle((x,y), radius=r, facecolor=cinner, edgecolor='k', lw=5, alpha=.05)\n",
    "axrho.add_patch(sc)\n",
    "axrho.set_aspect('equal')\n",
    "\n",
    "axrho.set(xlim=(x-1.5*r, x+1.5*r), ylim=(y-1.5*r, y+1.5*r))\n",
    "ax.set_aspect('equal')\n",
    "ax.set(ylim=(.4, 1))\n",
    "for (xr, yr, c, cs) in [(-r, 0, 'k', \"arc3,rad=1.6\"), (r*.1, r*.65, cinner, \"arc3,rad=2.225\"), (r*.6, -r*.4, cinner, \"arc3,rad=2.25\")]:\n",
    "    axrho.scatter(x+xr, y+yr, color=c, marker='s', s=40, edgecolor=pcd['section'], linewidth=1, zorder=10)\n",
    "    px = (r+xr)/(r*2)\n",
    "    py = (r+yr)/(r*2)\n",
    "    print(px, py)\n",
    "    sec = ax.annotate(\"\", xytext=(px, py), textcoords=K, xy=(.5, -.1), xycoords=D, arrowprops={'arrowstyle':'->', 'color':pcd['section'],'connectionstyle':cs}, zorder=6)\n",
    "    ax.add_artist(sec)\n",
    "\n",
    "ax.annotate(r\"$\\rho$\", (.9, .75), xycoords=sec, fontsize=ft-2, color=pcd['section'], zorder=6)\n",
    "ax.tick_params('both', length=0)\n",
    "ax.set(xticklabels=[], yticklabels=[]) \n",
    "ax.axis('off')\n",
    "fig.savefig(\"../figures/fb_rho.png\", dpi=300, bbox_inches='tight')\n",
    "fig.savefig(\"../figures/fb_rho.pdf\", dpi=300, bbox_inches='tight')"
   ]
  },
  {
   "cell_type": "code",
   "execution_count": null,
   "id": "45918a89-f841-4622-bdef-f6ce78087c2f",
   "metadata": {},
   "outputs": [],
   "source": []
  },
  {
   "cell_type": "code",
   "execution_count": 155,
   "id": "ccaee54f-459d-4e8e-b26f-e105e0c001f5",
   "metadata": {},
   "outputs": [
    {
     "data": {
      "text/plain": [
       "0.01"
      ]
     },
     "execution_count": 155,
     "metadata": {},
     "output_type": "execute_result"
    }
   ],
   "source": [
    "sc.get_radius()"
   ]
  },
  {
   "cell_type": "code",
   "execution_count": 144,
   "id": "71648869-8f69-4067-a43c-2031f564f41c",
   "metadata": {},
   "outputs": [
    {
     "data": {
      "text/plain": [
       "Path(array([[ 0.        , -0.5       ],\n",
       "       [ 0.13260155, -0.5       ],\n",
       "       [ 0.25978994, -0.44731685],\n",
       "       [ 0.35355339, -0.35355339],\n",
       "       [ 0.44731685, -0.25978994],\n",
       "       [ 0.5       , -0.13260155],\n",
       "       [ 0.5       ,  0.        ],\n",
       "       [ 0.5       ,  0.13260155],\n",
       "       [ 0.44731685,  0.25978994],\n",
       "       [ 0.35355339,  0.35355339],\n",
       "       [ 0.25978994,  0.44731685],\n",
       "       [ 0.13260155,  0.5       ],\n",
       "       [ 0.        ,  0.5       ],\n",
       "       [-0.13260155,  0.5       ],\n",
       "       [-0.25978994,  0.44731685],\n",
       "       [-0.35355339,  0.35355339],\n",
       "       [-0.44731685,  0.25978994],\n",
       "       [-0.5       ,  0.13260155],\n",
       "       [-0.5       ,  0.        ],\n",
       "       [-0.5       , -0.13260155],\n",
       "       [-0.44731685, -0.25978994],\n",
       "       [-0.35355339, -0.35355339],\n",
       "       [-0.25978994, -0.44731685],\n",
       "       [-0.13260155, -0.5       ],\n",
       "       [ 0.        , -0.5       ],\n",
       "       [ 0.        , -0.5       ]]), array([ 1,  4,  4,  4,  4,  4,  4,  4,  4,  4,  4,  4,  4,  4,  4,  4,  4,\n",
       "        4,  4,  4,  4,  4,  4,  4,  4, 79], dtype=uint8))"
      ]
     },
     "execution_count": 144,
     "metadata": {},
     "output_type": "execute_result"
    }
   ],
   "source": [
    "sc.get_paths()[0]"
   ]
  },
  {
   "cell_type": "code",
   "execution_count": 148,
   "id": "1e5e6e72-941e-4bc3-90cb-cf1b779b5621",
   "metadata": {},
   "outputs": [
    {
     "data": {
      "text/plain": [
       "Path(array([[238.05630631, 224.80227392],\n",
       "       [238.45709909, 224.80227392],\n",
       "       [238.84153039, 224.82613492],\n",
       "       [239.12493369, 224.8686018 ],\n",
       "       [239.40833698, 224.91106869],\n",
       "       [239.56757364, 224.96867423],\n",
       "       [239.56757364, 225.02873147],\n",
       "       [239.56757364, 225.08878872],\n",
       "       [239.40833698, 225.14639426],\n",
       "       [239.12493369, 225.18886114],\n",
       "       [238.84153039, 225.23132803],\n",
       "       [238.45709909, 225.25518902],\n",
       "       [238.05630631, 225.25518902],\n",
       "       [237.65551353, 225.25518902],\n",
       "       [237.27108223, 225.23132803],\n",
       "       [236.98767894, 225.18886114],\n",
       "       [236.70427565, 225.14639426],\n",
       "       [236.54503899, 225.08878872],\n",
       "       [236.54503899, 225.02873147],\n",
       "       [236.54503899, 224.96867423],\n",
       "       [236.70427565, 224.91106869],\n",
       "       [236.98767894, 224.8686018 ],\n",
       "       [237.27108223, 224.82613492],\n",
       "       [237.65551353, 224.80227392],\n",
       "       [238.05630631, 224.80227392],\n",
       "       [238.05630631, 224.80227392]]), array([ 1,  4,  4,  4,  4,  4,  4,  4,  4,  4,  4,  4,  4,  4,  4,  4,  4,\n",
       "        4,  4,  4,  4,  4,  4,  4,  4, 79], dtype=uint8))"
      ]
     },
     "execution_count": 148,
     "metadata": {},
     "output_type": "execute_result"
    }
   ],
   "source": [
    " axrho.transData.transform_path(sc.get_paths()[0])"
   ]
  },
  {
   "cell_type": "code",
   "execution_count": 112,
   "id": "20a9bdba-53e4-4d52-8450-96d9a2874686",
   "metadata": {},
   "outputs": [
    {
     "data": {
      "text/plain": [
       "[<matplotlib.lines.Line2D at 0x1726b8ff4d0>]"
      ]
     },
     "execution_count": 112,
     "metadata": {},
     "output_type": "execute_result"
    },
    {
     "data": {
      "image/png": "[encoded data removed]",
      "text/plain": [
       "<Figure size 640x480 with 1 Axes>"
      ]
     },
     "metadata": {},
     "output_type": "display_data"
    }
   ],
   "source": [
    "plt.plot(sc.get_paths()[0].vertices[:,0][:19], sc.get_paths()[0].vertices[:,1][:19] )"
   ]
  },
  {
   "cell_type": "code",
   "execution_count": null,
   "id": "1024d0b3-d158-490b-bb0a-b569582aa481",
   "metadata": {},
   "outputs": [],
   "source": [
    "yb = .25\n",
    "\n",
    "ax.text(xt, yb-.15, r\"$S$\", va='center', ha='center', color=pcd['base'], fontsize=12)\n",
    "\n",
    "ax.text(xt-.01 ,.5, r\"$\\pi$\", ha='right', fontsize=12, color=pcd['total'])\n",
    "\n",
    "pi = mpatches.FancyArrowPatch((xt, .79),(xt, yb+.1), arrowstyle='->', mutation_scale=20, color=pcd['total'])\n",
    "ax.add_artist(pi)\n",
    "              \n",
    "#ax.text(.6,.5, r\"$\\rho$ =\", ha='left', va='center', fontsize=12, color=pcd['section'])\n",
    "x, y = (row['TAVG'],row['PRCP'])\n",
    "axrho = ax.inset_axes([.45, .35, .35, .35])\n",
    "axrho.spines[:].set_sketch_params(1, 100, 10)\n",
    "axrho.spines[:].set_color('gray')\n",
    "axrho.tick_params(colors='gray')\n",
    "cinner = 'steelblue'\n",
    "\n",
    "axrho.scatter(x,y, color= cinner, s=6000, edgecolor='k', lw=2, alpha=.05)\n",
    "\n",
    "\n",
    "gsecs = [(.075, .00145, -0.05, -.07, cinner, 'arc3,rad=2'), \n",
    "         (.0015, -.004, -.05, -.05, cinner, 'arc3,rad=1.71'), \n",
    "         (-.165, 0, 0, .02, 'k', 'arc3,rad=1.225')]\n",
    "\n",
    "for  (xo, yo, jx, jy, co, cs) in gsecs:\n",
    "    rho = mpatches.FancyArrowPatch((xt+jx, yb+jy), (xt, .79),\n",
    "                               arrowstyle='->', connectionstyle=cs,\n",
    "                               mutation_scale=20, color=pcd['section'], zorder=6)\n",
    "    \n",
    "    ax.add_artist(rho)\n",
    "  \n",
    "    ax.scatter(x + xo,  y + yo, color=co, marker='s',\n",
    "                  s=40, edgecolor=pcd['section'], linewidth=.5, zorder=12, \n",
    "                 transform=axrho.transData)\n",
    "\n",
    "ax.text(.65, yb-.025, r\"$\\rho$\", color=pcd['section'])\n",
    "\n",
    "axrho.set(ylim=(y-.025, y+.025), xlim=(x-.25, x+.25))\n",
    "ax.set(xlim=(.2,1.2), ylim=(0,1), aspect='equal')\n",
    "\n",
    "\n",
    "#ax.axis('off')\n",
    "fig.savefig(\"../figures/fb_rho.png\", dpi=300, bbox_inches='tight')\n",
    "fig.savefig(\"../figures/fb_rho.pdf\", dpi=300, bbox_inches='tight')"
   ]
  }
 ],
 "metadata": {
  "kernelspec": {
   "display_name": "Python 3 (ipykernel)",
   "language": "python",
   "name": "python3"
  },
  "language_info": {
   "codemirror_mode": {
    "name": "ipython",
    "version": 3
   },
   "file_extension": ".py",
   "mimetype": "text/x-python",
   "name": "python",
   "nbconvert_exporter": "python",
   "pygments_lexer": "ipython3",
   "version": "3.13.1"
  }
 },
 "nbformat": 4,
 "nbformat_minor": 5
}
