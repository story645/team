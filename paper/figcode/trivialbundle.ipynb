{
 "cells": [
  {
   "cell_type": "code",
   "execution_count": 1,
   "id": "03505249",
   "metadata": {},
   "outputs": [],
   "source": [
    "%matplotlib inline"
   ]
  },
  {
   "cell_type": "code",
   "execution_count": 2,
   "id": "0682e7f6",
   "metadata": {},
   "outputs": [
    {
     "data": {
      "text/plain": [
       "<module 'matplotlib.pyplot' from 'C:\\\\Users\\\\story\\\\miniconda3\\\\envs\\\\paper\\\\Lib\\\\site-packages\\\\matplotlib\\\\pyplot.py'>"
      ]
     },
     "execution_count": 2,
     "metadata": {},
     "output_type": "execute_result"
    }
   ],
   "source": [
    "import itertools \n",
    "from pathlib import Path\n",
    "\n",
    "import matplotlib as mpl\n",
    "import matplotlib.pyplot as plt\n",
    "import matplotlib.colors as mcolors\n",
    "import matplotlib.patches as mpatches\n",
    "import matplotlib.patheffects as PathEffects\n",
    "from matplotlib.offsetbox import OffsetImage, AnnotationBbox\n",
    "import matplotlib.text as mtext\n",
    "import matplotlib.path as mpath\n",
    "\n",
    "import numpy as np\n",
    "import pandas as pd\n",
    "\n",
    "# (scale, length, randomness).)\n",
    "#plt.xkcd()\n",
    "#import highlight_text as ht\n",
    "\n",
    "import intro_plots as ip\n",
    "from papercolors import colordict as pcd\n",
    "\n",
    "paper_path = Path('../figures/')\n",
    "plt"
   ]
  },
  {
   "cell_type": "code",
   "execution_count": 3,
   "id": "44bd20d1",
   "metadata": {},
   "outputs": [],
   "source": [
    "# tau \n",
    "df = pd.read_parquet(\"nydata_2022.parquet\")"
   ]
  },
  {
   "cell_type": "code",
   "execution_count": 4,
   "id": "6e100b2a",
   "metadata": {},
   "outputs": [
    {
     "data": {
      "text/plain": [
       "0                 BINGHAMTON\n",
       "1               LAGUARDIA AP\n",
       "2         ROCHESTER GTR INTL\n",
       "3         ROCHESTER GTR INTL\n",
       "4      ISLIP-LI MACARTHUR AP\n",
       "               ...          \n",
       "269    ISLIP-LI MACARTHUR AP\n",
       "270    ISLIP-LI MACARTHUR AP\n",
       "271           GLENS FALLS AP\n",
       "272             LAGUARDIA AP\n",
       "273               BINGHAMTON\n",
       "Name: NAME, Length: 3253, dtype: string"
      ]
     },
     "execution_count": 4,
     "metadata": {},
     "output_type": "execute_result"
    }
   ],
   "source": [
    "df['NAME']"
   ]
  },
  {
   "cell_type": "code",
   "execution_count": 5,
   "id": "3e32940f-be5b-4269-b157-2459646e7f0e",
   "metadata": {},
   "outputs": [
    {
     "ename": "AttributeError",
     "evalue": "module 'intro_plots' has no attribute 'airport_codes'",
     "output_type": "error",
     "traceback": [
      "\u001b[1;31m---------------------------------------------------------------------------\u001b[0m",
      "\u001b[1;31mAttributeError\u001b[0m                            Traceback (most recent call last)",
      "Cell \u001b[1;32mIn[5], line 1\u001b[0m\n\u001b[1;32m----> 1\u001b[0m df[\u001b[38;5;124m'\u001b[39m\u001b[38;5;124mAC\u001b[39m\u001b[38;5;124m'\u001b[39m] \u001b[38;5;241m=\u001b[39m df[\u001b[38;5;124m'\u001b[39m\u001b[38;5;124mNAME\u001b[39m\u001b[38;5;124m'\u001b[39m]\u001b[38;5;241m.\u001b[39mreplace(\u001b[43mip\u001b[49m\u001b[38;5;241;43m.\u001b[39;49m\u001b[43mairport_codes\u001b[49m)\n",
      "\u001b[1;31mAttributeError\u001b[0m: module 'intro_plots' has no attribute 'airport_codes'"
     ]
    }
   ],
   "source": [
    "df['AC'] = df['NAME'].replace(ip.airport_codes)"
   ]
  },
  {
   "cell_type": "code",
   "execution_count": null,
   "id": "cd048f8e-0e2f-401c-8a9a-4ca2465464d5",
   "metadata": {},
   "outputs": [],
   "source": [
    "color=pcd['fiber']\n",
    "rows = [\"NAME\", \"TEMP (°F)\", \"PRCP (in.)\"]\n",
    "\n",
    "fiber_node = (r\"<$F_{node}=$>\"+ f\"<{rows[0]}>:\" + r\"<$\\{st_0,\\;\\dots,\\;st_n\\}\\; \\times$>\" + \n",
    "              f\"<{rows[1]}>:\" + r\"<$\\mathbb{R}\\;\\times$>\" +\n",
    "              f\"<{rows[2]}>:\" + r\"<$\\mathbb{R}^{+}$>\")\n",
    "\n",
    "\n",
    "fnprops = [{\"color\":pcd['fiber'], 'fontsize':12}, {\"color\":\"gray\",\"fontsize\":10}, \n",
    "           {\"color\":pcd['fiber'], 'fontsize':12}, \n",
    "           {\"color\":\"gray\",\"fontsize\":10}, {\"color\":pcd['fiber'], 'fontsize':12}, \n",
    "           {\"color\":\"gray\",\"fontsize\":10}, {\"color\":pcd['fiber'], 'fontsize':12}]\n",
    "\n",
    "fiber_edge = r\"<$F_{edge}$>\" + \"<DISTANCE>:\" +r\"<$\\mathbb{R}^{+}$>\"\n",
    "feprops = [{\"color\":pcd['fiber'], 'fontsize':12}, {\"color\":\"gray\",\"fontsize\":10}, \n",
    "           {\"color\":pcd['fiber'], 'fontsize':12}\n",
    "          \n",
    "          \n",
    "          \n",
    "          \n",
    "          ]\n",
    "section = r\"<$\\tau($>\" + \"<{k}>\" + r\"<$)$>\"\n",
    "section_line = r\"<$\\tau($>\" + \"<({ks}, {kt}), {k}>\" + r\"<$)$>\"\n",
    "fiber_line = r\"$\\mathbb{R}^{+}$\"\n",
    "\n",
    "#x = np.linspace(-5,5,10000)\n",
    "#y = lambda x: (1/np.sqrt(2*np.pi))*np.e**(-x**2/2)\n",
    "\n"
   ]
  },
  {
   "cell_type": "code",
   "execution_count": null,
   "id": "2b367318-99ec-4571-8515-e159f71cddd6",
   "metadata": {},
   "outputs": [],
   "source": [
    "row = df[['AC','NAME', 'TEMP (°F)', 'PRCP (in.)', \"NEW YORK JFK INTL AP\"]].loc[0]\n",
    "section_node = (section + \n",
    "'''< = {{><{k}><, ><({v1},> <{v2}°,> <{v3})><}}>''') \n",
    "sprops = [{\"color\":pcd['section']}, {'color':pcd['base']}, {'color':pcd['section']}, \n",
    "          {'color':pcd['section']}, {'color':pcd['base']},  {'color':pcd['section']},\n",
    "         {'color':ip.cdict[row['NAME']]}, {'color':ip.cdict[row['NAME']]}, {'color':ip.cdict[row['NAME']]},  \n",
    "          {'color':pcd['section']}]\n",
    "#print(section_node.format(k=0, v1=row['NAME'], v2=row['TEMP (°F)'], v3=row['PRCP (in.)']))\n",
    "section_edge = (section_line + \"\"\"<= {{><(({ks},{kt}),{k})><,({v:.2f})}}>\"\"\")\n",
    "seprops = [{\"color\":pcd['section']}, {'color':pcd['base']}, {'color':pcd['section']}, \n",
    "           {'color':pcd['section']}, {'color':pcd['base']},  {'color':pcd['section']}]"
   ]
  },
  {
   "cell_type": "code",
   "execution_count": null,
   "id": "483b12c0-bfdd-43ce-9304-c069d12fdca3",
   "metadata": {},
   "outputs": [],
   "source": [
    "def make_node(fig, ax):\n",
    "    yloc = 1.25\n",
    "    ypts = .2\n",
    "    xpts = [.1, 2.9]\n",
    "        \n",
    "    ht.ax_text(.05, yloc, s=fiber_node, highlight_textprops=fnprops, ha='left', va='bottom', \n",
    "               ax=ax, transform=ax.transAxes)\n",
    "\n",
    "    # node section\n",
    "    ynmid = ypts+(yloc-ypts)/2\n",
    "    pin = mpatches.FancyArrowPatch((xpts[0], yloc), (xpts[0], ypts), \n",
    "                                      arrowstyle='->', mutation_scale=20, color='gray')\n",
    "    ax.add_artist(pin)\n",
    "    ax.text(xpts[0], ynmid, r\"$\\pi$\", color=\"gray\", ha='right', va='center')\n",
    "    \n",
    "    ht.ax_text(xpts[0]+.1, ynmid+.1, section_node.format(k=0, v1=row['AC'], v2=row['TEMP (°F)'], v3=row['PRCP (in.)']), \n",
    "               highlight_textprops=sprops, fontsize=10)\n",
    "    tau1 = mpatches.FancyArrowPatch((xpts[0], ypts), (xpts[0], yloc), color=pcd['section'],\n",
    "                                     connectionstyle='arc3,rad=.2',  arrowstyle='->', mutation_scale=20)\n",
    "    ax.add_artist(tau1)\n",
    "    \n",
    "    #edge section\n",
    "    xloc = 2.3\n",
    "    yloff = .3\n",
    "    ht.ax_text(xloc, yloc-yloff, s=fiber_edge, highlight_textprops=feprops, ha='center', va='bottom' )\n",
    "    \n",
    "    xe = xloc-.4\n",
    "    \n",
    "    yemid = ypts + (yloc-yloff - ypts)/2\n",
    "    pie = mpatches.FancyArrowPatch((xe, yloc-yloff), (xe, ypts), arrowstyle='->', \n",
    "                                   mutation_scale=20, color='gray')\n",
    "    ax.add_artist(pie)\n",
    "    ax.text(xe-.01, yemid, r\"$\\pi$\", color=\"gray\", ha='right', va='center')\n",
    "    \n",
    "    ht.ax_text(xe+.075, yemid, s=section_edge.format(ks=0, kt=2, k=.8, v= row[\"NEW YORK JFK INTL AP\"]), \n",
    "                                                     highlight_textprops=seprops)\n",
    "    tau2 = mpatches.FancyArrowPatch((xe, ypts), (xe, yloc-yloff), color=pcd['section'],\n",
    "                                     connectionstyle='arc3,rad=.2',  arrowstyle='->', mutation_scale=20)\n",
    "    ax.add_artist(tau2)\n",
    "  \n",
    "    ax.plot(xpts,[ypts, ypts],  color=pcd['base'], marker='o')\n",
    "    for i, x in enumerate([xpts[0], xpts[0]+(xpts[1]-xpts[0])/2, xpts[1]]):\n",
    "        ax.text(x, ypts-.03, f\"$K_{i}$\",color=pcd['base'], va='top', ha='center')\n",
    "    \n",
    "    ax.set(xlim=(0, 3), ylim=(0, 1.5), aspect='equal', yticks=[], xticks=[])\n",
    "    ax.axis('off')"
   ]
  },
  {
   "cell_type": "code",
   "execution_count": 7,
   "id": "2da7e3f6-e293-4750-bd51-73fcfe38541d",
   "metadata": {},
   "outputs": [],
   "source": [
    "row = df[['NAME', 'TAVG', 'PRCP']][(df['NAME']==\"JFK INTL AP\")].loc[237].iloc[-1]"
   ]
  },
  {
   "cell_type": "code",
   "execution_count": 8,
   "id": "0b1ab008-3674-4015-8b0c-4587c17f976a",
   "metadata": {},
   "outputs": [
    {
     "data": {
      "text/plain": [
       "NAME    JFK INTL AP\n",
       "TAVG          66.02\n",
       "PRCP       0.311023\n",
       "Name: 237, dtype: object"
      ]
     },
     "execution_count": 8,
     "metadata": {},
     "output_type": "execute_result"
    }
   ],
   "source": [
    "row ##axrho.set(ylim=(.655, .6675), xlim=(33.75, 34.25))"
   ]
  },
  {
   "cell_type": "code",
   "execution_count": 57,
   "id": "297da98e-fb07-41e7-b21e-fa6235ea0946",
   "metadata": {},
   "outputs": [
    {
     "name": "stderr",
     "output_type": "stream",
     "text": [
      "C:\\Users\\story\\AppData\\Local\\Temp\\ipykernel_13052\\2410516556.py:97: UserWarning: constrained_layout not applied because axes sizes collapsed to zero.  Try making figure larger or Axes decorations smaller.\n",
      "  fig.savefig(\"../figures/fb_rho.pdf\", dpi=300, bbox_inches='tight')\n",
      "C:\\Users\\story\\miniconda3\\envs\\paper\\Lib\\site-packages\\IPython\\core\\events.py:82: UserWarning: constrained_layout not applied because axes sizes collapsed to zero.  Try making figure larger or Axes decorations smaller.\n",
      "  func(*args, **kwargs)\n",
      "C:\\Users\\story\\miniconda3\\envs\\paper\\Lib\\site-packages\\IPython\\core\\pylabtools.py:170: UserWarning: constrained_layout not applied because axes sizes collapsed to zero.  Try making figure larger or Axes decorations smaller.\n",
      "  fig.canvas.print_figure(bytes_io, **kw)\n"
     ]
    },
    {
     "data": {
      "image/png": "[encoded data removed]",
      "text/plain": [
       "<Figure size 350x350 with 2 Axes>"
      ]
     },
     "metadata": {},
     "output_type": "display_data"
    }
   ],
   "source": [
    "fig, ax = plt.subplots(figsize=(3.5,3.5), layout='compressed')\n",
    "\n",
    "ft = 14\n",
    "x0 = .15\n",
    "D = fig.text(.15,.925, r\"$D$\",  fontsize=ft+2, color=pcd['fiber'], ha='center', va='baseline')\n",
    "\n",
    "dkwargs = dict(fontsize=ft, color=pcd['fiber'], ha='left', va='center')\n",
    "lkwargs = dict(fontsize=ft-4, fontfamily = 'monospace', color=pcd['fiber'], ha='center', va='bottom')\n",
    "\n",
    "tf = ax.annotate(\"=\", xy=(1,.5), xycoords=D, **dkwargs)\n",
    "x = ax.annotate(r\"$\\mathbb{R}$\", xycoords= tf, xy = (1,.5), **dkwargs)\n",
    "xl = ax.annotate(\"x\", xycoords=x, xy=(.5,1), **lkwargs)\n",
    "times = ax.annotate(r\"$\\times$\", xycoords=x, xy = (1,.5), **dkwargs)\n",
    "y = ax.annotate(r\"$\\mathbb{R}$\", xycoords=times, xy=(1,.5), **dkwargs)\n",
    "yl = ax.annotate(\"y\", xycoords=y, xy=(.5,1), **lkwargs)\n",
    "times = ax.annotate(r\"$\\times$\", xycoords=y, xy = (1,.5), **dkwargs)\n",
    "z = ax.annotate(r\"$\\mathbb{I}$\", xycoords=times, xy = (1,.5), **dkwargs)\n",
    "zl = ax.annotate(\"z\", xycoords=z, xy=(.5,1), **lkwargs)\n",
    "        \n",
    "   \n",
    "N = 30\n",
    "M = 10\n",
    "arr = np.repeat(np.linspace(0,1, N), M).reshape(N,M)\n",
    "pad = 1\n",
    "cfiber = np.ones((N+pad*2, M+pad*2))*2\n",
    "cfiber[pad:-pad, pad:-pad] = arr\n",
    "norm = mcolors.Normalize(vmin=0, vmax=1)\n",
    "\n",
    "#(left, right, bottom, top)\n",
    "va = 'bottom'\n",
    "ha = 'left'\n",
    "xy = (1,0)\n",
    "xycoords = z\n",
    "\n",
    "\n",
    "for cname in [\"Reds\", \"Greens\", \"Blues\"]:\n",
    "    times = ax.annotate(r\"$\\times$\", xycoords=xycoords, xy = xy, fontsize=ft, color=pcd['fiber'], va=va, ha=ha)\n",
    "    cmap = mpl.colormaps[cname].resampled(N).with_extremes(over=pcd['fiber'])\n",
    "    im = OffsetImage(cfiber, cmap=cmap, norm=norm)\n",
    "    im.image.axes = ax\n",
    "    \n",
    "    ab = AnnotationBbox(im, xy = (1.8, .5), xycoords=times, frameon=False)\n",
    "    ax.add_artist(ab)\n",
    "    ax.annotate(cname[0], xycoords=ab, xy=(.5,.9), **lkwargs)\n",
    "    ha = 'center'\n",
    "    xy = (1.5, 0)\n",
    "    xycoords = (im, tf)\n",
    "    \n",
    "times = ax.annotate(r\"$ \\times$\", \n",
    "            xy=xy, xycoords=xycoords, fontsize=ft, color=pcd['fiber'], ha=ha, va=va)\n",
    "\n",
    "alpha = ax.annotate(r\"$\\{\\alpha \\in \\mathbb{R} \\,\\vert \\, 0\\leq \\alpha \\leq 1\\}$\", \n",
    "            xy=(1,.55), xycoords=times, fontsize=ft, color=pcd['fiber'], ha='left', va='center')\n",
    "al = ax.annotate(\"alpha\", xycoords=alpha, xy=(.5,1), **lkwargs)\n",
    "\n",
    "K = mpatches.Circle((x0, .25), .075, edgecolor=pcd['base'], facecolor=mcolors.to_rgba(pcd['base'], alpha=.15))\n",
    "fig.add_artist(K)\n",
    "#ax.add_patch(K)\n",
    "\n",
    "pi_arr = ax.annotate(\"\", xy=(.5, 1), xycoords=K, xytext=(.5, 0), textcoords=D, arrowprops=dict(arrowstyle='->', color=pcd['total'], mutation_scale=25))\n",
    "pi_lab = ax.annotate(r\"$\\pi$\", xy=(0,.5), xycoords=pi_arr, fontsize=ft-2, color=pcd['total'], va='center', ha='right')\n",
    "\n",
    "ax.annotate(r\"$S$\", xy=(.5, -.1), xycoords=K, color=pcd['base'], fontsize=ft+2, va='top', ha='center')\n",
    "\n",
    "ax.tick_params('both', length=0)\n",
    "#ax.set(xticklabels=[], yticklabels=[]) \n",
    "ax.axis('off')\n",
    "\n",
    "x, y = (row['TAVG'],row['PRCP'])\n",
    "axrho = fig.add_axes([.7, .3, .5, .5], zorder=2)\n",
    "\n",
    "\n",
    "axrho.spines[:].set_sketch_params(1, 100, 10)\n",
    "axrho.spines[:].set_color('gray')\n",
    "axrho.tick_params(colors='gray')\n",
    "cinner = 'steelblue'\n",
    "#sc = axrho.scatter(x,y, color= cinner, s=6000, edgecolor='k', lw=2, alpha=.05)\n",
    "x, y = (66, 31) \n",
    "r = .015\n",
    "sc = mpatches.Circle((x,y), radius=r, facecolor=cinner, edgecolor='k', lw=5, alpha=.1)\n",
    "axrho.add_patch(sc)\n",
    "axrho.set_aspect('equal')\n",
    "axrho.set(xlim=(x-1.5*r, x+1.5*r), ylim=(y-1.5*r, y+1.5*r))\n",
    "ax.set_aspect('equal')\n",
    "for (xr, yr, c, cs) in [(-r, 0, 'k', \"arc3,rad=2.075\"), (r*.1, r*.65, cinner, \"arc3,rad=2.75\"), (r*.6, -r*.4, cinner, \"arc3,rad=3\")]:\n",
    "    axrho.scatter(xs:=x+xr, ys:=y+yr, color=c, marker='s', s=40, edgecolor=pcd['section'], linewidth=1, zorder=10)\n",
    "    px = (r+xr)/(r*2)\n",
    "    py = (r+yr)/(r*2)\n",
    "    sec = mtext.Annotation(\"\", xytext=(px, py), textcoords=K, xy=(.5, -.1), xycoords=D, \n",
    "                      arrowprops={'arrowstyle':'->, head_width=.25', 'mutation_scale':25,'color':pcd['section'],'connectionstyle':cs}, zorder=6)\n",
    "    fig.add_artist(sec)\n",
    "    \n",
    "    \n",
    "ax.annotate(r\"$\\rho$\", (1.01, .575), xycoords=sec, fontsize=ft-2, color=pcd['section'], zorder=7)\n",
    "\n",
    "fig.savefig(\"../figures/fb_rho.png\", dpi=300, bbox_inches='tight')\n",
    "fig.savefig(\"../figures/fb_rho.pdf\", dpi=300, bbox_inches='tight')"
   ]
  },
  {
   "cell_type": "code",
   "execution_count": null,
   "id": "cb76204d-c944-4cd6-8a32-5b50a3db4d03",
   "metadata": {},
   "outputs": [],
   "source": []
  }
 ],
 "metadata": {
  "kernelspec": {
   "display_name": "Python 3 (ipykernel)",
   "language": "python",
   "name": "python3"
  },
  "language_info": {
   "codemirror_mode": {
    "name": "ipython",
    "version": 3
   },
   "file_extension": ".py",
   "mimetype": "text/x-python",
   "name": "python",
   "nbconvert_exporter": "python",
   "pygments_lexer": "ipython3",
   "version": "3.13.1"
  }
 },
 "nbformat": 4,
 "nbformat_minor": 5
}
