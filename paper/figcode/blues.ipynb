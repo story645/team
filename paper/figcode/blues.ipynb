{
 "cells": [
  {
   "cell_type": "code",
   "execution_count": 2,
   "id": "12ab113a",
   "metadata": {},
   "outputs": [],
   "source": [
    "%matplotlib inline"
   ]
  },
  {
   "cell_type": "code",
   "execution_count": 3,
   "id": "314a53fe",
   "metadata": {},
   "outputs": [],
   "source": [
    "import matplotlib.colors as mcolors\n",
    "import matplotlib.pyplot as plt\n",
    "import numpy as np\n",
    "from cycler import cycler"
   ]
  },
  {
   "cell_type": "code",
   "execution_count": 4,
   "id": "d269efec",
   "metadata": {},
   "outputs": [],
   "source": [
    "plt.style.use('_mpl-gallery')\n"
   ]
  },
  {
   "cell_type": "code",
   "execution_count": 5,
   "id": "305ea0d4",
   "metadata": {},
   "outputs": [
    {
     "data": {
      "image/png": "[encoded data removed]",
      "text/plain": [
       "<Figure size 144x144 with 1 Axes>"
      ]
     },
     "metadata": {
      "needs_background": "light"
     },
     "output_type": "display_data"
    }
   ],
   "source": [
    "\n",
    "# make data\n",
    "np.random.seed(1)\n",
    "x = np.arange(0, 10, 2)\n",
    "ay = [1, 1.25, 2 ,2.75, 3]\n",
    "by = [1, 1, 1, 1, 1]\n",
    "cy = [2, 1, 2, 1, 2]\n",
    "y = np.vstack([ay, by, cy])\n",
    "labels = ['a', 'b', 'c']\n",
    "# plot\n",
    "\n",
    "fig, ax = plt.subplots()\n",
    "\n",
    "\n",
    "ax.set_prop_cycle(color=['#c6dbef', '#6aaed6', '#2070b4', '#08306b'])\n",
    "ax.stackplot(x, y, labels=labels)\n",
    "ax.legend(loc=2)\n",
    "\n",
    "ax.set(xlim=(0, 8), xticks=np.arange(1, 8),\n",
    "       ylim=(0, 8), yticks=np.arange(1, 8))\n",
    "\n",
    "plt.show()"
   ]
  },
  {
   "cell_type": "code",
   "execution_count": 6,
   "id": "78e21dac",
   "metadata": {},
   "outputs": [
    {
     "data": {
      "image/png": "[encoded data removed]",
      "text/html": [
       "<div style=\"vertical-align: middle;\"><strong>Blues</strong> </div><div class=\"cmap\"><img alt=\"Blues colormap\" title=\"Blues\" style=\"border: 1px solid #555;\" src=\"data:image/png;base64,iVBORw0KGgoAAAANSUhEUgAAAgAAAABACAYAAABsv8+/AAAAFHRFWHRUaXRsZQBCbHVlcyBjb2xvcm1hcIbbCAEAAAAadEVYdERlc2NyaXB0aW9uAEJsdWVzIGNvbG9ybWFweISh5wAAADB0RVh0QXV0aG9yAE1hdHBsb3RsaWIgdjMuNS4xLCBodHRwczovL21hdHBsb3RsaWIub3Jn97fOzwAAADJ0RVh0U29mdHdhcmUATWF0cGxvdGxpYiB2My41LjEsIGh0dHBzOi8vbWF0cGxvdGxpYi5vcmfZEVHoAAAB00lEQVR4nO3WwU7rMAAAQcP//y8HpIQDJQi3Vopa3uHtzCVynDhxCdK+vL3v+xhj7J+HcTmMy+E4P47x7fnjqgfnp8ct57/Xe2z+3v397/Pz77ON+XvYfze/OP81vn/+9ntuV+89z6/2d1l/Hh/X397fdhwX+5zWOV3/5Pz8HqfXLe9fvN/8+yzuv/p7zPNX+zj5Ts6et1pvsY9717v6bk72cz4+2df2rOf87rmPr/vzH281f+91z1rnr5439u3rhp/jbRqvrnv6+F8953P8OgCAHAEAAEECAACCBAAABAkAAAgSAAAQJAAAIEgAAECQAACAIAEAAEECAACCBAAABAkAAAgSAAAQJAAAIEgAAECQAACAIAEAAEECAACCBAAABAkAAAgSAAAQJAAAIEgAAECQAACAIAEAAEECAACCBAAABAkAAAgSAAAQJAAAIEgAAECQAACAIAEAAEECAACCBAAABAkAAAgSAAAQJAAAIEgAAECQAACAIAEAAEECAACCBAAABAkAAAgSAAAQJAAAIEgAAECQAACAIAEAAEECAACCBAAABAkAAAgSAAAQJAAAIEgAAECQAACAIAEAAEECAACCBAAABAkAAAgSAAAQJAAAIOgDfCcYQIPsTRMAAAAASUVORK5CYII=\"></div><div style=\"vertical-align: middle; max-width: 514px; display: flex; justify-content: space-between;\"><div style=\"float: left;\"><div title=\"#f7fbffff\" style=\"display: inline-block; width: 1em; height: 1em; margin: 0; vertical-align: middle; border: 1px solid #555; background-color: #f7fbffff;\"></div> under</div><div style=\"margin: 0 auto; display: inline-block;\">bad <div title=\"#00000000\" style=\"display: inline-block; width: 1em; height: 1em; margin: 0; vertical-align: middle; border: 1px solid #555; background-color: #00000000;\"></div></div><div style=\"float: right;\">over <div title=\"#08306bff\" style=\"display: inline-block; width: 1em; height: 1em; margin: 0; vertical-align: middle; border: 1px solid #555; background-color: #08306bff;\"></div></div>"
      ],
      "text/plain": [
       "<matplotlib.colors.LinearSegmentedColormap at 0x207d6a0e6d0>"
      ]
     },
     "execution_count": 6,
     "metadata": {},
     "output_type": "execute_result"
    }
   ],
   "source": [
    "plt.get_cmap(\"Blues\")"
   ]
  },
  {
   "cell_type": "code",
   "execution_count": 9,
   "id": "52d499f9",
   "metadata": {},
   "outputs": [
    {
     "data": {
      "image/png": "[encoded data removed]",
      "text/plain": [
       "<Figure size 144x144 with 1 Axes>"
      ]
     },
     "metadata": {
      "needs_background": "light"
     },
     "output_type": "display_data"
    }
   ],
   "source": [
    "\n",
    "\n",
    "fig, ax = plt.subplots()\n",
    "ax.grid(False)\n",
    "ax.spines[:].set_visible(False)\n",
    "ax.set_xticks([])\n",
    "colors = [mcolors.to_hex(plt.get_cmap(\"Blues\")(x)) for x in np.linspace(0,1,10)]\n",
    "ax.barh(colors, 1, color=colors, edgecolor='k');"
   ]
  },
  {
   "cell_type": "code",
   "execution_count": 122,
   "id": "a780d952",
   "metadata": {},
   "outputs": [
    {
     "data": {
      "text/plain": [
       "['3787c0', '58a1cf', '82bbdb', 'abd0e6', 'ccdff1']"
      ]
     },
     "execution_count": 122,
     "metadata": {},
     "output_type": "execute_result"
    }
   ],
   "source": [
    "[mcolors.to_hex(plt.get_cmap(\"Blues\")(x)).strip('#') for x in np.linspace(0,1,10)][2:7][::-1]"
   ]
  },
  {
   "cell_type": "code",
   "execution_count": 140,
   "id": "c909c57a",
   "metadata": {},
   "outputs": [
    {
     "data": {
      "text/plain": [
       "'#1f77b4'"
      ]
     },
     "execution_count": 140,
     "metadata": {},
     "output_type": "execute_result"
    }
   ],
   "source": [
    "mcolors.to_hex('tab:blue')"
   ]
  },
  {
   "cell_type": "code",
   "execution_count": 141,
   "id": "d6d97a95-c148-421b-a9b3-1c993813a0b2",
   "metadata": {},
   "outputs": [
    {
     "name": "stdout",
     "output_type": "stream",
     "text": [
      "Collecting highlight-text\n",
      "  Using cached highlight_text-0.2-py3-none-any.whl (11 kB)\n",
      "Installing collected packages: highlight-text\n",
      "Successfully installed highlight-text-0.2\n",
      "Note: you may need to restart the kernel to use updated packages.\n"
     ]
    }
   ],
   "source": [
    "%pip install highlight-text"
   ]
  },
  {
   "cell_type": "code",
   "execution_count": null,
   "id": "349514e9-cf4b-4769-abf3-764989530fc9",
   "metadata": {},
   "outputs": [],
   "source": []
  }
 ],
 "metadata": {
  "kernelspec": {
   "display_name": "Python 3 (ipykernel)",
   "language": "python",
   "name": "python3"
  },
  "language_info": {
   "codemirror_mode": {
    "name": "ipython",
    "version": 3
   },
   "file_extension": ".py",
   "mimetype": "text/x-python",
   "name": "python",
   "nbconvert_exporter": "python",
   "pygments_lexer": "ipython3",
   "version": "3.9.12"
  }
 },
 "nbformat": 4,
 "nbformat_minor": 5
}
