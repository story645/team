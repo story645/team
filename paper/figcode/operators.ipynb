{
 "cells": [
  {
   "cell_type": "code",
   "execution_count": 1,
   "id": "8e434a99-7b13-40a1-ae3d-dc87defb7689",
   "metadata": {},
   "outputs": [],
   "source": [
    "%matplotlib inline"
   ]
  },
  {
   "cell_type": "code",
   "execution_count": 94,
   "id": "922a3d8f",
   "metadata": {},
   "outputs": [],
   "source": [
    "from pathlib import Path\n",
    "import matplotlib.pyplot as plt\n",
    "import matplotlib.axes as maxes\n",
    "import matplotlib.colors as mcolors\n",
    "import matplotlib.patheffects as path_effects\n",
    "import matplotlib.patches as mpatches\n",
    "import numpy as np\n",
    "\n",
    "from papercolors import colordict as pcd\n",
    "\n",
    "paper_path = Path('../figures/')"
   ]
  },
  {
   "cell_type": "code",
   "execution_count": 341,
   "id": "986789ba-0490-498e-8da1-9a83aa716eff",
   "metadata": {},
   "outputs": [
    {
     "data": {
      "image/png": "[encoded data removed]",
      "text/plain": [
       "<Figure size 288x288 with 1 Axes>"
      ]
     },
     "metadata": {
      "needs_background": "light"
     },
     "output_type": "display_data"
    }
   ],
   "source": [
    "fig, ax = plt.subplots(figsize=(4,4))\n",
    "\n",
    "\n",
    "\n",
    "t=np.linspace(-1,1,100);\n",
    "X=(-np.sqrt(2)/2)*(t*(1-t))-.3\n",
    "Y=(np.sqrt(2)/2)*(t*(1+t))-.2\n",
    "\n",
    "\n",
    "lw = 2\n",
    "\n",
    "r = .75\n",
    "for (x,y) in [(0,0), (-1.5, -1.5)]:\n",
    "    ax.add_artist(mpatches.Circle((x,y), radius=r, lw=lw, edgecolor='black', fill=None))\n",
    "    \n",
    "for (x,y) in [(0,0), (2.25, 1.75)]:\n",
    "    ax.plot(X+x,Y-y, color='k', lw=lw)\n",
    "\n",
    "box = [(-1.5-(.5/2),-4), (-.25,-5)]\n",
    "for (x,y) in box:\n",
    "    ax.add_artist(mpatches.Rectangle((x,y), .5, .5, edgecolor=pcd['base'], facecolor=mcolors.to_rgba(pcd['base'], alpha=.15)))\n",
    "    \n",
    "rect = [(1.75, -4), (-.75, -5.5)]\n",
    "for (x,y) in rect:\n",
    "    ax.add_artist(mpatches.Rectangle((x,y), 1.5, .5, edgecolor=pcd['base'], facecolor=mcolors.to_rgba(pcd['base'], alpha=.15)))\n",
    "\n",
    "ax.set(aspect='equal', xlim=(-2.75, 3.5), ylim=(-6,1.5))\n",
    "\n",
    "\n",
    "labels = {3: r'$\\rho_{circle}$', 2:r'$\\rho_{line}$', 1:r'$\\rho_{circle+line}$'}\n",
    "off = {3:.2,2: .1, 1:.31}\n",
    "for i, (s,t) in enumerate([((0,-4.85),(-.75*np.cos(np.pi/2),.75*np.sin(np.pi/2))),\n",
    "                           ((X[5]-.5,-5.35),(X[5],Y[5])), \n",
    "                           ((X[9]+2.25,-3.85),(X[9]+2.25,Y[9]-1.75)), \n",
    "                           ((-1.5, -3.85), (-.75*np.cos(np.pi/2)-1.5, -.75*np.sin(np.pi/2)))]):\n",
    "    arr = mpatches.FancyArrowPatch(s,t, color=pcd['section'],\n",
    "                                     connectionstyle='arc3,rad=.2', arrowstyle='->', mutation_scale=20)\n",
    "    ax.add_artist(arr)\n",
    "    mid = s[1]+(t[1]-s[1])/2\n",
    "    if i!=0:\n",
    "        ax.text(t[0]+ off[i], mid-.2, labels[i], color=pcd['section'], ha='right')\n",
    "        \n",
    "for i, (s, t) in enumerate([[(rect[0][0]+1.5/2, rect[0][1]), (rect[1][0]+1.5, rect[1][1]+.25)],\n",
    "                         [(box[0][0]+.25, box[0][1]), (box[1][0],box[1][1]+.25)]]):\n",
    "    \n",
    "    cs = ['arc3,rad=-.1','arc3,rad=.1']\n",
    "    arr = mpatches.FancyArrowPatch(s,t, color=pcd['base'],\n",
    "                                     connectionstyle=cs[i], arrowstyle='->', mutation_scale=20)\n",
    "    \n",
    "    ax.add_artist(arr)\n",
    "    tx = s[0]+(t[0]-s[0])/2\n",
    "    ty = s[1]+(t[1]-s[1])/2\n",
    "    ax.text(tx, ty+.05, r'$\\iota$', color=pcd['base'])\n",
    "    label = [r'$S_{line}$', r'$S_{circle}$']\n",
    "    off = [.2, -.1]\n",
    "    ax.text(s[0]+off[i], s[1]-.1, label[i], color=pcd['base'], va='top', ha='center')\n",
    "    \n",
    "ax.text(0,-5.5, r'$S_{circle+line}$', color=pcd['base'], va='top', ha='center')\n",
    "ax.axis('off')\n",
    "fig.savefig(paper_path/\"qcom.png\", bbox_inches='tight', dpi=200)\n",
    "    "
   ]
  },
  {
   "cell_type": "code",
   "execution_count": null,
   "id": "6e6a7565-5772-48e9-ae64-ac1c657c403c",
   "metadata": {},
   "outputs": [],
   "source": []
  }
 ],
 "metadata": {
  "kernelspec": {
   "display_name": "Python 3 (ipykernel)",
   "language": "python",
   "name": "python3"
  },
  "language_info": {
   "codemirror_mode": {
    "name": "ipython",
    "version": 3
   },
   "file_extension": ".py",
   "mimetype": "text/x-python",
   "name": "python",
   "nbconvert_exporter": "python",
   "pygments_lexer": "ipython3",
   "version": "3.12.0"
  }
 },
 "nbformat": 4,
 "nbformat_minor": 5
}
