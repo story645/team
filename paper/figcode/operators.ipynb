{
 "cells": [
  {
   "cell_type": "code",
   "execution_count": 1,
   "id": "922a3d8f",
   "metadata": {},
   "outputs": [
    {
     "name": "stdout",
     "output_type": "stream",
     "text": [
      "Collecting flexitext\n",
      "  Using cached flexitext-0.2.0-py3-none-any.whl (15 kB)\n",
      "Requirement already satisfied: matplotlib>=3.4 in c:\\users\\story\\anaconda3\\envs\\prop\\lib\\site-packages (from flexitext) (3.5.1)\n",
      "Requirement already satisfied: pyparsing>=2.2.1 in c:\\users\\story\\appdata\\roaming\\python\\python39\\site-packages (from matplotlib>=3.4->flexitext) (2.4.7)\n",
      "Requirement already satisfied: pillow>=6.2.0 in c:\\users\\story\\anaconda3\\envs\\prop\\lib\\site-packages (from matplotlib>=3.4->flexitext) (9.0.1)\n",
      "Requirement already satisfied: numpy>=1.17 in c:\\users\\story\\anaconda3\\envs\\prop\\lib\\site-packages (from matplotlib>=3.4->flexitext) (1.22.3)\n",
      "Requirement already satisfied: python-dateutil>=2.7 in c:\\users\\story\\appdata\\roaming\\python\\python39\\site-packages (from matplotlib>=3.4->flexitext) (2.8.1)\n",
      "Requirement already satisfied: packaging>=20.0 in c:\\users\\story\\appdata\\roaming\\python\\python39\\site-packages (from matplotlib>=3.4->flexitext) (20.9)\n",
      "Requirement already satisfied: kiwisolver>=1.0.1 in c:\\users\\story\\anaconda3\\envs\\prop\\lib\\site-packages (from matplotlib>=3.4->flexitext) (1.4.2)\n",
      "Requirement already satisfied: fonttools>=4.22.0 in c:\\users\\story\\anaconda3\\envs\\prop\\lib\\site-packages (from matplotlib>=3.4->flexitext) (4.25.0)\n",
      "Requirement already satisfied: cycler>=0.10 in c:\\users\\story\\anaconda3\\envs\\prop\\lib\\site-packages (from matplotlib>=3.4->flexitext) (0.11.0)\n",
      "Requirement already satisfied: six>=1.5 in c:\\users\\story\\appdata\\roaming\\python\\python39\\site-packages (from python-dateutil>=2.7->matplotlib>=3.4->flexitext) (1.16.0)\n",
      "Installing collected packages: flexitext\n",
      "Successfully installed flexitext-0.2.0\n",
      "Note: you may need to restart the kernel to use updated packages.\n"
     ]
    }
   ],
   "source": [
    "pip install flexitext"
   ]
  },
  {
   "cell_type": "code",
   "execution_count": 2,
   "id": "986789ba-0490-498e-8da1-9a83aa716eff",
   "metadata": {},
   "outputs": [
    {
     "name": "stdout",
     "output_type": "stream",
     "text": [
      "Requirement already satisfied: highlight-text in c:\\users\\story\\anaconda3\\envs\\prop\\lib\\site-packages (0.2)\n",
      "Note: you may need to restart the kernel to use updated packages.\n"
     ]
    }
   ],
   "source": [
    "pip install highlight-text"
   ]
  },
  {
   "cell_type": "code",
   "execution_count": null,
   "id": "8e434a99-7b13-40a1-ae3d-dc87defb7689",
   "metadata": {},
   "outputs": [],
   "source": []
  }
 ],
 "metadata": {
  "kernelspec": {
   "display_name": "Python 3 (ipykernel)",
   "language": "python",
   "name": "python3"
  },
  "language_info": {
   "codemirror_mode": {
    "name": "ipython",
    "version": 3
   },
   "file_extension": ".py",
   "mimetype": "text/x-python",
   "name": "python",
   "nbconvert_exporter": "python",
   "pygments_lexer": "ipython3",
   "version": "3.9.12"
  }
 },
 "nbformat": 4,
 "nbformat_minor": 5
}
