{
 "cells": [
  {
   "cell_type": "code",
   "execution_count": 42,
   "id": "aab39d76-7fd0-421a-89b4-43019b1bb1c6",
   "metadata": {},
   "outputs": [],
   "source": [
    "%matplotlib inline\n",
    "\n",
    "from functools import partial\n",
    "from pathlib import Path \n",
    "\n",
    "\n",
    "import numpy as np\n",
    "import pandas as pd\n",
    "\n",
    "import matplotlib as mpl\n",
    "import matplotlib.pyplot as plt\n",
    "import matplotlib.patches as mpatches\n",
    "import matplotlib.transforms as mtransforms\n",
    "import matplotlib.colors as mcolors\n",
    "import matplotlib.cm as mcm\n",
    "import matplotlib.text as mtexts\n",
    "\n",
    "from mpl_toolkits.axisartist.axislines import AxesZero\n",
    "\n",
    "\n",
    "import papercolors as pc\n",
    "from papercolors import colordict as pcd\n",
    "\n",
    "paper_path = Path('../figures/tex/')\n",
    "\n",
    "fs={'normal': 10, 'small':9, 'footnote':8, 'script':7, 'tiny':5, 'heading':12}\n"
   ]
  },
  {
   "cell_type": "code",
   "execution_count": 43,
   "id": "2a2257a8-9bc8-4801-8bfc-d2cbd96bfe7f",
   "metadata": {},
   "outputs": [],
   "source": [
    "packages = \"\\n\".join( \n",
    "    [r\"\\usepackage{inputenc}\", \n",
    "     r\"\\usepackage[T1]{fontenc}\",\n",
    "     r\"\\usepackage{cmbright}\",\n",
    "     r'\\usepackage{{amsmath}}',\n",
    "     r'\\usepackage{{amssymb}}',\n",
    "     r'\\usepackage{{latexsym}}',\n",
    "    ])\n",
    "mpl.rcParams['text.usetex'] = True\n",
    "mpl.rcParams['text.latex.preamble'] = packages\n",
    "mpl.rc('font', family='serif', serif=\"Times New Roman\")\n",
    "mpl.rcParams['figure.dpi']=200\n",
    "mpl.rc(\"pgf\", texsystem = \"pdflatex\", preamble = packages)"
   ]
  },
  {
   "cell_type": "code",
   "execution_count": 44,
   "id": "e52b1005-3c1d-4338-b5ba-1aab88a3cfaf",
   "metadata": {},
   "outputs": [],
   "source": [
    "def bar(xy, width, height): # make partial so always create a new function\n",
    "    return mpatches.Rectangle(xy, width, height, ec = pcd['section'], fc=(pcd['section'], .4), lw=.5)"
   ]
  },
  {
   "cell_type": "code",
   "execution_count": 59,
   "id": "273f324a-da70-44fb-a7e9-81b1e9b7e128",
   "metadata": {},
   "outputs": [],
   "source": [
    "b1y1 = .75\n",
    "b2y2 = .075\n",
    "x1 = 0.025\n",
    "b1x1 = .75\n",
    "\n",
    "bw = .05\n",
    "gap = bw/2\n",
    "\n",
    "data = [2, 4, 6]\n",
    "\n",
    "# action(data) to viz, viz\n",
    "def scale(di):\n",
    "    return np.array(di)*.5"
   ]
  },
  {
   "cell_type": "code",
   "execution_count": 86,
   "id": "c06140d4-27d1-45ec-87e7-13e8e32dc295",
   "metadata": {},
   "outputs": [],
   "source": [
    "bar_transforms =  {\"identity\": {'function': lambda di, data: di*.01, 'symmetry':'HE'}, \n",
    "                   \"exponent\": {'function': lambda di, data: (di**3)*.001, 'symmetry':'H'}, \n",
    "                   \"inverse\" :{'function':lambda di, data: (1/di)*.1,'symmetry':'E'}}"
   ]
  },
  {
   "cell_type": "code",
   "execution_count": 87,
   "id": "1dbad4cd-67ab-4601-9cd3-697a1ce674d7",
   "metadata": {},
   "outputs": [],
   "source": [
    "# data to vis\n",
    "boxes_data = {bt : {di: {'xy': (b1x1 + (bw+gap)*i, b1y1), 'width': bw, 'height': btd['function'](di, data)} for i, di in enumerate(data)} for bt, btd in bar_transforms.items()}"
   ]
  },
  {
   "cell_type": "code",
   "execution_count": 88,
   "id": "6ac9271e-e905-4a3a-9245-a068525bab51",
   "metadata": {},
   "outputs": [],
   "source": [
    "boxes_max = {}\n",
    "boxes_scale = {}\n",
    "for bt, btd in bar_transforms.items():\n",
    "    boxes_scale[bt] = {'data':{}, 'vis':{}}\n",
    "    boxes_max[bt] = {'data':{}, 'vis':{}}\n",
    "    for i, (di, boxes) in enumerate(zip(data, boxes_data[bt].values())):\n",
    "        boxes_scale[bt]['data'][di] = {'xy': (b1x1 + (bw+gap)*i, b2y2), 'width':bw, 'height': btd['function'](scale(di), scale(data))}\n",
    "        boxes_scale[bt]['vis'][di] = {'xy': (b1x1 + (bw+gap)*i, b2y2), 'width':bw, 'height': scale(bar(**boxes_data[bt][di]).get_height())}\n",
    "        \n",
    "    boxes_max[bt]['data']['max'] = {'xy':(b1x1 + bw + gap, b2y2), 'width': bw, 'height': btd['function'](max(data), data)}\n",
    "    boxes_max[bt]['vis']['max'] =  {'xy':(b1x1 + bw + gap, b2y2), 'width': bw, 'height': max(bar(**ba).get_height() for ba in boxes_data[bt].values())}"
   ]
  },
  {
   "cell_type": "code",
   "execution_count": 89,
   "id": "cdd6c103-ebcf-4768-956b-d19fc4481b14",
   "metadata": {},
   "outputs": [
    {
     "data": {
      "text/plain": [
       "({'data': {'max': {'xy': (0.8250000000000001, 0.075),\n",
       "    'width': 0.05,\n",
       "    'height': 0.06}},\n",
       "  'vis': {'max': {'xy': (0.8250000000000001, 0.075),\n",
       "    'width': 0.05,\n",
       "    'height': 0.06}}},\n",
       " {'data': {2: {'xy': (0.75, 0.075), 'width': 0.05, 'height': 0.01},\n",
       "   4: {'xy': (0.825, 0.075), 'width': 0.05, 'height': 0.02},\n",
       "   6: {'xy': (0.9, 0.075), 'width': 0.05, 'height': 0.03}},\n",
       "  'vis': {2: {'xy': (0.75, 0.075), 'width': 0.05, 'height': 0.01},\n",
       "   4: {'xy': (0.825, 0.075), 'width': 0.05, 'height': 0.02},\n",
       "   6: {'xy': (0.9, 0.075), 'width': 0.05, 'height': 0.03}}})"
      ]
     },
     "execution_count": 89,
     "metadata": {},
     "output_type": "execute_result"
    }
   ],
   "source": [
    "boxes_max['identity'], boxes_scale['identity']"
   ]
  },
  {
   "cell_type": "code",
   "execution_count": 90,
   "id": "a4cb88bc-9520-40c1-95b7-1539951a66a5",
   "metadata": {},
   "outputs": [
    {
     "name": "stdout",
     "output_type": "stream",
     "text": [
      "identity, vis=[0.06], data=[0.06]\n",
      "identity, vis=[0.01, 0.02, 0.03], data=[0.01, 0.02, 0.03]\n",
      "exponent, vis=[0.216], data=[0.216]\n",
      "exponent, vis=[0.004, 0.032, 0.108], data=[0.001, 0.008, 0.027]\n",
      "inverse, vis=[0.05], data=[0.016666666666666666]\n",
      "inverse, vis=[0.025, 0.0125, 0.008333333333333333], data=[0.1, 0.05, 0.03333333333333333]\n"
     ]
    }
   ],
   "source": [
    "for name in bar_transforms:\n",
    "    for boxes_dict in [boxes_max[name], boxes_scale[name]]:\n",
    "        scale_v = [bar(**boxes_dict['vis'][key]).get_height() for key in boxes_dict['vis']]\n",
    "        scale_d = [bar(**boxes_dict['data'][key]).get_height() for key in boxes_dict['data']]\n",
    "        print(f\"{name}, vis={scale_v}, data={scale_d}\")"
   ]
  },
  {
   "cell_type": "code",
   "execution_count": 91,
   "id": "be4df66b-59a3-406e-8eb4-c7f8443bbb55",
   "metadata": {},
   "outputs": [
    {
     "data": {
      "text/plain": [
       "dict_keys(['total', 'fiber', 'base', 'section', 'artist', 'homset', 'action', 'monoid', 'sheaf', 'source', 'target', 'functor', 'nattran', 'set'])"
      ]
     },
     "execution_count": 91,
     "metadata": {},
     "output_type": "execute_result"
    }
   ],
   "source": [
    "pcd.keys()"
   ]
  },
  {
   "cell_type": "code",
   "execution_count": 92,
   "id": "aac23594-9c73-404a-9ebe-5ba4e6faf6fb",
   "metadata": {},
   "outputs": [],
   "source": [
    "def make_diagram(title, symmetry, action, action_label, boxes, boxes_func, savepath, action_label_orientation='v'):\n",
    "    \n",
    "    fig, axd = plt.subplot_mosaic([[name for name in bar_transforms]], figsize=(3.5, 1.25), layout='compressed')\n",
    "\n",
    "    space = (\"s\", fig.get_facecolor())\n",
    "    texts = [(\"Is\", \"k\"), space, (r\"$data \\mapsto \\Box$\", pcd['artist']), space, (title[0], 'k'), space, (title[1], pcd['fiber']), (\"?\", \"k\")]\n",
    "    \n",
    "    text = fig.text(.2, 0.98, texts[0][0], va = 'bottom', fontsize=fs['script'], color=texts[0][1])\n",
    "    for txt, clr in texts[1:]:\n",
    "        text = mtexts.Annotation(txt, xycoords=text, xy=(1, 0),  va = 'bottom', fontsize=fs['script'], color=clr)\n",
    "        fig.add_artist(text)\n",
    "    \n",
    "    for fname, fdict  in bar_transforms.items():\n",
    "        ax = axd[fname]\n",
    "    \n",
    "        boxes_data = []\n",
    "        for di in data:\n",
    "            boxes_data.append(box_data:=bar(**boxes[fname][di]))\n",
    "            ax.add_patch(box_data)\n",
    "\n",
    "        boxes_viz = []\n",
    "        for key in boxes_func[fname]['vis']:\n",
    "            ax.add_patch(box_viz:=bar(**boxes_func[fname]['vis'][key]))\n",
    "            box_viz.set_facecolor(box_data.get_facecolor()) #I think some alpha blending is messing up the inital color\n",
    "            boxes_viz.append(box_viz)\n",
    "      \n",
    "        if symmetry in fdict[\"symmetry\"]:\n",
    "            sym = \"YES\"\n",
    "            color = \"darkgreen\"\n",
    "            hdx = boxes_data[0]\n",
    "        else:\n",
    "            sym = \"NO\"\n",
    "            color = \"purple\"\n",
    "            for box_viz in boxes_viz:\n",
    "                box_viz.set_y(box_viz.get_y() + gap*6)\n",
    "            boxes_data_func = []\n",
    "            for key in boxes_func[fname]['data']:\n",
    "                ax.add_patch(box_data_func:=bar(**boxes_func[fname]['data'][key]))\n",
    "                #box_data_func.set_x(box_data_func.get_x()-gap*4.5)\n",
    "                #box_data_func.set_edgecolor(color)\n",
    "                boxes_data_func.append(box_data_func)\n",
    "                \n",
    "            \n",
    "        \n",
    "            #ax.text(b1x1+4*gap, b2y2, r\"$\\textbf{?}$\", ha='center', va='bottom', fontsize=fs['small'], color='.7', zorder=-6)\n",
    "            hdx = boxes_data_func[0]\n",
    "\n",
    "        \n",
    "        text = ax.text(.5, -.05, f\"{sym}\", transform=ax.transAxes, va='top', ha='center', color=color, fontsize=fs['tiny'])\n",
    "        #ax.annotate(f\"{sym}\", xycoords=text, xy=(1, 0), verticalalignment=\"bottom\", color=color, weight=\"bold\", fontsize=fs['tiny']) \n",
    "        ax.spines[:].set_color(color)\n",
    "        ax.set(xticks=[], yticks=[], xlim=(0,1), ylim=(0,1), aspect='equal')\n",
    "    \n",
    "        # data side\n",
    "        xy = ax.text(x1, b1y1, f\"{\",\".join([str(i) for i in data])}\", ha='left', va='bottom', fontsize=fs['tiny'], color=pcd['section'])\n",
    "        \n",
    "        ad = action(data)\n",
    "        text = f\"{ad}\" if isinstance(ad, int) else f\"{ad[0]:.0f},{ad[1]:.0f},{ad[2]:.0f}\"\n",
    "        \n",
    "        xley = ax.annotate(text, xy=(0,0), xytext=(.5, b2y2), textcoords=(xy, 'data'), ha='center', va='bottom', fontsize=fs['tiny'], color=pcd['section'])\n",
    "    \n",
    "       # arrows: annotate: tail, head, tail=text, xy=head\n",
    "        arrdd = ax.annotate(f\"\", (.475, 1), (.475,0), xycoords=(xy, xley) , textcoords= xy, arrowprops=dict(arrowstyle=\"->,widthA=.15,lengthA=0\", color=pcd['fiber'])) \n",
    "        arrbb = ax.annotate(f\"\", (.475, 1), (.475,0), xycoords = boxes_viz[int(len(boxes_viz)//2)], textcoords = boxes_data[1], arrowprops=dict(arrowstyle=\"->,widthA=.15, lengthA=0\", color=pcd['fiber'])) \n",
    "\n",
    "        for arrows in [arrdd, arrbb]:\n",
    "            if action_label_orientation == 'v':\n",
    "                andd = ax.annotate(action_label, xy=(0,0), xytext=(.25, .5), textcoords=arrows, fontsize=fs['tiny'], color=pcd['fiber'], ha='right', va='center', rotation=90)\n",
    "            else:\n",
    "                andd = ax.annotate(action_label, xy=(0,0), xytext=(.75, .5), textcoords=arrows, fontsize=fs['tiny'], color=pcd['fiber'], ha='left', va='center')\n",
    "        \n",
    "        for tail, head in [ (xy, (boxes_data[0], xy)), (xley, (hdx, xley), )]  :\n",
    "            a = ax.annotate(\"\", (0, .5), (1, .5), xycoords=head, textcoords=tail,  arrowprops=dict(arrowstyle=\"->,widthA=.15,lengthA=0\", color=pcd['artist']))\n",
    "            lab = fname\n",
    "            ax.annotate(lab, xy=(0,0), xytext =(.5, .85), textcoords=a, ha='center', va='bottom', color=pcd['artist'],  fontsize=fs['tiny'])\n",
    "        \n",
    "    \n",
    "    fig.savefig(savepath, bbox_inches='tight', dpi=200)"
   ]
  },
  {
   "cell_type": "code",
   "execution_count": 93,
   "id": "b720adcb-024f-4212-a2cb-22d41e8a3206",
   "metadata": {},
   "outputs": [
    {
     "data": {
      "image/png": "[encoded data removed]",
      "text/plain": [
       "<Figure size 700x250 with 3 Axes>"
      ]
     },
     "metadata": {},
     "output_type": "display_data"
    },
    {
     "data": {
      "image/png": "[encoded data removed]",
      "text/plain": [
       "<Figure size 700x250 with 3 Axes>"
      ]
     },
     "metadata": {},
     "output_type": "display_data"
    }
   ],
   "source": [
    "title = (\"homomorphic w.r.t.\", \"partial order\")\n",
    "symmetry = \"H\"\n",
    "savepath = paper_path/\"homomorphism.png\"\n",
    "boxes_func = boxes_max\n",
    "action = max\n",
    "action_label = r\"$\\texttt{max}$\"\n",
    "\n",
    "make_diagram(title, symmetry, action, action_label, boxes_data, boxes_func, savepath, action_label_orientation='v')\n",
    "\n",
    "title = (\"equivariant w.r.t.\", \"scaling\")\n",
    "symmetry = \"E\"\n",
    "savepath = paper_path/\"equivariant.png\"\n",
    "boxes_func = boxes_scale\n",
    "action =  scale\n",
    "action_label = r\"$\\times\\frac{1}{2}$\"\n",
    "\n",
    "make_diagram(title, symmetry, action, action_label, boxes_data, boxes_func, savepath, action_label_orientation ='h')\n"
   ]
  },
  {
   "cell_type": "code",
   "execution_count": null,
   "id": "f0599f14-dfb8-49a8-bf25-f546353f68d8",
   "metadata": {},
   "outputs": [],
   "source": []
  }
 ],
 "metadata": {
  "kernelspec": {
   "display_name": "Python 3 (ipykernel)",
   "language": "python",
   "name": "python3"
  },
  "language_info": {
   "codemirror_mode": {
    "name": "ipython",
    "version": 3
   },
   "file_extension": ".py",
   "mimetype": "text/x-python",
   "name": "python",
   "nbconvert_exporter": "python",
   "pygments_lexer": "ipython3",
   "version": "3.12.0"
  }
 },
 "nbformat": 4,
 "nbformat_minor": 5
}
