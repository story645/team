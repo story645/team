{
 "cells": [
  {
   "cell_type": "code",
   "execution_count": 1,
   "id": "aab39d76-7fd0-421a-89b4-43019b1bb1c6",
   "metadata": {},
   "outputs": [],
   "source": [
    "%matplotlib inline\n",
    "\n",
    "from pathlib import Path \n",
    "\n",
    "\n",
    "import numpy as np\n",
    "import pandas as pd\n",
    "\n",
    "import matplotlib as mpl\n",
    "import matplotlib.pyplot as plt\n",
    "import matplotlib.patches as mpatches\n",
    "import matplotlib.transforms as mtransforms\n",
    "import matplotlib.colors as mcolors\n",
    "import matplotlib.cm as mcm\n",
    "\n",
    "from mpl_toolkits.axisartist.axislines import AxesZero\n",
    "\n",
    "\n",
    "import papercolors as pc\n",
    "from papercolors import colordict as pcd\n",
    "\n",
    "paper_path = Path('../figures/tex/')\n",
    "\n",
    "fs={'normal': 10, 'small':9, 'footnote':8, 'script':7, 'tiny':5, 'heading':12}\n"
   ]
  },
  {
   "cell_type": "code",
   "execution_count": 2,
   "id": "2a2257a8-9bc8-4801-8bfc-d2cbd96bfe7f",
   "metadata": {},
   "outputs": [],
   "source": [
    "packages = \"\\n\".join( \n",
    "    [r\"\\usepackage{inputenc}\", \n",
    "     r\"\\usepackage[T1]{fontenc}\",\n",
    "     r\"\\usepackage{cmbright}\",\n",
    "     r'\\usepackage{{amsmath}}',\n",
    "     r'\\usepackage{{amssymb}}',\n",
    "     r'\\usepackage{{latexsym}}',\n",
    "    ])\n",
    "mpl.rcParams['text.usetex'] = True\n",
    "mpl.rcParams['text.latex.preamble'] = packages\n",
    "mpl.rc('font', family='serif', serif=\"Times New Roman\")\n",
    "mpl.rcParams['figure.dpi']=200\n",
    "mpl.rc(\"pgf\", texsystem = \"pdflatex\", preamble = packages)"
   ]
  },
  {
   "cell_type": "code",
   "execution_count": 4,
   "id": "24189a40-f281-4da3-9477-a2d8de98f4f1",
   "metadata": {},
   "outputs": [],
   "source": [
    "x = np.array([[1,0,0], [0, 1, 0], [0, 0, 1]])\n",
    "y = np.array([[0, -1, -1], [-1, 0, -1], [-1, -1, 0]])"
   ]
  },
  {
   "cell_type": "code",
   "execution_count": 5,
   "id": "d48e4a1f-272b-42cb-83b2-ee35412fe56d",
   "metadata": {},
   "outputs": [],
   "source": [
    "cmap = mcolors.ListedColormap(['orange', 'white', 'purple'])\n",
    "norm = mcolors.Normalize(vmin=-1, vmax=1)"
   ]
  },
  {
   "cell_type": "code",
   "execution_count": 6,
   "id": "936dbe87-4dc7-4c10-ab32-b1325b671127",
   "metadata": {},
   "outputs": [
    {
     "data": {
      "image/png": "[encoded data removed]",
      "text/plain": [
       "<Figure size 400x200 with 2 Axes>"
      ]
     },
     "metadata": {},
     "output_type": "display_data"
    }
   ],
   "source": [
    "fig, ax = plt.subplots(figsize=(2, 1))\n",
    "ax.set(xticks=[], yticks=[], xlim=(0,2), ylim=(0,1), aspect='equal')\n",
    "\n",
    "w = h = .25\n",
    "left = 0+w*.25\n",
    "right = 1-w\n",
    "top = 1-w*1.25\n",
    "bottom = 0+w*.25\n",
    "\n",
    "boxes = [('x', (left, top)),('y', (left+ w*.75, top)), ('x+y', (right, top)), ('fx', (left, bottom)),('fy', (left+ w*.75, bottom)) , ('fx+y', (right, bottom))]\n",
    "axd = {}\n",
    "for (d, (xi, yi)) in boxes:\n",
    "    axd[d] = ax.inset_axes([xi, yi, w, h])\n",
    "    axd[d].set(xticks=[], yticks=[], aspect='equal')\n",
    "    \n",
    "# (x,y), # (f(x), f(y)\n",
    "for axn, d in [('x', x), ('y', y)]:\n",
    "    axd[axn].imshow(d, cmap=cmap, norm=norm)\n",
    "    axd[axn].spines[:].set_edgecolor(pcd['section'])\n",
    "    axd[f\"f{axn}\"].imshow(d*-1, cmap=cmap, norm=norm)\n",
    "    axd[f\"f{axn}\"].spines[:].set_edgecolor(pcd['action'])\n",
    "\n",
    "for axn, d, ec in [('x+y', x+y, 'fiber'), ('fx+y', (x+y)*-1, 'section')]:\n",
    "    im = axd[axn].imshow(d, cmap=cmap, norm=norm)\n",
    "    axd[axn].spines[:].set_edgecolor(pcd[ec])\n",
    "\n",
    "# arrows: annotate: tail, head, tail=text, xy=head\n",
    "# f(x), f(y)\n",
    "for l in ['x', 'y', 'x+y']:\n",
    "    f = ax.annotate(\"\", (.5, 1), (.5,0), xycoords= axd[f'f{l}'], textcoords= axd[l], arrowprops=dict(arrowstyle=\"->,widthA=.15,lengthA=0\", color=pcd['action'])) \n",
    "    ax.annotate(f\"f({l})\", xytext=(.4, .55), xy=(0,0), textcoords=f, ha='right', va='center', fontsize=fs['tiny'], color=pcd['action'], rotation=0)\n",
    "\n",
    "for (s, t, lab) in [('y', 'x+y', 'x+y'), ('fy', 'fx+y', 'f(x)+f(y)')]:\n",
    "    f = ax.annotate(\"\", (0, .5), (1, .5), xycoords= axd[t], textcoords= axd[s], arrowprops=dict(arrowstyle=\"->,widthA=.15,lengthA=0\", color=pcd['fiber']))\n",
    "    ax.annotate(lab, xytext=(.5, 1), xy=(0,0), textcoords=f, ha='center', va='bottom', fontsize=fs['tiny'], color=pcd['fiber'], rotation=0)\n",
    "ax.spines[:].set_edgecolor('white')\n",
    "cb = fig.colorbar(mcm.ScalarMappable(norm=norm, cmap=cmap), ax=ax, fraction=.04, aspect=10,  spacing='uniform', drawedges=True)\n",
    "cb.set_ticks([-1+(2/6), 0, 1-(2/6)])\n",
    "cb.set_ticklabels([-1, 0, 1], fontsize=fs['tiny'], color=pcd['artist'],)\n",
    "cb.ax.spines[:].set_edgecolor(pcd['artist'])\n",
    "cb.ax.tick_params(length=0, color=pcd['artist'])"
   ]
  },
  {
   "cell_type": "code",
   "execution_count": 3,
   "id": "e52b1005-3c1d-4338-b5ba-1aab88a3cfaf",
   "metadata": {},
   "outputs": [],
   "source": [
    "def bar(x0y0, width, height):\n",
    "    return mpatches.Rectangle(x0y0, width, height, ec = pcd['section'], fc=(pcd['section'], .4), lw=.5)"
   ]
  },
  {
   "cell_type": "code",
   "execution_count": 4,
   "id": "19a0d058-277b-45b0-b820-fb1ecf683446",
   "metadata": {},
   "outputs": [],
   "source": [
    "b1y1 = .825\n",
    "b2y2 = .05\n",
    "x1 = 0.02\n",
    "b1x1 = .775\n",
    "\n",
    "bw = .05\n",
    "gap = bw/2\n",
    "\n",
    "\n",
    "data = [2, 4, 6]\n",
    "\n",
    "scale_height = lambda x : x"
   ]
  },
  {
   "cell_type": "code",
   "execution_count": 39,
   "id": "aac23594-9c73-404a-9ebe-5ba4e6faf6fb",
   "metadata": {},
   "outputs": [
    {
     "data": {
      "text/plain": [
       "Text(0.5, -0.05, 'wbar is not')"
      ]
     },
     "execution_count": 39,
     "metadata": {},
     "output_type": "execute_result"
    },
    {
     "data": {
      "image/png": "[encoded data removed]",
      "text/plain": [
       "<Figure size 400x250 with 2 Axes>"
      ]
     },
     "metadata": {},
     "output_type": "display_data"
    }
   ],
   "source": [
    "# must regenerate object \n",
    "boxes = {'correct':  {di: bar((b1x1 + (bw+gap)*i, b1y1), bw, di*.025) for i, di in enumerate(data)}, \n",
    "         'incorrect': {di: bar((b1x1 + (bw+gap)*i, b1y1), bw, dx*.025) for i, (di, dx) in enumerate(zip(data, np.roll(data, 1)))}}\n",
    "\n",
    "max_boxes = {'correct':  bar((b1x1 + (bw+gap), b2y2), bw, max(data)*.025),\n",
    "             'incorrect': bar((b1x1 + (bw+gap), b2y2 + 5*gap), bw, max(data)*.025)}\n",
    "\n",
    "incorrect_map = bar((b1x1-gap, b2y2), boxes['incorrect'][max(data)].get_width(), boxes['incorrect'][max(data)].get_height())  \n",
    "\n",
    "\n",
    "fig, axd = plt.subplot_mosaic([['correct', 'incorrect']], figsize=(2, 1.25), layout='compressed')\n",
    "\n",
    "for name, ax in axd.items():\n",
    "    ax.set(xticks=[], yticks=[], xlim=(0,1), ylim=(0,1), aspect='equal')\n",
    "    \n",
    "\n",
    "    xy = ax.text(x1, b1y1, f\"{\",\".join([str(i) for i in data])}\", ha='left', va='bottom', fontsize=fs['tiny'], color=pcd['section'])\n",
    "    xley = ax.annotate(f\"{max(data)}\", xy=(0,0), xytext=(.5, b2y2), textcoords=(xy, 'data'), ha='center', va='bottom', fontsize=fs['tiny'], color=pcd['section'])\n",
    "    \n",
    "    # arrows: annotate: tail, head, tail=text, xy=head\n",
    "    \n",
    "    f1 = ax.annotate(f\"\", (.475, 1), (.475,0), xycoords=(xy, xley) , textcoords= xy, arrowprops=dict(arrowstyle=\"->,widthA=.15,lengthA=0\", color=pcd['fiber'])) \n",
    "    ml = ax.annotate(r\"$\\texttt{max_num}$\", xy=(0,0), xytext=(.25, .5), textcoords=f1, fontsize=fs['tiny'], color=pcd['fiber'], ha='right', va='center', rotation=90)\n",
    "    \n",
    "\n",
    "    for di in data:\n",
    "        ax.add_patch(boxes[name][di])\n",
    "\n",
    "\n",
    "    f1 = ax.annotate(f\"\", (.475, 1), (.475,0), xycoords= max_boxes[name], textcoords = boxes[name][4], arrowprops=dict(arrowstyle=\"->,widthA=.15, lengthA=0\", color=pcd['fiber'])) \n",
    "    ml = ax.annotate(r\"$\\texttt{max_height}$\", xy=(0,0), xytext=(.25, .5), textcoords=f1, fontsize=fs['tiny'], color=pcd['fiber'], ha='right', va='center', rotation=90)\n",
    "    \n",
    "    hdx = ax.add_patch(max_boxes[name])\n",
    "    \n",
    "    if name == 'incorrect':\n",
    "        b = ax.add_patch(incorrect_map)\n",
    "        hdx = b\n",
    "        ax.text(b1x1+4*gap, b2y2-.02, r\"$\\textbf{?}$\", ha='center', va='bottom', fontsize=fs['footnote'])\n",
    "        \n",
    "    \n",
    "    for tail, head in [ (xy, (boxes[name][2], xy)), (xley, (hdx, xley), )]  :\n",
    "        a = ax.annotate(\"\", (0, .5), (1, .5), xycoords=head, textcoords=tail,  arrowprops=dict(arrowstyle=\"->,widthA=.15,lengthA=0\", color=pcd['artist']))\n",
    "        lab = r\"$\\texttt{bar}_: x \\mapsto \\Box$\" if name == 'correct' else r\"$\\texttt{wbar}: x \\mapsto \\Box$\"\n",
    "        ax.annotate(lab, xy=(0,0), xytext =(.5, .85), textcoords=a, ha='center', va='bottom', color=pcd['artist'],  fontsize=fs['tiny'])\n",
    "\n",
    "axd['incorrect'].spines[:].set_color('darkred')\n",
    "axd['correct'].spines[:].set_color('darkgreen')\n",
    "fig.suptitle(\"Homomorphic w.r.t. partial order?\", fontsize=fs['script'], color=pcd['fiber'])\n",
    "axd['correct'].text(.5, -.05, \"bar is\", transform=axd['correct'].transAxes, va='top', ha='center', color='darkgreen', fontsize=fs['tiny'],)\n",
    "axd['incorrect'].text(.5, -.05, \"wbar is not\", transform=axd['incorrect'].transAxes, va='top', ha='center', fontsize=fs['tiny'], color='darkred')"
   ]
  },
  {
   "cell_type": "code",
   "execution_count": 40,
   "id": "75a16862-b529-4b3b-930a-10ccff7c4030",
   "metadata": {},
   "outputs": [
    {
     "data": {
      "text/plain": [
       "Text(0.5, -0.05, 'sbar is not')"
      ]
     },
     "execution_count": 40,
     "metadata": {},
     "output_type": "execute_result"
    },
    {
     "data": {
      "image/png": "[encoded data removed]",
      "text/plain": [
       "<Figure size 400x250 with 2 Axes>"
      ]
     },
     "metadata": {},
     "output_type": "display_data"
    }
   ],
   "source": [
    "# must regenerate object \n",
    "\n",
    "b1x1 = .75\n",
    "\n",
    "def barh_(di): \n",
    "    return di**2\n",
    "\n",
    "sd = [di*.5 for di in data]\n",
    "boxes = {'correct':  {di: bar((b1x1 + (bw+gap)*i, b1y1), bw, di*.025) for i, di in enumerate(data)}, \n",
    "         'incorrect': {di: bar((b1x1 + (bw+gap)*i, b1y1), bw, barh_(di)*.004) for i, di in enumerate(data)},\n",
    "         'invariant': {di: bar((b1x1 + (bw+gap)*i, b1y1), bw, dx*.025) for i, (di, dx) in enumerate(zip(data, np.roll(data, 1)))}}\n",
    "\n",
    "\n",
    "boxes_scale = {k : { di: bar((b.get_xy()[0], b2y2 + (gap*6 if k=='incorrect' else 0)), b.get_width(), b.get_height()*.5) for di, b in v.items()} for k, v in boxes.items()} \n",
    "\n",
    "boxes_incorrect ={di: bar((b1x1 + (bw+gap)*i-gap*9, b2y2), bw, barh_(di)*.004) for i, di in enumerate(sd)}\n",
    "\n",
    "fig, axd = plt.subplot_mosaic([['correct', 'incorrect']], figsize=(2, 1.25), layout='compressed')\n",
    "\n",
    "for name, ax in axd.items():\n",
    "    ax.set(xticks=[], yticks=[], xlim=(0,1), ylim=(0,1), aspect='equal')\n",
    "    \n",
    "\n",
    "    xy = ax.text(x1, b1y1, f\"{\",\".join([str(i) for i in data])}\", ha='left', va='bottom', fontsize=fs['tiny'], color=pcd['section'])\n",
    "    xley = ax.annotate(\"{:.0f},{:.0f},{:.0f}\".format(*sd), xy=(0,0), xytext=(.5, b2y2), textcoords=(xy, 'data'), ha='center', va='bottom', fontsize=fs['tiny'], color=pcd['section'])\n",
    "    \n",
    "    # arrows: annotate: tail, head, tail=text, xy=head\n",
    "    \n",
    "    f1 = ax.annotate(f\"\", (.475, 1), (.475,0), xycoords=(xy, xley) , textcoords= xy, arrowprops=dict(arrowstyle=\"->,widthA=.15,lengthA=0\", color=pcd['fiber'])) \n",
    "    ml = ax.annotate(r\"$\\times\\frac{1}{2}$\", xy=(0,0), xytext=(.75, .5), textcoords=f1, fontsize=fs['tiny'], color=pcd['fiber'], ha='left', va='center')\n",
    "    \n",
    "\n",
    "    for di in data:\n",
    "        ax.add_patch(boxes[name][di])\n",
    "        ax.add_patch(boxes_scale[name][di])\n",
    "\n",
    "\n",
    "    f1 = ax.annotate(f\"\", (.475, 1), (.475,0), xycoords= boxes_scale[name][4], textcoords = boxes[name][4], arrowprops=dict(arrowstyle=\"->,widthA=.15,lengthA=0\", color=pcd['fiber'])) \n",
    "    ml = ax.annotate(r\"$\\times\\frac{1}{2}$\", xy=(0,0), xytext=(.75, .5), textcoords=f1, fontsize=fs['tiny'], color=pcd['fiber'], ha='left', va='center')\n",
    "\n",
    "    \n",
    "    hdx = boxes_scale[name][2]\n",
    "    \n",
    "    if name == 'incorrect':\n",
    "        for d, b in boxes_incorrect.items():\n",
    "            ax.add_patch(b)\n",
    "        hdx = boxes_incorrect[1]\n",
    "        ax.text(b1x1+4*gap, b2y2-.02, r\"$\\textbf{?}$\", ha='center', va='bottom', fontsize=fs['footnote'])\n",
    "    \n",
    "    for i,(tail, head) in enumerate([(xy, (boxes[name][2], xy)), (xley, (hdx, xley), )]):\n",
    "        a = ax.annotate(\"\", (0, .5), (1, .5), xycoords=head, textcoords=tail,  arrowprops=dict(arrowstyle=\"->,widthA=.15,lengthA=0\", color=pcd['artist']))\n",
    "        match name:\n",
    "            case 'correct':\n",
    "                lab = r\"$\\texttt{bar}_: x \\mapsto \\Box$\"\n",
    "            case 'invariant':\n",
    "                lab = r\"$\\texttt{wbar}: x \\mapsto \\Box$\"\n",
    "            case 'incorrect':\n",
    "                lab = r\"$\\texttt{sbar}: x \\mapsto \\Box$\" if i == 0 else r\"$\\texttt{sbar}$\"\n",
    "        ax.annotate(lab, xy=(0,0), xytext =(.5, .85), textcoords=a, ha='center', va='bottom', color=pcd['artist'],  fontsize=fs['tiny'])\n",
    "\n",
    "axd['correct'].spines[:].set_color('darkgreen')\n",
    "axd['incorrect'].spines[:].set_color('darkred')\n",
    "#axd['invariant'].spines[:].set_color('orange')\n",
    "\n",
    "fig.suptitle(\"Equivariant w.r.t. scaling?\", fontsize=fs['script'], color=pcd['fiber'])\n",
    "axd['correct'].text(.5, -.05, \"bar is\", transform=axd['correct'].transAxes, va='top', ha='center', color='darkgreen', fontsize=fs['tiny'],)\n",
    "axd['incorrect'].text(.5, -.05, \"sbar is not\", transform=axd['incorrect'].transAxes, va='top', ha='center', fontsize=fs['tiny'], color='darkred')\n",
    "#axd['invariant'].text(.5, -.05, \"wbar is\", transform=axd['invariant'].transAxes, va='top', ha='center', fontsize=fs['tiny'], color='orange')\n"
   ]
  },
  {
   "cell_type": "code",
   "execution_count": 62,
   "id": "39ba2e9a-59ca-4b60-9e20-e0f1a534b3aa",
   "metadata": {},
   "outputs": [
    {
     "data": {
      "text/plain": [
       "0.05"
      ]
     },
     "execution_count": 62,
     "metadata": {},
     "output_type": "execute_result"
    }
   ],
   "source": [
    "boxes['correct'][4].get_width()"
   ]
  },
  {
   "cell_type": "code",
   "execution_count": 70,
   "id": "43298589-b019-44dd-9d10-2d9ae8523cc9",
   "metadata": {},
   "outputs": [
    {
     "data": {
      "text/plain": [
       "{'correct': {2: <matplotlib.patches.Rectangle at 0x1d13b2f65a0>,\n",
       "  4: <matplotlib.patches.Rectangle at 0x1d13b2f4080>,\n",
       "  6: <matplotlib.patches.Rectangle at 0x1d13b3101d0>},\n",
       " 'incorrect': {2: <matplotlib.patches.Rectangle at 0x1d13b270c50>,\n",
       "  4: <matplotlib.patches.Rectangle at 0x1d13b272450>,\n",
       "  6: <matplotlib.patches.Rectangle at 0x1d13b272690>}}"
      ]
     },
     "execution_count": 70,
     "metadata": {},
     "output_type": "execute_result"
    }
   ],
   "source": [
    "boxes_scale"
   ]
  },
  {
   "cell_type": "code",
   "execution_count": 34,
   "id": "d0d815f3-6fe6-467b-87f5-f6fd1754c8a6",
   "metadata": {},
   "outputs": [
    {
     "data": {
      "text/plain": [
       "\u001b[1;31mSignature:\u001b[0m\n",
       "\u001b[0mplt\u001b[0m\u001b[1;33m.\u001b[0m\u001b[0mtext\u001b[0m\u001b[1;33m(\u001b[0m\u001b[1;33m\n",
       "\u001b[0m    \u001b[0mx\u001b[0m\u001b[1;33m:\u001b[0m \u001b[1;34m'float'\u001b[0m\u001b[1;33m,\u001b[0m\u001b[1;33m\n",
       "\u001b[0m    \u001b[0my\u001b[0m\u001b[1;33m:\u001b[0m \u001b[1;34m'float'\u001b[0m\u001b[1;33m,\u001b[0m\u001b[1;33m\n",
       "\u001b[0m    \u001b[0ms\u001b[0m\u001b[1;33m:\u001b[0m \u001b[1;34m'str'\u001b[0m\u001b[1;33m,\u001b[0m\u001b[1;33m\n",
       "\u001b[0m    \u001b[0mfontdict\u001b[0m\u001b[1;33m:\u001b[0m \u001b[1;34m'dict[str, Any] | None'\u001b[0m \u001b[1;33m=\u001b[0m \u001b[1;32mNone\u001b[0m\u001b[1;33m,\u001b[0m\u001b[1;33m\n",
       "\u001b[0m    \u001b[1;33m**\u001b[0m\u001b[0mkwargs\u001b[0m\u001b[1;33m,\u001b[0m\u001b[1;33m\n",
       "\u001b[0m\u001b[1;33m)\u001b[0m \u001b[1;33m->\u001b[0m \u001b[1;34m'Text'\u001b[0m\u001b[1;33m\u001b[0m\u001b[1;33m\u001b[0m\u001b[0m\n",
       "\u001b[1;31mDocstring:\u001b[0m\n",
       "Add text to the Axes.\n",
       "\n",
       "Add the text *s* to the Axes at location *x*, *y* in data coordinates.\n",
       "\n",
       "Parameters\n",
       "----------\n",
       "x, y : float\n",
       "    The position to place the text. By default, this is in data\n",
       "    coordinates. The coordinate system can be changed using the\n",
       "    *transform* parameter.\n",
       "\n",
       "s : str\n",
       "    The text.\n",
       "\n",
       "fontdict : dict, default: None\n",
       "\n",
       "    .. admonition:: Discouraged\n",
       "\n",
       "       The use of *fontdict* is discouraged. Parameters should be passed as\n",
       "       individual keyword arguments or using dictionary-unpacking\n",
       "       ``text(..., **fontdict)``.\n",
       "\n",
       "    A dictionary to override the default text properties. If fontdict\n",
       "    is None, the defaults are determined by `.rcParams`.\n",
       "\n",
       "Returns\n",
       "-------\n",
       "`.Text`\n",
       "    The created `.Text` instance.\n",
       "\n",
       "Other Parameters\n",
       "----------------\n",
       "**kwargs : `~matplotlib.text.Text` properties.\n",
       "    Other miscellaneous text parameters.\n",
       "\n",
       "    Properties:\n",
       "    agg_filter: a filter function, which takes a (m, n, 3) float array and a dpi value, and returns a (m, n, 3) array and two offsets from the bottom left corner of the image\n",
       "    alpha: scalar or None\n",
       "    animated: bool\n",
       "    antialiased: bool\n",
       "    backgroundcolor: color\n",
       "    bbox: dict with properties for `.patches.FancyBboxPatch`\n",
       "    clip_box: unknown\n",
       "    clip_on: unknown\n",
       "    clip_path: unknown\n",
       "    color or c: color\n",
       "    figure: `~matplotlib.figure.Figure`\n",
       "    fontfamily or family or fontname: {FONTNAME, 'serif', 'sans-serif', 'cursive', 'fantasy', 'monospace'}\n",
       "    fontproperties or font or font_properties: `.font_manager.FontProperties` or `str` or `pathlib.Path`\n",
       "    fontsize or size: float or {'xx-small', 'x-small', 'small', 'medium', 'large', 'x-large', 'xx-large'}\n",
       "    fontstretch or stretch: {a numeric value in range 0-1000, 'ultra-condensed', 'extra-condensed', 'condensed', 'semi-condensed', 'normal', 'semi-expanded', 'expanded', 'extra-expanded', 'ultra-expanded'}\n",
       "    fontstyle or style: {'normal', 'italic', 'oblique'}\n",
       "    fontvariant or variant: {'normal', 'small-caps'}\n",
       "    fontweight or weight: {a numeric value in range 0-1000, 'ultralight', 'light', 'normal', 'regular', 'book', 'medium', 'roman', 'semibold', 'demibold', 'demi', 'bold', 'heavy', 'extra bold', 'black'}\n",
       "    gid: str\n",
       "    horizontalalignment or ha: {'left', 'center', 'right'}\n",
       "    in_layout: bool\n",
       "    label: object\n",
       "    linespacing: float (multiple of font size)\n",
       "    math_fontfamily: str\n",
       "    mouseover: bool\n",
       "    multialignment or ma: {'left', 'right', 'center'}\n",
       "    parse_math: bool\n",
       "    path_effects: list of `.AbstractPathEffect`\n",
       "    picker: None or bool or float or callable\n",
       "    position: (float, float)\n",
       "    rasterized: bool\n",
       "    rotation: float or {'vertical', 'horizontal'}\n",
       "    rotation_mode: {None, 'default', 'anchor'}\n",
       "    sketch_params: (scale: float, length: float, randomness: float)\n",
       "    snap: bool or None\n",
       "    text: object\n",
       "    transform: `~matplotlib.transforms.Transform`\n",
       "    transform_rotates_text: bool\n",
       "    url: str\n",
       "    usetex: bool or None\n",
       "    verticalalignment or va: {'bottom', 'baseline', 'center', 'center_baseline', 'top'}\n",
       "    visible: bool\n",
       "    wrap: bool\n",
       "    x: float\n",
       "    y: float\n",
       "    zorder: float\n",
       "\n",
       "Examples\n",
       "--------\n",
       "Individual keyword arguments can be used to override any given\n",
       "parameter::\n",
       "\n",
       "    >>> text(x, y, s, fontsize=12)\n",
       "\n",
       "The default transform specifies that text is in data coords,\n",
       "alternatively, you can specify text in axis coords ((0, 0) is\n",
       "lower-left and (1, 1) is upper-right).  The example below places\n",
       "text in the center of the Axes::\n",
       "\n",
       "    >>> text(0.5, 0.5, 'matplotlib', horizontalalignment='center',\n",
       "    ...      verticalalignment='center', transform=ax.transAxes)\n",
       "\n",
       "You can put a rectangular box around the text instance (e.g., to\n",
       "set a background color) by using the keyword *bbox*.  *bbox* is\n",
       "a dictionary of `~matplotlib.patches.Rectangle`\n",
       "properties.  For example::\n",
       "\n",
       "    >>> text(x, y, s, bbox=dict(facecolor='red', alpha=0.5))\n",
       "\u001b[1;31mFile:\u001b[0m      c:\\users\\story\\miniconda3\\envs\\paper\\lib\\site-packages\\matplotlib\\pyplot.py\n",
       "\u001b[1;31mType:\u001b[0m      function"
      ]
     },
     "metadata": {},
     "output_type": "display_data"
    }
   ],
   "source": [
    "plt.text?"
   ]
  },
  {
   "cell_type": "code",
   "execution_count": null,
   "id": "684815bf-45a0-4c32-b29a-07502fbff145",
   "metadata": {},
   "outputs": [],
   "source": []
  }
 ],
 "metadata": {
  "kernelspec": {
   "display_name": "Python 3 (ipykernel)",
   "language": "python",
   "name": "python3"
  },
  "language_info": {
   "codemirror_mode": {
    "name": "ipython",
    "version": 3
   },
   "file_extension": ".py",
   "mimetype": "text/x-python",
   "name": "python",
   "nbconvert_exporter": "python",
   "pygments_lexer": "ipython3",
   "version": "3.12.0"
  }
 },
 "nbformat": 4,
 "nbformat_minor": 5
}
