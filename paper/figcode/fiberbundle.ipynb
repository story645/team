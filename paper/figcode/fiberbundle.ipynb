{
 "cells": [
  {
   "cell_type": "code",
   "execution_count": 1,
   "id": "fdb7108b-b196-49a9-9963-47d6c1ac0784",
   "metadata": {},
   "outputs": [],
   "source": [
    "%matplotlib inline"
   ]
  },
  {
   "cell_type": "code",
   "execution_count": 178,
   "id": "e350b09a-4538-4406-8d03-8ef7511400ea",
   "metadata": {},
   "outputs": [],
   "source": [
    "import itertools \n",
    "from pathlib import Path\n",
    "\n",
    "import numpy as np\n",
    "\n",
    "import matplotlib.pyplot as plt\n",
    "import matplotlib.tri as mtri\n",
    "import matplotlib.patches as mpatches\n",
    "from mpl_toolkits.mplot3d import proj3d\n",
    "import mpl_toolkits.mplot3d.art3d as art3d\n",
    "\n",
    "import highlight_text as ht\n",
    "\n",
    "import intro_plots as ip\n",
    "from papercolors import colordict as pcd\n",
    "\n",
    "paper_path = Path('../figures/')\n"
   ]
  },
  {
   "cell_type": "code",
   "execution_count": 207,
   "id": "167b57f1-365a-4c8d-ac49-2b198db990fd",
   "metadata": {},
   "outputs": [],
   "source": [
    "# https://github.com/matplotlib/matplotlib/issues/21688#issuecomment-974912574\n",
    "\n",
    "class FancyArrowPatch3D(mpatches.FancyArrowPatch):\n",
    "    def __init__(self, posA, posB, *args, **kwargs):\n",
    "        mpatches.FancyArrowPatch.__init__(self, (0, 0), (0, 0), *args, **kwargs)\n",
    "        self._verts3d = list(zip(posA, posB))\n",
    "        \n",
    "    def do_3d_projection(self, renderer=None):\n",
    "        xs3d,  ys3d , zs3d, = self._verts3d\n",
    "        xs, ys, zs = proj3d.proj_transform(xs3d, ys3d, zs3d, self.axes.M)\n",
    "        self.set_positions((xs[0],ys[0]),(xs[1],ys[1]))\n",
    "\n",
    "        return np.min(zs)\n",
    "        "
   ]
  },
  {
   "cell_type": "code",
   "execution_count": 284,
   "id": "af4d3eb2-1f8f-459b-8572-114454671c39",
   "metadata": {},
   "outputs": [
    {
     "data": {
      "image/png": "[encoded data removed]",
      "text/plain": [
       "<Figure size 720x720 with 1 Axes>"
      ]
     },
     "metadata": {
      "needs_background": "light"
     },
     "output_type": "display_data"
    }
   ],
   "source": [
    "\n",
    "fig = plt.figure(figsize=(10,10))\n",
    "\n",
    "# Make a mesh in the space of parameterisation variables u and v\n",
    "u = np.linspace(0, 2.0 * np.pi, endpoint=True, num=50)\n",
    "v = np.linspace(-0.5, 0.5, endpoint=True, num=10)\n",
    "u, v = np.meshgrid(u, v)\n",
    "u, v = u.flatten(), v.flatten()\n",
    "\n",
    "# This is the Mobius mapping, taking a u, v pair and returning an x, y, z\n",
    "# triple\n",
    "x = (1 + 0.5 * v * np.cos(u / 2.0)) * np.cos(u)\n",
    "y = (1 + 0.5 * v * np.cos(u / 2.0)) * np.sin(u)\n",
    "z = 0.5 * v * np.sin(u / 2.0)\n",
    "\n",
    "# Triangulate parameter space to determine the triangles\n",
    "tri = mtri.Triangulation(u, v)\n",
    "\n",
    "# Plot the surface.  The triangles in parameter space determine which x, y, z\n",
    "# points are connected by an edge.\n",
    "ax = fig.add_subplot(1, 2, 1, projection='3d')\n",
    "ax.plot_trisurf(x, y, z, triangles=tri.triangles, color=pcd['total'], edgecolor=None, alpha=.25)\n",
    "ax.text3D(0,-.65 , .65, \"E\", color=pcd['total'])\n",
    "\n",
    "# z is up\n",
    "# x is right\n",
    "# y is left\n",
    "zb = -1.5\n",
    "\n",
    "f1 ={'ind':15, 'zoff':.5, 'fiber':r\"$F_{1} = [-1, 1]$\", 'section':r\"$sin(k_{1})$\"}\n",
    "f2 ={'ind':43, 'zoff':.35, 'fiber':r\"$F_{2} = [1, -1]$\", 'section':r\"$sin(k_{-1})$\"}\n",
    "     \n",
    "\n",
    "for fd in [f1, f2]:\n",
    "    fx = x[fd['ind']]\n",
    "    fy = y[fd['ind']]\n",
    "    fz = z[fd['ind']]\n",
    "    ax.plot([fx, fx], [fy, fy], [fz, fz+fd['zoff']], color=pcd['fiber'])\n",
    "    ax.text3D(fx, fy+.2, fz+fd['zoff'], fd['fiber'], va='bottom', ha='center', color=pcd['fiber'])\n",
    "\n",
    "    fp = FancyArrowPatch3D((fx, fy, fz), (fx, fy, zb+.05),  arrowstyle='->', \n",
    "                                    mutation_scale=20, color='gray')\n",
    "    ax.add_artist(fp)\n",
    "\n",
    "   \n",
    "    ty =  f1z + .25         \n",
    "    ax.scatter(fx, fy, ty, color=pcd['section'])\n",
    "    ft = FancyArrowPatch3D((fx, fy, zb+.1), (fx, fy, ty),  arrowstyle='->', \n",
    "                            connectionstyle='arc3,rad=.35', color=pcd['section'], \n",
    "                            mutation_scale=20)\n",
    "    ax.add_patch(ft)\n",
    "\n",
    "    mid = zb + (fz-zb)/2\n",
    "    ax.text3D(fx, fy-.05, mid, r\"$\\pi$\", color=\"gray\", ha='right')\n",
    "    ax.text3D(fx+.2, fy + .2, mid, r\"$sin($\" + f'{fx:.2f}' + r\"$)$\", color=pcd['section'], ha='left')\n",
    "    \n",
    "\n",
    "xo, yo = (0, 0)\n",
    "width = .7\n",
    "height =.1\n",
    "t = np.linspace(0, 2*np.pi, 500)\n",
    "ex =  np.cos(t)\n",
    "ey = np.sin(t)\n",
    "ax.plot(ex, ey, zb,  color=pcd['base'], lw=2)\n",
    "\n",
    "\n",
    "ax.set_proj_type('ortho')\n",
    "ax.view_init(15, -20)\n",
    "\n",
    "ax.set_zlim(-1, 1)\n",
    "\n",
    "\n",
    "ax.axis('off')\n",
    "\n",
    "fig.savefig(paper_path/\"fbtau\", bbox_inches='tight', dpi=200)"
   ]
  },
  {
   "cell_type": "code",
   "execution_count": 230,
   "id": "3224a94a-d37d-4c8d-9ea0-a12f46e52b15",
   "metadata": {},
   "outputs": [
    {
     "data": {
      "text/plain": [
       "1.0687527643803132"
      ]
     },
     "execution_count": 230,
     "metadata": {},
     "output_type": "execute_result"
    }
   ],
   "source": [
    "ty"
   ]
  },
  {
   "cell_type": "code",
   "execution_count": null,
   "id": "06fa2ae1-a2e5-4ad2-8d08-ad72c04dfb5d",
   "metadata": {},
   "outputs": [],
   "source": []
  },
  {
   "cell_type": "code",
   "execution_count": 229,
   "id": "d241dd0a-1f8f-47e0-a4d3-34130156847c",
   "metadata": {},
   "outputs": [
    {
     "data": {
      "text/plain": [
       "array([ 0.75      ,  0.74435195,  0.72745652,  0.69946085,  0.66061318,\n",
       "        0.61126707,  0.55188684,  0.48305358,  0.40547128,  0.31997232,\n",
       "        0.22752152,  0.12921822,  0.02629552, -0.07988393, -0.18783605,\n",
       "       -0.29596778, -0.40259419, -0.50596019, -0.60426684, -0.69570175,\n",
       "       -0.77847331, -0.85084776, -0.91118845, -0.95799609, -0.98994896,\n",
       "       -1.00594182, -1.00512223, -0.98692305, -0.95108998, -0.8977029 ,\n",
       "       -0.82719016, -0.74033494, -0.63827313, -0.52248239, -0.39476233,\n",
       "       -0.25720582, -0.11216212,  0.03780764,  0.18998157,  0.34153366,\n",
       "        0.48959437,  0.63131385,  0.76392603,  0.88481186,  0.99156017,\n",
       "        1.08202423,  1.15437267,  1.20713321,  1.23922808,  1.25      ,\n",
       "        0.80555556,  0.79933818,  0.78075393,  0.75000661,  0.70743663,\n",
       "        0.65352186,  0.58887851,  0.51426163,  0.4305649 ,  0.33881921,\n",
       "        0.24018953,  0.1359697 ,  0.02757464, -0.0834704 , -0.1955438 ,\n",
       "       -0.30694495, -0.4159151 , -0.52066163, -0.61938552, -0.71031158,\n",
       "       -0.79172104, -0.86198578, -0.9196034 , -0.96323232, -0.99172595,\n",
       "       -1.00416484, -0.99988599, -0.97850809, -0.93995195, -0.88445517,\n",
       "       -0.81258034, -0.72521626, -0.62357169, -0.50916148, -0.38378516,\n",
       "       -0.24949807, -0.10857565,  0.03652851,  0.18323009,  0.32886564,\n",
       "        0.47074747,  0.60622023,  0.73271798,  0.84782019,  0.94930538,\n",
       "        1.03520078,  1.10382691,  1.1538358 ,  1.18424185,  1.19444444,\n",
       "        0.86111111,  0.85432442,  0.83405134,  0.80055236,  0.75426008,\n",
       "        0.69577665,  0.62587018,  0.54546968,  0.45565852,  0.35766611,\n",
       "        0.25285755,  0.14272119,  0.02885377, -0.08705686, -0.20325155,\n",
       "       -0.31792212, -0.42923601, -0.53536307, -0.6345042 , -0.7249214 ,\n",
       "       -0.80496877, -0.87312381, -0.92801836, -0.96846856, -0.99350293,\n",
       "       -1.00238785, -0.99464975, -0.97009314, -0.92881393, -0.87120744,\n",
       "       -0.79797052, -0.71009758, -0.60887025, -0.49584057, -0.37280799,\n",
       "       -0.24179031, -0.10498919,  0.03524939,  0.1764786 ,  0.31619763,\n",
       "        0.45190058,  0.58112662,  0.70150993,  0.81082852,  0.90705059,\n",
       "        0.98837733,  1.05328115,  1.10053839,  1.12925561,  1.13888889,\n",
       "        0.91666667,  0.90931066,  0.88734875,  0.85109812,  0.80108353,\n",
       "        0.73803144,  0.66286185,  0.57667773,  0.48075214,  0.376513  ,\n",
       "        0.26552556,  0.14947267,  0.03013289, -0.09064333, -0.21095931,\n",
       "       -0.3288993 , -0.44255692, -0.5500645 , -0.64962287, -0.73953122,\n",
       "       -0.81821651, -0.88426183, -0.93643331, -0.9737048 , -0.99527992,\n",
       "       -1.00061087, -0.98941351, -0.96167818, -0.9176759 , -0.8579597 ,\n",
       "       -0.78336069, -0.69497891, -0.59416882, -0.48251966, -0.36183081,\n",
       "       -0.23408256, -0.10140272,  0.03397026,  0.16972712,  0.30352961,\n",
       "        0.43305369,  0.556033  ,  0.67030188,  0.77383685,  0.86479581,\n",
       "        0.94155388,  1.00273539,  1.04724098,  1.07426937,  1.08333333,\n",
       "        0.97222222,  0.9642969 ,  0.94064616,  0.90164388,  0.84790698,\n",
       "        0.78028623,  0.69985352,  0.60788578,  0.50584576,  0.3953599 ,\n",
       "        0.27819358,  0.15622415,  0.03141202, -0.09422979, -0.21866706,\n",
       "       -0.33987647, -0.45587783, -0.56476594, -0.66474155, -0.75414105,\n",
       "       -0.83146424, -0.89539986, -0.94484827, -0.97894104, -0.9970569 ,\n",
       "       -0.99883389, -0.98417728, -0.95326322, -0.90653788, -0.84471197,\n",
       "       -0.76875087, -0.67986023, -0.57946738, -0.46919875, -0.35085364,\n",
       "       -0.22637481, -0.09781626,  0.03269114,  0.16297564,  0.29086159,\n",
       "        0.41420679,  0.53093938,  0.63909383,  0.73684518,  0.82254102,\n",
       "        0.89473043,  0.95218964,  0.99394357,  1.01928313,  1.02777778,\n",
       "        1.02777778,  1.01928313,  0.99394357,  0.95218964,  0.89473043,\n",
       "        0.82254102,  0.73684518,  0.63909383,  0.53093938,  0.41420679,\n",
       "        0.29086159,  0.16297564,  0.03269114, -0.09781626, -0.22637481,\n",
       "       -0.35085364, -0.46919875, -0.57946738, -0.67986023, -0.76875087,\n",
       "       -0.84471197, -0.90653788, -0.95326322, -0.98417728, -0.99883389,\n",
       "       -0.9970569 , -0.97894104, -0.94484827, -0.89539986, -0.83146424,\n",
       "       -0.75414105, -0.66474155, -0.56476594, -0.45587783, -0.33987647,\n",
       "       -0.21866706, -0.09422979,  0.03141202,  0.15622415,  0.27819358,\n",
       "        0.3953599 ,  0.50584576,  0.60788578,  0.69985352,  0.78028623,\n",
       "        0.84790698,  0.90164388,  0.94064616,  0.9642969 ,  0.97222222,\n",
       "        1.08333333,  1.07426937,  1.04724098,  1.00273539,  0.94155388,\n",
       "        0.86479581,  0.77383685,  0.67030188,  0.556033  ,  0.43305369,\n",
       "        0.30352961,  0.16972712,  0.03397026, -0.10140272, -0.23408256,\n",
       "       -0.36183081, -0.48251966, -0.59416882, -0.69497891, -0.78336069,\n",
       "       -0.8579597 , -0.9176759 , -0.96167818, -0.98941351, -1.00061087,\n",
       "       -0.99527992, -0.9737048 , -0.93643331, -0.88426183, -0.81821651,\n",
       "       -0.73953122, -0.64962287, -0.5500645 , -0.44255692, -0.3288993 ,\n",
       "       -0.21095931, -0.09064333,  0.03013289,  0.14947267,  0.26552556,\n",
       "        0.376513  ,  0.48075214,  0.57667773,  0.66286185,  0.73803144,\n",
       "        0.80108353,  0.85109812,  0.88734875,  0.90931066,  0.91666667,\n",
       "        1.13888889,  1.12925561,  1.10053839,  1.05328115,  0.98837733,\n",
       "        0.90705059,  0.81082852,  0.70150993,  0.58112662,  0.45190058,\n",
       "        0.31619763,  0.1764786 ,  0.03524939, -0.10498919, -0.24179031,\n",
       "       -0.37280799, -0.49584057, -0.60887025, -0.71009758, -0.79797052,\n",
       "       -0.87120744, -0.92881393, -0.97009314, -0.99464975, -1.00238785,\n",
       "       -0.99350293, -0.96846856, -0.92801836, -0.87312381, -0.80496877,\n",
       "       -0.7249214 , -0.6345042 , -0.53536307, -0.42923601, -0.31792212,\n",
       "       -0.20325155, -0.08705686,  0.02885377,  0.14272119,  0.25285755,\n",
       "        0.35766611,  0.45565852,  0.54546968,  0.62587018,  0.69577665,\n",
       "        0.75426008,  0.80055236,  0.83405134,  0.85432442,  0.86111111,\n",
       "        1.19444444,  1.18424185,  1.1538358 ,  1.10382691,  1.03520078,\n",
       "        0.94930538,  0.84782019,  0.73271798,  0.60622023,  0.47074747,\n",
       "        0.32886564,  0.18323009,  0.03652851, -0.10857565, -0.24949807,\n",
       "       -0.38378516, -0.50916148, -0.62357169, -0.72521626, -0.81258034,\n",
       "       -0.88445517, -0.93995195, -0.97850809, -0.99988599, -1.00416484,\n",
       "       -0.99172595, -0.96323232, -0.9196034 , -0.86198578, -0.79172104,\n",
       "       -0.71031158, -0.61938552, -0.52066163, -0.4159151 , -0.30694495,\n",
       "       -0.1955438 , -0.0834704 ,  0.02757464,  0.1359697 ,  0.24018953,\n",
       "        0.33881921,  0.4305649 ,  0.51426163,  0.58887851,  0.65352186,\n",
       "        0.70743663,  0.75000661,  0.78075393,  0.79933818,  0.80555556,\n",
       "        1.25      ,  1.23922808,  1.20713321,  1.15437267,  1.08202423,\n",
       "        0.99156017,  0.88481186,  0.76392603,  0.63131385,  0.48959437,\n",
       "        0.34153366,  0.18998157,  0.03780764, -0.11216212, -0.25720582,\n",
       "       -0.39476233, -0.52248239, -0.63827313, -0.74033494, -0.82719016,\n",
       "       -0.8977029 , -0.95108998, -0.98692305, -1.00512223, -1.00594182,\n",
       "       -0.98994896, -0.95799609, -0.91118845, -0.85084776, -0.77847331,\n",
       "       -0.69570175, -0.60426684, -0.50596019, -0.40259419, -0.29596778,\n",
       "       -0.18783605, -0.07988393,  0.02629552,  0.12921822,  0.22752152,\n",
       "        0.31997232,  0.40547128,  0.48305358,  0.55188684,  0.61126707,\n",
       "        0.66061318,  0.69946085,  0.72745652,  0.74435195,  0.75      ])"
      ]
     },
     "execution_count": 229,
     "metadata": {},
     "output_type": "execute_result"
    }
   ],
   "source": [
    "x"
   ]
  },
  {
   "cell_type": "code",
   "execution_count": 161,
   "id": "551522f8-294c-4e86-91e0-a0ea2a792f7a",
   "metadata": {},
   "outputs": [],
   "source": [
    "posA = (0,0,0)\n",
    "posB = (1,1,1)\n",
    "xs, xy, xz = "
   ]
  },
  {
   "cell_type": "code",
   "execution_count": 162,
   "id": "5ac9dedb-5765-4c52-afe3-67e038e2aeeb",
   "metadata": {},
   "outputs": [
    {
     "data": {
      "text/plain": [
       "(0, 1)"
      ]
     },
     "execution_count": 162,
     "metadata": {},
     "output_type": "execute_result"
    }
   ],
   "source": [
    "xs"
   ]
  },
  {
   "cell_type": "code",
   "execution_count": null,
   "id": "3d0bc70e-228c-4b1d-99fc-a6740b964d70",
   "metadata": {},
   "outputs": [],
   "source": []
  }
 ],
 "metadata": {
  "kernelspec": {
   "display_name": "Python 3 (ipykernel)",
   "language": "python",
   "name": "python3"
  },
  "language_info": {
   "codemirror_mode": {
    "name": "ipython",
    "version": 3
   },
   "file_extension": ".py",
   "mimetype": "text/x-python",
   "name": "python",
   "nbconvert_exporter": "python",
   "pygments_lexer": "ipython3",
   "version": "3.9.12"
  }
 },
 "nbformat": 4,
 "nbformat_minor": 5
}
