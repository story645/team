{
 "cells": [
  {
   "cell_type": "code",
   "execution_count": 1,
   "id": "87dcac16",
   "metadata": {},
   "outputs": [],
   "source": [
    "%load_ext autoreload"
   ]
  },
  {
   "cell_type": "code",
   "execution_count": 2,
   "id": "93ad9a7e",
   "metadata": {},
   "outputs": [],
   "source": [
    "%autoreload 2"
   ]
  },
  {
   "cell_type": "code",
   "execution_count": 3,
   "id": "4397c2e2",
   "metadata": {},
   "outputs": [],
   "source": [
    "%matplotlib inline\n",
    "from pathlib import Path\n",
    "import functools\n",
    "import itertools\n",
    "from dataclasses import dataclass, fields\n",
    "\n",
    "import pandas as pd\n",
    "import numpy as np\n",
    "\n",
    "import matplotlib.colors as mcolors\n",
    "import matplotlib.pyplot as plt\n",
    "from matplotlib import rcParams "
   ]
  },
  {
   "cell_type": "code",
   "execution_count": 4,
   "id": "90e12391",
   "metadata": {},
   "outputs": [],
   "source": [
    "from lib import datawrap #E\n",
    "from lib import bar # artist\n",
    "from lib import color, position # encoders\n",
    "\n",
    "\n",
    "#spath = Path(\"../../../draft/figures/code/\")\n",
    "rcParams['figure.dpi'] = 200"
   ]
  },
  {
   "cell_type": "code",
   "execution_count": 5,
   "id": "cdb5bdf4",
   "metadata": {},
   "outputs": [],
   "source": [
    "data = {'fruit': ['apple', 'orange', 'lemon', 'lime'], \n",
    "       'calories':[95, 67, 17, 20], \n",
    "       'juice':[True, True, False, False]}\n",
    "df = pd.DataFrame(data)"
   ]
  },
  {
   "cell_type": "code",
   "execution_count": 32,
   "id": "c82188cf-1c72-4a2a-99fd-bb37791e73f1",
   "metadata": {},
   "outputs": [
    {
     "data": {
      "text/html": [
       "<div>\n",
       "<style scoped>\n",
       "    .dataframe tbody tr th:only-of-type {\n",
       "        vertical-align: middle;\n",
       "    }\n",
       "\n",
       "    .dataframe tbody tr th {\n",
       "        vertical-align: top;\n",
       "    }\n",
       "\n",
       "    .dataframe thead th {\n",
       "        text-align: right;\n",
       "    }\n",
       "</style>\n",
       "<table border=\"1\" class=\"dataframe\">\n",
       "  <thead>\n",
       "    <tr style=\"text-align: right;\">\n",
       "      <th></th>\n",
       "      <th>fruit</th>\n",
       "      <th>calories</th>\n",
       "      <th>juice</th>\n",
       "    </tr>\n",
       "  </thead>\n",
       "  <tbody>\n",
       "    <tr>\n",
       "      <th>0</th>\n",
       "      <td>apple</td>\n",
       "      <td>95</td>\n",
       "      <td>True</td>\n",
       "    </tr>\n",
       "    <tr>\n",
       "      <th>1</th>\n",
       "      <td>orange</td>\n",
       "      <td>67</td>\n",
       "      <td>True</td>\n",
       "    </tr>\n",
       "    <tr>\n",
       "      <th>2</th>\n",
       "      <td>lemon</td>\n",
       "      <td>17</td>\n",
       "      <td>False</td>\n",
       "    </tr>\n",
       "    <tr>\n",
       "      <th>3</th>\n",
       "      <td>lime</td>\n",
       "      <td>20</td>\n",
       "      <td>False</td>\n",
       "    </tr>\n",
       "  </tbody>\n",
       "</table>\n",
       "</div>"
      ],
      "text/plain": [
       "    fruit  calories  juice\n",
       "0   apple        95   True\n",
       "1  orange        67   True\n",
       "2   lemon        17  False\n",
       "3    lime        20  False"
      ]
     },
     "execution_count": 32,
     "metadata": {},
     "output_type": "execute_result"
    }
   ],
   "source": []
  },
  {
   "cell_type": "code",
   "execution_count": 7,
   "id": "3f63d9ee",
   "metadata": {},
   "outputs": [],
   "source": [
    "data_bounds = {('calories',):((20, 100), ), \n",
    "               ('juice', ): (None, ), \n",
    "               ('fruit',):(['orange', 'lemon', 'lime'], )}\n",
    "tau = datawrap.FruitFrameWrapper(df)"
   ]
  },
  {
   "cell_type": "code",
   "execution_count": 8,
   "id": "46b511f8",
   "metadata": {},
   "outputs": [
    {
     "data": {
      "text/plain": [
       "[{'fruit': array(['orange', 'lime'], dtype=object),\n",
       "  'calories': array([67, 20], dtype=int64),\n",
       "  'juice': array([ True, False])}]"
      ]
     },
     "execution_count": 8,
     "metadata": {},
     "output_type": "execute_result"
    }
   ],
   "source": [
    "tau.query(data_bounds)"
   ]
  },
  {
   "cell_type": "code",
   "execution_count": 9,
   "id": "ec98c849-999f-4039-a5dd-145f938e3374",
   "metadata": {},
   "outputs": [],
   "source": [
    "def broadcasted(f):\n",
    "    def nub(values):\n",
    "        if isinstance(values, str): return f(v)\n",
    "        return [f(v) for v in values]\n",
    "    return nub"
   ]
  },
  {
   "cell_type": "code",
   "execution_count": 10,
   "id": "26ceb714",
   "metadata": {},
   "outputs": [],
   "source": [
    "# should K be up front or last?\n",
    "def identity(val):\n",
    "     return val\n",
    "\n",
    "@broadcasted\n",
    "def position_encoder(val):\n",
    "    return {'apple': 0, 'orange': 2, 'lemon': 4, 'lime': 6}[val]\n",
    "\n",
    "@broadcasted\n",
    "def position_encoder_inverse(val):\n",
    "    return {0:'apple', 2:'orange', 4:'lemon', 6:'lime'}.get(val, None)\n",
    "\n",
    "def constant_color(c):\n",
    "     return lambda x: [mcolors.to_rgba(c) for _ in range(x)]\n",
    "\n",
    "def constant_value(val):\n",
    "     return lambda x: [val for _ in range(x)]\n",
    "\n",
    "    \n",
    "def composite_x_transform(ax, nu):\n",
    "    return lambda x: [ax.transData.transform((xi, 0))[0] for xi in nu(x)] # this needs to be broadcasted\n",
    "\n",
    "def composite_y_transform(ax, nu):\n",
    "     def f(y):\n",
    "          return [ax.transData.transform((0, yi))[1] for yi in nu(y)]\n",
    "     return f\n",
    "\n",
    "def composite_x_distance_transform(ax, nu):\n",
    "     def f(x):\n",
    "          return [np.abs(ax.transData.transform((xi, 0)) \n",
    "                    - ax.transData.transform((0,0)))[0] for xi in nu(x)]\n",
    "     return f\n",
    "\n",
    "def composite_y_distance_transform(ax, nu):\n",
    "     def f(y):\n",
    "          return [np.abs(ax.transData.transform((0, yi)) \n",
    "                    - ax.transData.transform((0,0)))[1] for yi in nu(y)]\n",
    "     return f\n"
   ]
  },
  {
   "cell_type": "code",
   "execution_count": 11,
   "id": "23a4d80b",
   "metadata": {},
   "outputs": [],
   "source": [
    "# multivariate nu, make key always a tuple ([possibly data class])\n",
    "fruitPos = position.Nominal({'apple': 0, 'orange': 2, 'lemon': 4, 'lime': 6})\n",
    "juiceCol = color.Nominal({True: 'navy', False: 'purple'})\n",
    "fruitCol = color.Nominal({'apple': 'xkcd:red', 'orange': 'orange', \n",
    "                         'lemon': 'gold', 'lime': 'lime'})"
   ]
  },
  {
   "cell_type": "code",
   "execution_count": 12,
   "id": "fa8af055",
   "metadata": {},
   "outputs": [],
   "source": [
    "def make_V(ax):\n",
    "    V = [('length', ('calories',), composite_y_distance_transform(ax, identity), None), \n",
    "        ('position', ('fruit',), composite_x_transform(ax, position_encoder), position_encoder_inverse),\n",
    "        ('floor', None,  composite_y_transform(ax, constant_value(0)), None), \n",
    "        ('width', None,  composite_x_distance_transform(ax, constant_value(.8)), None),\n",
    "        ('edgecolor', ('juice',), juiceCol, juiceCol.inverse),\n",
    "        ('facecolor', ('fruit',), fruitCol, fruitCol.inverse),\n",
    "        ('linewidth', None, constant_value(5), None),\n",
    "        ('linestyle', None, constant_value((0, None)), None)]\n",
    "    return V"
   ]
  },
  {
   "cell_type": "code",
   "execution_count": 13,
   "id": "d7d58226",
   "metadata": {},
   "outputs": [
    {
     "data": {
      "image/png": "[encoded data removed]",
      "text/plain": [
       "<Figure size 1200x800 with 1 Axes>"
      ]
     },
     "metadata": {
      "needs_background": "light"
     },
     "output_type": "display_data"
    }
   ],
   "source": [
    "fig, ax = plt.subplots()\n",
    "dbar = bar.Bar()\n",
    "for (p, f, nu, nu_inv) in make_V(ax):\n",
    "    pbar = dbar.compose_with_nu(p, f, nu, nu_inv)\n",
    "\n",
    "axesArtist = bar.GenericArtist(pbar)\n",
    "axesArtist.compose_with_tau(tau)\n",
    "ax.add_artist(axesArtist)\n",
    "ax.set(xlim=(-1, 10 ), ylim=(0, 110))\n",
    "fig.savefig(\"../paper/figures/bar\", bbox_inches='tight')"
   ]
  },
  {
   "cell_type": "code",
   "execution_count": 14,
   "id": "6f804ac5",
   "metadata": {},
   "outputs": [
    {
     "ename": "AttributeError",
     "evalue": "'Bar' object has no attribute 'data'",
     "output_type": "error",
     "traceback": [
      "\u001b[1;31m---------------------------------------------------------------------------\u001b[0m",
      "\u001b[1;31mAttributeError\u001b[0m                            Traceback (most recent call last)",
      "Input \u001b[1;32mIn [14]\u001b[0m, in \u001b[0;36m<cell line: 8>\u001b[1;34m()\u001b[0m\n\u001b[0;32m      6\u001b[0m renderer \u001b[38;5;241m=\u001b[39m RendererAgg(\u001b[38;5;241m500\u001b[39m, \u001b[38;5;241m400\u001b[39m, \u001b[38;5;241m100\u001b[39m)\n\u001b[0;32m      7\u001b[0m bounds, dpi \u001b[38;5;241m=\u001b[39m axesArtist\u001b[38;5;241m.\u001b[39mget_screen_bounds_to_data_bounds(renderer)\n\u001b[1;32m----> 8\u001b[0m tau_r \u001b[38;5;241m=\u001b[39m \u001b[43maxesArtist\u001b[49m\u001b[38;5;241;43m.\u001b[39;49m\u001b[43martist\u001b[49m\u001b[38;5;241;43m.\u001b[39;49m\u001b[43mdata\u001b[49m\u001b[38;5;241m.\u001b[39mquery(bounds, dpi)\n\u001b[0;32m      9\u001b[0m \u001b[38;5;28;01mfor\u001b[39;00m tr \u001b[38;5;129;01min\u001b[39;00m tau_r:\n\u001b[0;32m     10\u001b[0m     mu \u001b[38;5;241m=\u001b[39m axesArtist\u001b[38;5;241m.\u001b[39martist\u001b[38;5;241m.\u001b[39mgraphic\u001b[38;5;241m.\u001b[39mmu(tr)\n",
      "\u001b[1;31mAttributeError\u001b[0m: 'Bar' object has no attribute 'data'"
     ]
    }
   ],
   "source": [
    "import matplotlib.image as mimage\n",
    "from matplotlib.backends.backend_agg import RendererAgg\n",
    "\n",
    "# this is what GenericArtist is doing\n",
    "\n",
    "renderer = RendererAgg(500, 400, 100)\n",
    "bounds, dpi = axesArtist.get_screen_bounds_to_data_bounds(renderer)\n",
    "tau_r = axesArtist.data.query(bounds, dpi)\n",
    "for tr in tau_r:\n",
    "    mu = axesArtist..graphic.mu(tr)\n",
    "    rho = axesArtist.artist.graphic.qhat(**mu)\n",
    "    H = rho(renderer)\n",
    "\n",
    "mimage.imsave('bar2.png', renderer.buffer_rgba(),\n",
    "              format='png', origin='upper', dpi=100)\n"
   ]
  },
  {
   "cell_type": "code",
   "execution_count": 27,
   "id": "be45da8b",
   "metadata": {},
   "outputs": [],
   "source": [
    "def make_VH(ax):\n",
    "    V = [('length', ('calories',), composite_x_distance_transform(ax, identity), None), \n",
    "        ('position', ('fruit',), composite_y_transform(ax, position_encoder), position_encoder_inverse),\n",
    "        ('floor', None,  composite_y_transform(ax, constant_value(0)), None), \n",
    "        ('width', None,  composite_y_distance_transform(ax, constant_value(.8)), None),\n",
    "        ('edgecolor', ('juice',), juiceCol, juiceCol.inverse),\n",
    "        ('facecolor', ('fruit',), fruitCol, fruitCol.inverse),\n",
    "        ('linewidth', None, constant_value(5), None),\n",
    "        ('linestyle', None, constant_value((0, None)), None)]\n",
    "    return V"
   ]
  },
  {
   "cell_type": "markdown",
   "id": "ef3a52de",
   "metadata": {},
   "source": []
  },
  {
   "cell_type": "code",
   "execution_count": 31,
   "id": "d2b9539b",
   "metadata": {},
   "outputs": [
    {
     "data": {
      "image/png": "[encoded data removed]",
      "text/plain": [
       "<Figure size 1200x800 with 1 Axes>"
      ]
     },
     "metadata": {
      "needs_background": "light"
     },
     "output_type": "display_data"
    }
   ],
   "source": [
    "fig, ax = plt.subplots()\n",
    "dbarh = bar.BarH()\n",
    "for (pi, fi, nui, nu_inv) in make_VH(ax):\n",
    "      pbarh = dbarh.compose_with_nu(pi, fi, nui)\n",
    "\n",
    "axesArtisth = bar.GenericArtist(pbarh)\n",
    "axesArtisth.compose_with_tau(tau)\n",
    "ax.add_artist(axesArtisth)\n",
    "ax.set(ylim=(0,8), xlim=(0, 110))\n",
    "fig.savefig(\"../paper/figures/barh\", bbox_inches='tight')"
   ]
  },
  {
   "cell_type": "code",
   "execution_count": 26,
   "id": "043ab476",
   "metadata": {},
   "outputs": [
    {
     "data": {
      "image/png": "[encoded data removed]",
      "text/plain": [
       "<Figure size 1200x800 with 2 Axes>"
      ]
     },
     "metadata": {
      "needs_background": "light"
     },
     "output_type": "display_data"
    }
   ],
   "source": [
    "fig, (ax1, ax2) = plt.subplots(ncols=2)\n",
    "\n",
    "dbar = bar.Bar()\n",
    "\n",
    "for (p, f, nu, nu_inv) in make_V(ax1):\n",
    "    pbar = dbar.compose_with_nu(p, f, nu, nu_inv)\n",
    "\n",
    "axesArtist = bar.GenericArtist(pbar)\n",
    "axesArtist.compose_with_tau(tau)\n",
    "ax1.add_artist(axesArtist)\n",
    "ax1.set(xlim=(-1, 10 ), ylim=(0, 110))\n",
    "\n",
    "\n",
    "dbarh = bar.BarH()\n",
    "for (pi, fi, nui, nu_inv) in make_VH(ax2):\n",
    "      pbarh = dbarh.compose_with_nu(pi, fi, nui)\n",
    "\n",
    "axesArtisth = bar.GenericArtist(pbarh)\n",
    "axesArtisth.compose_with_tau(tau)\n",
    "ax2.add_artist(axesArtisth)\n",
    "ax2.set(ylim=(0,8), xlim=(0, 110))\n",
    "\n",
    "fig.savefig(\"../paper/figures/barboth\", bbox_inches='tight')\n"
   ]
  },
  {
   "cell_type": "code",
   "execution_count": null,
   "id": "c3ff5d24-e544-45a9-b869-495fd69d9cb3",
   "metadata": {},
   "outputs": [],
   "source": []
  }
 ],
 "metadata": {
  "interpreter": {
   "hash": "7cea9f571e0344ece82ed7033289576376b8a2ba334b8743df74c8683c2af35f"
  },
  "kernelspec": {
   "display_name": "Python 3",
   "language": "python",
   "name": "python3"
  },
  "language_info": {
   "codemirror_mode": {
    "name": "ipython",
    "version": 3
   },
   "file_extension": ".py",
   "mimetype": "text/x-python",
   "name": "python",
   "nbconvert_exporter": "python",
   "pygments_lexer": "ipython3",
   "version": "3.8.10"
  }
 },
 "nbformat": 4,
 "nbformat_minor": 5
}
